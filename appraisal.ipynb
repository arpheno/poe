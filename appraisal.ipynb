{
 "cells": [
  {
   "cell_type": "code",
   "execution_count": 1,
   "metadata": {},
   "outputs": [],
   "source": [
    "import pandas as pd\n",
    "from item_builder import build_items\n",
    "from itertools import groupby\n",
    "import seaborn as sns\n",
    "import matplotlib.pyplot as plt\n",
    "import numpy as np\n",
    "import datetime\n",
    "import glob\n",
    "from constants import currency_shards\n",
    "\n",
    "import plotly.express as px\n",
    "\n",
    "from fractions import Fraction\n",
    "import math\n",
    "from ninja import currencyreport,refine_report\n",
    "from currency_conversion import conversion\n",
    "from constants import hard_currency,price_in\n",
    "%matplotlib inline\n",
    "%load_ext autoreload\n",
    "%autoreload 2\n",
    "\n"
   ]
  },
  {
   "cell_type": "code",
   "execution_count": 2,
   "metadata": {},
   "outputs": [
    {
     "name": "stdout",
     "output_type": "stream",
     "text": [
      "https://poe.ninja/api/data/currencyoverview Fragment 200\n",
      "https://poe.ninja/api/data/currencyoverview Currency 200\n",
      "https://poe.ninja/api/data/itemoverview Scarab 200\n",
      "https://poe.ninja/api/data/itemoverview Oil 200\n",
      "https://poe.ninja/api/data/itemoverview Fossil 200\n",
      "https://poe.ninja/api/data/itemoverview Resonator 200\n",
      "https://poe.ninja/api/data/itemoverview Prophecy 200\n",
      "https://poe.ninja/api/data/itemoverview Incubator 200\n",
      "https://poe.ninja/api/data/itemoverview UniqueMap 200\n",
      "https://poe.ninja/api/data/itemoverview UniqueJewel 200\n",
      "https://poe.ninja/api/data/itemoverview UniqueFlask 200\n",
      "https://poe.ninja/api/data/itemoverview UniqueArmour 200\n",
      "https://poe.ninja/api/data/itemoverview UniqueWeapon 200\n",
      "https://poe.ninja/api/data/itemoverview UniqueAccessory 200\n",
      "https://poe.ninja/api/data/itemoverview Essence 200\n",
      "https://poe.ninja/api/data/itemoverview DeliriumOrb 200\n",
      "https://poe.ninja/api/data/itemoverview DivinationCard 200\n",
      "https://poe.ninja/api/data/itemoverview Map 200\n",
      "https://poe.ninja/api/data/currencyoverview Fragment 200\n",
      "https://poe.ninja/api/data/currencyoverview Currency 200\n"
     ]
    }
   ],
   "source": [
    "items=build_items()\n",
    "items = [item for item in items if  item.stashtab=='appraisal']\n",
    "cr=currencyreport()\n",
    "now=datetime.datetime.now().strftime('%Y-%m-%d-%H-%M-%s')\n",
    "cr.to_csv(f'currency_reports/{now}.csv')\n",
    "cr=refine_report(cr)\n",
    "cr=cr.set_index('get_currency')\n",
    "cr=cr[cr['receive']==False]\n"
   ]
  },
  {
   "cell_type": "code",
   "execution_count": 3,
   "metadata": {},
   "outputs": [
    {
     "data": {
      "text/plain": [
       "[kwargs_dataclass.<locals>.Als(inventoryId='Stash11', typeLine='Mysterious Invaders', x=0, y=8, league='Ultimatum', stashtab='appraisal', stackSize=1, price=1.0, type='Prophecy', name='', sockets=(), properties={}),\n",
       " kwargs_dataclass.<locals>.Als(inventoryId='Stash11', typeLine='The Lost Maps', x=0, y=2, league='Ultimatum', stashtab='appraisal', stackSize=1, price=1.0, type='Prophecy', name='', sockets=(), properties={}),\n",
       " kwargs_dataclass.<locals>.Als(inventoryId='Stash11', typeLine='The Mysterious Gift', x=0, y=10, league='Ultimatum', stashtab='appraisal', stackSize=1, price=1.0, type='Prophecy', name='', sockets=(), properties={}),\n",
       " kwargs_dataclass.<locals>.Als(inventoryId='Stash11', typeLine='A Regal Death', x=1, y=0, league='Ultimatum', stashtab='appraisal', stackSize=1, price=1.0, type='Prophecy', name='', sockets=(), properties={}),\n",
       " kwargs_dataclass.<locals>.Als(inventoryId='Stash11', typeLine='Risen Blood', x=0, y=9, league='Ultimatum', stashtab='appraisal', stackSize=1, price=1.0, type='Prophecy', name='', sockets=(), properties={}),\n",
       " kwargs_dataclass.<locals>.Als(inventoryId='Stash11', typeLine='Gilded Within', x=0, y=7, league='Ultimatum', stashtab='appraisal', stackSize=1, price=1.0, type='Prophecy', name='', sockets=(), properties={}),\n",
       " kwargs_dataclass.<locals>.Als(inventoryId='Stash11', typeLine='The Sharpened Blade', x=0, y=4, league='Ultimatum', stashtab='appraisal', stackSize=1, price=1.0, type='Prophecy', name='', sockets=(), properties={}),\n",
       " kwargs_dataclass.<locals>.Als(inventoryId='Stash11', typeLine='The Sharpened Blade', x=0, y=5, league='Ultimatum', stashtab='appraisal', stackSize=1, price=1.0, type='Prophecy', name='', sockets=(), properties={}),\n",
       " kwargs_dataclass.<locals>.Als(inventoryId='Stash11', typeLine='Soil, Worms and Blood', x=1, y=4, league='Ultimatum', stashtab='appraisal', stackSize=1, price=1.0, type='Prophecy', name='', sockets=(), properties={}),\n",
       " kwargs_dataclass.<locals>.Als(inventoryId='Stash11', typeLine='Golden Touch', x=0, y=3, league='Ultimatum', stashtab='appraisal', stackSize=1, price=0.96, type='Prophecy', name='', sockets=(), properties={}),\n",
       " kwargs_dataclass.<locals>.Als(inventoryId='Stash11', typeLine='The Mysterious Gift', x=0, y=11, league='Ultimatum', stashtab='appraisal', stackSize=1, price=1.0, type='Prophecy', name='', sockets=(), properties={}),\n",
       " kwargs_dataclass.<locals>.Als(inventoryId='Stash11', typeLine='A Valuable Combination', x=1, y=3, league='Ultimatum', stashtab='appraisal', stackSize=1, price=0.89, type='Prophecy', name='', sockets=(), properties={}),\n",
       " kwargs_dataclass.<locals>.Als(inventoryId='Stash11', typeLine='The Brothers of Necromancy', x=1, y=2, league='Ultimatum', stashtab='appraisal', stackSize=1, price=1.0, type='Prophecy', name='', sockets=(), properties={}),\n",
       " kwargs_dataclass.<locals>.Als(inventoryId='Stash11', typeLine='The Feral Lord I', x=0, y=6, league='Ultimatum', stashtab='appraisal', stackSize=1, price=1.0, type='Prophecy', name='', sockets=(), properties={}),\n",
       " kwargs_dataclass.<locals>.Als(inventoryId='Stash11', typeLine=\"Kalandra's Craft\", x=5, y=1, league='Ultimatum', stashtab='appraisal', stackSize=1, price=1.0, type='Prophecy', name='', sockets=(), properties={}),\n",
       " kwargs_dataclass.<locals>.Als(inventoryId='Stash11', typeLine='Waiting in Ambush', x=3, y=1, league='Ultimatum', stashtab='appraisal', stackSize=1, price=1.0, type='Prophecy', name='', sockets=(), properties={}),\n",
       " kwargs_dataclass.<locals>.Als(inventoryId='Stash11', typeLine='Plague of Frogs', x=2, y=3, league='Ultimatum', stashtab='appraisal', stackSize=1, price=1.58, type='Prophecy', name='', sockets=(), properties={}),\n",
       " kwargs_dataclass.<locals>.Als(inventoryId='Stash11', typeLine=\"The Fortune Teller's Collection\", x=2, y=4, league='Ultimatum', stashtab='appraisal', stackSize=1, price=1.0, type='Prophecy', name='', sockets=(), properties={}),\n",
       " kwargs_dataclass.<locals>.Als(inventoryId='Stash11', typeLine='The Sharpened Blade', x=2, y=0, league='Ultimatum', stashtab='appraisal', stackSize=1, price=1.0, type='Prophecy', name='', sockets=(), properties={}),\n",
       " kwargs_dataclass.<locals>.Als(inventoryId='Stash11', typeLine='The Feral Lord I', x=3, y=2, league='Ultimatum', stashtab='appraisal', stackSize=1, price=1.0, type='Prophecy', name='', sockets=(), properties={}),\n",
       " kwargs_dataclass.<locals>.Als(inventoryId='Stash11', typeLine='Smothering Tendrils', x=3, y=3, league='Ultimatum', stashtab='appraisal', stackSize=1, price=1.0, type='Prophecy', name='', sockets=(), properties={}),\n",
       " kwargs_dataclass.<locals>.Als(inventoryId='Stash11', typeLine='Risen Blood', x=2, y=9, league='Ultimatum', stashtab='appraisal', stackSize=1, price=1.0, type='Prophecy', name='', sockets=(), properties={}),\n",
       " kwargs_dataclass.<locals>.Als(inventoryId='Stash11', typeLine='Unbearable Whispers I', x=4, y=0, league='Ultimatum', stashtab='appraisal', stackSize=1, price=1.0, type='Prophecy', name='', sockets=(), properties={}),\n",
       " kwargs_dataclass.<locals>.Als(inventoryId='Stash11', typeLine='The Lost Maps', x=3, y=5, league='Ultimatum', stashtab='appraisal', stackSize=1, price=1.0, type='Prophecy', name='', sockets=(), properties={}),\n",
       " kwargs_dataclass.<locals>.Als(inventoryId='Stash11', typeLine='Hidden Reinforcements', x=2, y=7, league='Ultimatum', stashtab='appraisal', stackSize=1, price=1.0, type='Prophecy', name='', sockets=(), properties={}),\n",
       " kwargs_dataclass.<locals>.Als(inventoryId='Stash11', typeLine='The Wealthy Exile', x=3, y=8, league='Ultimatum', stashtab='appraisal', stackSize=1, price=0.87, type='Prophecy', name='', sockets=(), properties={}),\n",
       " kwargs_dataclass.<locals>.Als(inventoryId='Stash11', typeLine='Beyond Sight I', x=3, y=10, league='Ultimatum', stashtab='appraisal', stackSize=1, price=1.0, type='Prophecy', name='', sockets=(), properties={}),\n",
       " kwargs_dataclass.<locals>.Als(inventoryId='Stash11', typeLine='Smothering Tendrils', x=3, y=9, league='Ultimatum', stashtab='appraisal', stackSize=1, price=1.0, type='Prophecy', name='', sockets=(), properties={}),\n",
       " kwargs_dataclass.<locals>.Als(inventoryId='Stash11', typeLine='Waiting in Ambush', x=4, y=6, league='Ultimatum', stashtab='appraisal', stackSize=1, price=1.0, type='Prophecy', name='', sockets=(), properties={}),\n",
       " kwargs_dataclass.<locals>.Als(inventoryId='Stash11', typeLine='Rebirth', x=4, y=5, league='Ultimatum', stashtab='appraisal', stackSize=1, price=1.0, type='Prophecy', name='', sockets=(), properties={}),\n",
       " kwargs_dataclass.<locals>.Als(inventoryId='Stash11', typeLine='The Cursed Choir', x=4, y=2, league='Ultimatum', stashtab='appraisal', stackSize=1, price=1.0, type='Prophecy', name='', sockets=(), properties={}),\n",
       " kwargs_dataclass.<locals>.Als(inventoryId='Stash11', typeLine='The God of Misfortune', x=4, y=3, league='Ultimatum', stashtab='appraisal', stackSize=1, price=1.0, type='Prophecy', name='', sockets=(), properties={}),\n",
       " kwargs_dataclass.<locals>.Als(inventoryId='Stash11', typeLine='Possessed Foe', x=4, y=1, league='Ultimatum', stashtab='appraisal', stackSize=1, price=1.0, type='Prophecy', name='', sockets=(), properties={}),\n",
       " kwargs_dataclass.<locals>.Als(inventoryId='Stash11', typeLine='The Silverwood', x=3, y=4, league='Ultimatum', stashtab='appraisal', stackSize=1, price=2.0, type='Prophecy', name='', sockets=(), properties={}),\n",
       " kwargs_dataclass.<locals>.Als(inventoryId='Stash11', typeLine='The Beautiful Guide', x=3, y=6, league='Ultimatum', stashtab='appraisal', stackSize=1, price=2.0, type='Prophecy', name='', sockets=(), properties={}),\n",
       " kwargs_dataclass.<locals>.Als(inventoryId='Stash11', typeLine='Gilded Within', x=3, y=7, league='Ultimatum', stashtab='appraisal', stackSize=1, price=1.0, type='Prophecy', name='', sockets=(), properties={}),\n",
       " kwargs_dataclass.<locals>.Als(inventoryId='Stash11', typeLine='Twice Enchanted', x=2, y=10, league='Ultimatum', stashtab='appraisal', stackSize=1, price=7.0, type='Prophecy', name='', sockets=(), properties={}),\n",
       " kwargs_dataclass.<locals>.Als(inventoryId='Stash11', typeLine='Waiting in Ambush', x=2, y=11, league='Ultimatum', stashtab='appraisal', stackSize=1, price=1.0, type='Prophecy', name='', sockets=(), properties={}),\n",
       " kwargs_dataclass.<locals>.Als(inventoryId='Stash11', typeLine='Day of Sacrifice I', x=3, y=0, league='Ultimatum', stashtab='appraisal', stackSize=1, price=1.0, type='Prophecy', name='', sockets=(), properties={}),\n",
       " kwargs_dataclass.<locals>.Als(inventoryId='Stash11', typeLine='The Sharpened Blade', x=2, y=8, league='Ultimatum', stashtab='appraisal', stackSize=1, price=1.0, type='Prophecy', name='', sockets=(), properties={}),\n",
       " kwargs_dataclass.<locals>.Als(inventoryId='Stash11', typeLine='The Silverwood', x=3, y=11, league='Ultimatum', stashtab='appraisal', stackSize=1, price=2.0, type='Prophecy', name='', sockets=(), properties={}),\n",
       " kwargs_dataclass.<locals>.Als(inventoryId='Stash11', typeLine='The Feral Lord I', x=4, y=4, league='Ultimatum', stashtab='appraisal', stackSize=1, price=1.0, type='Prophecy', name='', sockets=(), properties={}),\n",
       " kwargs_dataclass.<locals>.Als(inventoryId='Stash11', typeLine='The Alchemist', x=4, y=7, league='Ultimatum', stashtab='appraisal', stackSize=1, price=1.0, type='Prophecy', name='', sockets=(), properties={}),\n",
       " kwargs_dataclass.<locals>.Als(inventoryId='Stash11', typeLine='The Sharpened Blade', x=1, y=11, league='Ultimatum', stashtab='appraisal', stackSize=1, price=1.0, type='Prophecy', name='', sockets=(), properties={}),\n",
       " kwargs_dataclass.<locals>.Als(inventoryId='Stash11', typeLine=\"The Dreamer's Dream\", x=0, y=0, league='Ultimatum', stashtab='appraisal', stackSize=1, price=1.0, type='Prophecy', name='', sockets=(), properties={}),\n",
       " kwargs_dataclass.<locals>.Als(inventoryId='Stash11', typeLine='Bountiful Traps', x=0, y=1, league='Ultimatum', stashtab='appraisal', stackSize=1, price=2.0, type='Prophecy', name='', sockets=(), properties={}),\n",
       " kwargs_dataclass.<locals>.Als(inventoryId='Stash11', typeLine='The Mysterious Gift', x=1, y=1, league='Ultimatum', stashtab='appraisal', stackSize=1, price=1.0, type='Prophecy', name='', sockets=(), properties={}),\n",
       " kwargs_dataclass.<locals>.Als(inventoryId='Stash11', typeLine='The Invader', x=1, y=8, league='Ultimatum', stashtab='appraisal', stackSize=1, price=1.0, type='Prophecy', name='', sockets=(), properties={}),\n",
       " kwargs_dataclass.<locals>.Als(inventoryId='Stash11', typeLine='A Regal Death', x=1, y=10, league='Ultimatum', stashtab='appraisal', stackSize=1, price=1.0, type='Prophecy', name='', sockets=(), properties={}),\n",
       " kwargs_dataclass.<locals>.Als(inventoryId='Stash11', typeLine='Fire from the Sky', x=1, y=9, league='Ultimatum', stashtab='appraisal', stackSize=1, price=2.0, type='Prophecy', name='', sockets=(), properties={}),\n",
       " kwargs_dataclass.<locals>.Als(inventoryId='Stash11', typeLine='Ending the Torment', x=2, y=6, league='Ultimatum', stashtab='appraisal', stackSize=1, price=1.0, type='Prophecy', name='', sockets=(), properties={}),\n",
       " kwargs_dataclass.<locals>.Als(inventoryId='Stash11', typeLine='Lasting Impressions', x=2, y=5, league='Ultimatum', stashtab='appraisal', stackSize=1, price=1.0, type='Prophecy', name='', sockets=(), properties={}),\n",
       " kwargs_dataclass.<locals>.Als(inventoryId='Stash11', typeLine='Hidden Reinforcements', x=2, y=1, league='Ultimatum', stashtab='appraisal', stackSize=1, price=1.0, type='Prophecy', name='', sockets=(), properties={}),\n",
       " kwargs_dataclass.<locals>.Als(inventoryId='Stash11', typeLine='Rebirth', x=2, y=2, league='Ultimatum', stashtab='appraisal', stackSize=1, price=1.0, type='Prophecy', name='', sockets=(), properties={}),\n",
       " kwargs_dataclass.<locals>.Als(inventoryId='Stash11', typeLine='The Scout', x=1, y=5, league='Ultimatum', stashtab='appraisal', stackSize=1, price=1.0, type='Prophecy', name='', sockets=(), properties={}),\n",
       " kwargs_dataclass.<locals>.Als(inventoryId='Stash11', typeLine='Twice Enchanted', x=1, y=6, league='Ultimatum', stashtab='appraisal', stackSize=1, price=7.0, type='Prophecy', name='', sockets=(), properties={}),\n",
       " kwargs_dataclass.<locals>.Als(inventoryId='Stash11', typeLine='The Feral Lord I', x=1, y=7, league='Ultimatum', stashtab='appraisal', stackSize=1, price=1.0, type='Prophecy', name='', sockets=(), properties={})]"
      ]
     },
     "execution_count": 3,
     "metadata": {},
     "output_type": "execute_result"
    }
   ],
   "source": [
    "items"
   ]
  },
  {
   "cell_type": "code",
   "execution_count": 4,
   "metadata": {},
   "outputs": [
    {
     "name": "stdout",
     "output_type": "stream",
     "text": [
      "Series([], Name: type_line, dtype: object)\n"
     ]
    }
   ],
   "source": [
    "df=pd.DataFrame([dict(chaos_value=item.value,type=item.type,type_line=item.type_line,price=item.price,shoplink_template=item.shoplink_template,stack_size=item.stack_size) for item in items])\n",
    "df.loc[df.type_line.isin(hard_currency),'type']='Hard Currency'\n",
    "df.loc[df.type_line=='Chaos Orb','chaos_value']=df.loc[df.type_line=='Chaos Orb','stack_size']\n",
    "inventory=df[~df['type'].isin([None])&(df.chaos_value>0)]\n",
    "worthless=df[(df.chaos_value==0)&df.type.str.contains('Uniq')]\n",
    "\n",
    "print(worthless['type_line'])"
   ]
  },
  {
   "cell_type": "code",
   "execution_count": 5,
   "metadata": {},
   "outputs": [],
   "source": [
    "notcurrency=inventory.groupby('type').sum().sort_values(ascending=False,by='chaos_value')\n",
    "currency=inventory[inventory.type=='Currency'].groupby('type_line').sum()['chaos_value'].reset_index()\n",
    "currency.loc[currency.chaos_value<5,'type_line']='other'\n",
    "currency=currency.groupby('type_line').sum().sort_values(ascending=False,by='chaos_value')\n",
    "total_on_offer=inventory[~inventory.type.isin(['Currency','Hard Currency'])]"
   ]
  },
  {
   "cell_type": "code",
   "execution_count": null,
   "metadata": {
    "pycharm": {
     "name": "#%%\n"
    }
   },
   "outputs": [],
   "source": []
  },
  {
   "cell_type": "code",
   "execution_count": 6,
   "metadata": {
    "pycharm": {
     "name": "#%%\n"
    }
   },
   "outputs": [
    {
     "data": {
      "text/html": [
       "<div>\n",
       "<style scoped>\n",
       "    .dataframe tbody tr th:only-of-type {\n",
       "        vertical-align: middle;\n",
       "    }\n",
       "\n",
       "    .dataframe tbody tr th {\n",
       "        vertical-align: top;\n",
       "    }\n",
       "\n",
       "    .dataframe thead th {\n",
       "        text-align: right;\n",
       "    }\n",
       "</style>\n",
       "<table border=\"1\" class=\"dataframe\">\n",
       "  <thead>\n",
       "    <tr style=\"text-align: right;\">\n",
       "      <th></th>\n",
       "      <th>chaos_value</th>\n",
       "      <th>type</th>\n",
       "      <th>type_line</th>\n",
       "      <th>price</th>\n",
       "      <th>shoplink_template</th>\n",
       "      <th>stack_size</th>\n",
       "    </tr>\n",
       "  </thead>\n",
       "  <tbody>\n",
       "    <tr>\n",
       "      <th>9</th>\n",
       "      <td>0.96</td>\n",
       "      <td>Prophecy</td>\n",
       "      <td>Golden Touch</td>\n",
       "      <td>0.96</td>\n",
       "      <td>[linkItem location=\"Stash11\" league=\"Ultimatum...</td>\n",
       "      <td>1</td>\n",
       "    </tr>\n",
       "    <tr>\n",
       "      <th>36</th>\n",
       "      <td>7.00</td>\n",
       "      <td>Prophecy</td>\n",
       "      <td>Twice Enchanted</td>\n",
       "      <td>7.00</td>\n",
       "      <td>[linkItem location=\"Stash11\" league=\"Ultimatum...</td>\n",
       "      <td>1</td>\n",
       "    </tr>\n",
       "    <tr>\n",
       "      <th>43</th>\n",
       "      <td>1.00</td>\n",
       "      <td>Prophecy</td>\n",
       "      <td>The Sharpened Blade</td>\n",
       "      <td>1.00</td>\n",
       "      <td>[linkItem location=\"Stash11\" league=\"Ultimatum...</td>\n",
       "      <td>1</td>\n",
       "    </tr>\n",
       "    <tr>\n",
       "      <th>54</th>\n",
       "      <td>1.00</td>\n",
       "      <td>Prophecy</td>\n",
       "      <td>The Scout</td>\n",
       "      <td>1.00</td>\n",
       "      <td>[linkItem location=\"Stash11\" league=\"Ultimatum...</td>\n",
       "      <td>1</td>\n",
       "    </tr>\n",
       "    <tr>\n",
       "      <th>23</th>\n",
       "      <td>1.00</td>\n",
       "      <td>Prophecy</td>\n",
       "      <td>The Lost Maps</td>\n",
       "      <td>1.00</td>\n",
       "      <td>[linkItem location=\"Stash11\" league=\"Ultimatum...</td>\n",
       "      <td>1</td>\n",
       "    </tr>\n",
       "    <tr>\n",
       "      <th>34</th>\n",
       "      <td>2.00</td>\n",
       "      <td>Prophecy</td>\n",
       "      <td>The Beautiful Guide</td>\n",
       "      <td>2.00</td>\n",
       "      <td>[linkItem location=\"Stash11\" league=\"Ultimatum...</td>\n",
       "      <td>1</td>\n",
       "    </tr>\n",
       "    <tr>\n",
       "      <th>45</th>\n",
       "      <td>2.00</td>\n",
       "      <td>Prophecy</td>\n",
       "      <td>Bountiful Traps</td>\n",
       "      <td>2.00</td>\n",
       "      <td>[linkItem location=\"Stash11\" league=\"Ultimatum...</td>\n",
       "      <td>1</td>\n",
       "    </tr>\n",
       "    <tr>\n",
       "      <th>52</th>\n",
       "      <td>1.00</td>\n",
       "      <td>Prophecy</td>\n",
       "      <td>Hidden Reinforcements</td>\n",
       "      <td>1.00</td>\n",
       "      <td>[linkItem location=\"Stash11\" league=\"Ultimatum...</td>\n",
       "      <td>1</td>\n",
       "    </tr>\n",
       "    <tr>\n",
       "      <th>19</th>\n",
       "      <td>1.00</td>\n",
       "      <td>Prophecy</td>\n",
       "      <td>The Feral Lord I</td>\n",
       "      <td>1.00</td>\n",
       "      <td>[linkItem location=\"Stash11\" league=\"Ultimatum...</td>\n",
       "      <td>1</td>\n",
       "    </tr>\n",
       "    <tr>\n",
       "      <th>56</th>\n",
       "      <td>1.00</td>\n",
       "      <td>Prophecy</td>\n",
       "      <td>The Feral Lord I</td>\n",
       "      <td>1.00</td>\n",
       "      <td>[linkItem location=\"Stash11\" league=\"Ultimatum...</td>\n",
       "      <td>1</td>\n",
       "    </tr>\n",
       "  </tbody>\n",
       "</table>\n",
       "</div>"
      ],
      "text/plain": [
       "    chaos_value      type              type_line  price  \\\n",
       "9          0.96  Prophecy           Golden Touch   0.96   \n",
       "36         7.00  Prophecy        Twice Enchanted   7.00   \n",
       "43         1.00  Prophecy    The Sharpened Blade   1.00   \n",
       "54         1.00  Prophecy              The Scout   1.00   \n",
       "23         1.00  Prophecy          The Lost Maps   1.00   \n",
       "34         2.00  Prophecy    The Beautiful Guide   2.00   \n",
       "45         2.00  Prophecy        Bountiful Traps   2.00   \n",
       "52         1.00  Prophecy  Hidden Reinforcements   1.00   \n",
       "19         1.00  Prophecy       The Feral Lord I   1.00   \n",
       "56         1.00  Prophecy       The Feral Lord I   1.00   \n",
       "\n",
       "                                    shoplink_template  stack_size  \n",
       "9   [linkItem location=\"Stash11\" league=\"Ultimatum...           1  \n",
       "36  [linkItem location=\"Stash11\" league=\"Ultimatum...           1  \n",
       "43  [linkItem location=\"Stash11\" league=\"Ultimatum...           1  \n",
       "54  [linkItem location=\"Stash11\" league=\"Ultimatum...           1  \n",
       "23  [linkItem location=\"Stash11\" league=\"Ultimatum...           1  \n",
       "34  [linkItem location=\"Stash11\" league=\"Ultimatum...           1  \n",
       "45  [linkItem location=\"Stash11\" league=\"Ultimatum...           1  \n",
       "52  [linkItem location=\"Stash11\" league=\"Ultimatum...           1  \n",
       "19  [linkItem location=\"Stash11\" league=\"Ultimatum...           1  \n",
       "56  [linkItem location=\"Stash11\" league=\"Ultimatum...           1  "
      ]
     },
     "execution_count": 6,
     "metadata": {},
     "output_type": "execute_result"
    }
   ],
   "source": [
    "total_on_offer.sample(10)"
   ]
  },
  {
   "cell_type": "code",
   "execution_count": 7,
   "metadata": {},
   "outputs": [
    {
     "data": {
      "text/html": [
       "<div>\n",
       "<style scoped>\n",
       "    .dataframe tbody tr th:only-of-type {\n",
       "        vertical-align: middle;\n",
       "    }\n",
       "\n",
       "    .dataframe tbody tr th {\n",
       "        vertical-align: top;\n",
       "    }\n",
       "\n",
       "    .dataframe thead th {\n",
       "        text-align: right;\n",
       "    }\n",
       "</style>\n",
       "<table border=\"1\" class=\"dataframe\">\n",
       "  <thead>\n",
       "    <tr style=\"text-align: right;\">\n",
       "      <th></th>\n",
       "      <th>chaos_value</th>\n",
       "      <th>price</th>\n",
       "      <th>stack_size</th>\n",
       "    </tr>\n",
       "    <tr>\n",
       "      <th>type</th>\n",
       "      <th></th>\n",
       "      <th></th>\n",
       "      <th></th>\n",
       "    </tr>\n",
       "  </thead>\n",
       "  <tbody>\n",
       "    <tr>\n",
       "      <th>Prophecy</th>\n",
       "      <td>74.3</td>\n",
       "      <td>74.3</td>\n",
       "      <td>57</td>\n",
       "    </tr>\n",
       "  </tbody>\n",
       "</table>\n",
       "</div>"
      ],
      "text/plain": [
       "          chaos_value  price  stack_size\n",
       "type                                    \n",
       "Prophecy         74.3   74.3          57"
      ]
     },
     "execution_count": 7,
     "metadata": {},
     "output_type": "execute_result"
    }
   ],
   "source": [
    "total_on_offer.groupby('type').sum().sort_values(ascending=False,by='chaos_value')"
   ]
  },
  {
   "cell_type": "code",
   "execution_count": 8,
   "metadata": {},
   "outputs": [
    {
     "data": {
      "text/html": [
       "<div>\n",
       "<style scoped>\n",
       "    .dataframe tbody tr th:only-of-type {\n",
       "        vertical-align: middle;\n",
       "    }\n",
       "\n",
       "    .dataframe tbody tr th {\n",
       "        vertical-align: top;\n",
       "    }\n",
       "\n",
       "    .dataframe thead th {\n",
       "        text-align: right;\n",
       "    }\n",
       "</style>\n",
       "<table border=\"1\" class=\"dataframe\">\n",
       "  <thead>\n",
       "    <tr style=\"text-align: right;\">\n",
       "      <th></th>\n",
       "      <th>chaos_value</th>\n",
       "      <th>type</th>\n",
       "      <th>type_line</th>\n",
       "      <th>price</th>\n",
       "      <th>shoplink_template</th>\n",
       "      <th>stack_size</th>\n",
       "    </tr>\n",
       "  </thead>\n",
       "  <tbody>\n",
       "    <tr>\n",
       "      <th>45</th>\n",
       "      <td>2.0</td>\n",
       "      <td>Prophecy</td>\n",
       "      <td>Bountiful Traps</td>\n",
       "      <td>2.0</td>\n",
       "      <td>[linkItem location=\"Stash11\" league=\"Ultimatum...</td>\n",
       "      <td>1</td>\n",
       "    </tr>\n",
       "    <tr>\n",
       "      <th>55</th>\n",
       "      <td>7.0</td>\n",
       "      <td>Prophecy</td>\n",
       "      <td>Twice Enchanted</td>\n",
       "      <td>7.0</td>\n",
       "      <td>[linkItem location=\"Stash11\" league=\"Ultimatum...</td>\n",
       "      <td>1</td>\n",
       "    </tr>\n",
       "    <tr>\n",
       "      <th>43</th>\n",
       "      <td>1.0</td>\n",
       "      <td>Prophecy</td>\n",
       "      <td>The Sharpened Blade</td>\n",
       "      <td>1.0</td>\n",
       "      <td>[linkItem location=\"Stash11\" league=\"Ultimatum...</td>\n",
       "      <td>1</td>\n",
       "    </tr>\n",
       "    <tr>\n",
       "      <th>2</th>\n",
       "      <td>1.0</td>\n",
       "      <td>Prophecy</td>\n",
       "      <td>The Mysterious Gift</td>\n",
       "      <td>1.0</td>\n",
       "      <td>[linkItem location=\"Stash11\" league=\"Ultimatum...</td>\n",
       "      <td>1</td>\n",
       "    </tr>\n",
       "    <tr>\n",
       "      <th>12</th>\n",
       "      <td>1.0</td>\n",
       "      <td>Prophecy</td>\n",
       "      <td>The Brothers of Necromancy</td>\n",
       "      <td>1.0</td>\n",
       "      <td>[linkItem location=\"Stash11\" league=\"Ultimatum...</td>\n",
       "      <td>1</td>\n",
       "    </tr>\n",
       "    <tr>\n",
       "      <th>13</th>\n",
       "      <td>1.0</td>\n",
       "      <td>Prophecy</td>\n",
       "      <td>The Feral Lord I</td>\n",
       "      <td>1.0</td>\n",
       "      <td>[linkItem location=\"Stash11\" league=\"Ultimatum...</td>\n",
       "      <td>1</td>\n",
       "    </tr>\n",
       "    <tr>\n",
       "      <th>56</th>\n",
       "      <td>1.0</td>\n",
       "      <td>Prophecy</td>\n",
       "      <td>The Feral Lord I</td>\n",
       "      <td>1.0</td>\n",
       "      <td>[linkItem location=\"Stash11\" league=\"Ultimatum...</td>\n",
       "      <td>1</td>\n",
       "    </tr>\n",
       "    <tr>\n",
       "      <th>29</th>\n",
       "      <td>1.0</td>\n",
       "      <td>Prophecy</td>\n",
       "      <td>Rebirth</td>\n",
       "      <td>1.0</td>\n",
       "      <td>[linkItem location=\"Stash11\" league=\"Ultimatum...</td>\n",
       "      <td>1</td>\n",
       "    </tr>\n",
       "    <tr>\n",
       "      <th>19</th>\n",
       "      <td>1.0</td>\n",
       "      <td>Prophecy</td>\n",
       "      <td>The Feral Lord I</td>\n",
       "      <td>1.0</td>\n",
       "      <td>[linkItem location=\"Stash11\" league=\"Ultimatum...</td>\n",
       "      <td>1</td>\n",
       "    </tr>\n",
       "    <tr>\n",
       "      <th>8</th>\n",
       "      <td>1.0</td>\n",
       "      <td>Prophecy</td>\n",
       "      <td>Soil, Worms and Blood</td>\n",
       "      <td>1.0</td>\n",
       "      <td>[linkItem location=\"Stash11\" league=\"Ultimatum...</td>\n",
       "      <td>1</td>\n",
       "    </tr>\n",
       "  </tbody>\n",
       "</table>\n",
       "</div>"
      ],
      "text/plain": [
       "    chaos_value      type                   type_line  price  \\\n",
       "45          2.0  Prophecy             Bountiful Traps    2.0   \n",
       "55          7.0  Prophecy             Twice Enchanted    7.0   \n",
       "43          1.0  Prophecy         The Sharpened Blade    1.0   \n",
       "2           1.0  Prophecy         The Mysterious Gift    1.0   \n",
       "12          1.0  Prophecy  The Brothers of Necromancy    1.0   \n",
       "13          1.0  Prophecy            The Feral Lord I    1.0   \n",
       "56          1.0  Prophecy            The Feral Lord I    1.0   \n",
       "29          1.0  Prophecy                     Rebirth    1.0   \n",
       "19          1.0  Prophecy            The Feral Lord I    1.0   \n",
       "8           1.0  Prophecy       Soil, Worms and Blood    1.0   \n",
       "\n",
       "                                    shoplink_template  stack_size  \n",
       "45  [linkItem location=\"Stash11\" league=\"Ultimatum...           1  \n",
       "55  [linkItem location=\"Stash11\" league=\"Ultimatum...           1  \n",
       "43  [linkItem location=\"Stash11\" league=\"Ultimatum...           1  \n",
       "2   [linkItem location=\"Stash11\" league=\"Ultimatum...           1  \n",
       "12  [linkItem location=\"Stash11\" league=\"Ultimatum...           1  \n",
       "13  [linkItem location=\"Stash11\" league=\"Ultimatum...           1  \n",
       "56  [linkItem location=\"Stash11\" league=\"Ultimatum...           1  \n",
       "29  [linkItem location=\"Stash11\" league=\"Ultimatum...           1  \n",
       "19  [linkItem location=\"Stash11\" league=\"Ultimatum...           1  \n",
       "8   [linkItem location=\"Stash11\" league=\"Ultimatum...           1  "
      ]
     },
     "execution_count": 8,
     "metadata": {},
     "output_type": "execute_result"
    }
   ],
   "source": [
    "total_on_offer.sample(10)"
   ]
  },
  {
   "cell_type": "code",
   "execution_count": 9,
   "metadata": {},
   "outputs": [
    {
     "data": {
      "text/html": [
       "<div>\n",
       "<style scoped>\n",
       "    .dataframe tbody tr th:only-of-type {\n",
       "        vertical-align: middle;\n",
       "    }\n",
       "\n",
       "    .dataframe tbody tr th {\n",
       "        vertical-align: top;\n",
       "    }\n",
       "\n",
       "    .dataframe thead th {\n",
       "        text-align: right;\n",
       "    }\n",
       "</style>\n",
       "<table border=\"1\" class=\"dataframe\">\n",
       "  <thead>\n",
       "    <tr style=\"text-align: right;\">\n",
       "      <th></th>\n",
       "      <th>chaos_value</th>\n",
       "      <th>price</th>\n",
       "      <th>stack_size</th>\n",
       "    </tr>\n",
       "    <tr>\n",
       "      <th>type</th>\n",
       "      <th></th>\n",
       "      <th></th>\n",
       "      <th></th>\n",
       "    </tr>\n",
       "  </thead>\n",
       "  <tbody>\n",
       "    <tr>\n",
       "      <th>Prophecy</th>\n",
       "      <td>74.3</td>\n",
       "      <td>74.3</td>\n",
       "      <td>57</td>\n",
       "    </tr>\n",
       "  </tbody>\n",
       "</table>\n",
       "</div>"
      ],
      "text/plain": [
       "          chaos_value  price  stack_size\n",
       "type                                    \n",
       "Prophecy         74.3   74.3          57"
      ]
     },
     "execution_count": 9,
     "metadata": {},
     "output_type": "execute_result"
    }
   ],
   "source": [
    "total_on_offer.groupby('type').sum().sort_values(ascending=False,by='chaos_value')"
   ]
  },
  {
   "cell_type": "code",
   "execution_count": 10,
   "metadata": {},
   "outputs": [
    {
     "name": "stdout",
     "output_type": "stream",
     "text": [
      "Liquidating a total of 74.3\n",
      "Currency makes up 0.0\n"
     ]
    },
    {
     "name": "stderr",
     "output_type": "stream",
     "text": [
      "/Users/swozny/work/poe/venv/lib/python3.7/site-packages/pandas/plotting/_matplotlib/tools.py:331: MatplotlibDeprecationWarning: \n",
      "The is_first_col function was deprecated in Matplotlib 3.4 and will be removed two minor releases later. Use ax.get_subplotspec().is_first_col() instead.\n",
      "  if ax.is_first_col():\n"
     ]
    },
    {
     "ename": "IndexError",
     "evalue": "index 0 is out of bounds for axis 0 with size 0",
     "output_type": "error",
     "traceback": [
      "\u001B[0;31m---------------------------------------------------------------------------\u001B[0m",
      "\u001B[0;31mIndexError\u001B[0m                                Traceback (most recent call last)",
      "\u001B[0;32m<ipython-input-10-b1bbf1cff0ed>\u001B[0m in \u001B[0;36m<module>\u001B[0;34m\u001B[0m\n\u001B[1;32m      8\u001B[0m \u001B[0;34m\u001B[0m\u001B[0m\n\u001B[1;32m      9\u001B[0m \u001B[0;31m# _=notcurrency.plot.pie(y='chaos_value',labels=notcurrency.type,autopct='%.2f',legend=False,ax=ax2)\u001B[0m\u001B[0;34m\u001B[0m\u001B[0;34m\u001B[0m\u001B[0;34m\u001B[0m\u001B[0m\n\u001B[0;32m---> 10\u001B[0;31m \u001B[0m_\u001B[0m\u001B[0;34m=\u001B[0m\u001B[0mcurrency\u001B[0m\u001B[0;34m.\u001B[0m\u001B[0mplot\u001B[0m\u001B[0;34m(\u001B[0m\u001B[0mkind\u001B[0m\u001B[0;34m=\u001B[0m\u001B[0;34m'bar'\u001B[0m\u001B[0;34m,\u001B[0m\u001B[0mfigsize\u001B[0m\u001B[0;34m=\u001B[0m\u001B[0;34m(\u001B[0m\u001B[0;36m15\u001B[0m\u001B[0;34m,\u001B[0m\u001B[0;36m5\u001B[0m\u001B[0;34m)\u001B[0m\u001B[0;34m)\u001B[0m\u001B[0;34m\u001B[0m\u001B[0;34m\u001B[0m\u001B[0m\n\u001B[0m",
      "\u001B[0;32m~/work/poe/venv/lib/python3.7/site-packages/pandas/plotting/_core.py\u001B[0m in \u001B[0;36m__call__\u001B[0;34m(self, *args, **kwargs)\u001B[0m\n\u001B[1;32m    947\u001B[0m                     \u001B[0mdata\u001B[0m\u001B[0;34m.\u001B[0m\u001B[0mcolumns\u001B[0m \u001B[0;34m=\u001B[0m \u001B[0mlabel_name\u001B[0m\u001B[0;34m\u001B[0m\u001B[0;34m\u001B[0m\u001B[0m\n\u001B[1;32m    948\u001B[0m \u001B[0;34m\u001B[0m\u001B[0m\n\u001B[0;32m--> 949\u001B[0;31m         \u001B[0;32mreturn\u001B[0m \u001B[0mplot_backend\u001B[0m\u001B[0;34m.\u001B[0m\u001B[0mplot\u001B[0m\u001B[0;34m(\u001B[0m\u001B[0mdata\u001B[0m\u001B[0;34m,\u001B[0m \u001B[0mkind\u001B[0m\u001B[0;34m=\u001B[0m\u001B[0mkind\u001B[0m\u001B[0;34m,\u001B[0m \u001B[0;34m**\u001B[0m\u001B[0mkwargs\u001B[0m\u001B[0;34m)\u001B[0m\u001B[0;34m\u001B[0m\u001B[0;34m\u001B[0m\u001B[0m\n\u001B[0m\u001B[1;32m    950\u001B[0m \u001B[0;34m\u001B[0m\u001B[0m\n\u001B[1;32m    951\u001B[0m     \u001B[0m__call__\u001B[0m\u001B[0;34m.\u001B[0m\u001B[0m__doc__\u001B[0m \u001B[0;34m=\u001B[0m \u001B[0m__doc__\u001B[0m\u001B[0;34m\u001B[0m\u001B[0;34m\u001B[0m\u001B[0m\n",
      "\u001B[0;32m~/work/poe/venv/lib/python3.7/site-packages/pandas/plotting/_matplotlib/__init__.py\u001B[0m in \u001B[0;36mplot\u001B[0;34m(data, kind, **kwargs)\u001B[0m\n\u001B[1;32m     59\u001B[0m             \u001B[0mkwargs\u001B[0m\u001B[0;34m[\u001B[0m\u001B[0;34m\"ax\"\u001B[0m\u001B[0;34m]\u001B[0m \u001B[0;34m=\u001B[0m \u001B[0mgetattr\u001B[0m\u001B[0;34m(\u001B[0m\u001B[0max\u001B[0m\u001B[0;34m,\u001B[0m \u001B[0;34m\"left_ax\"\u001B[0m\u001B[0;34m,\u001B[0m \u001B[0max\u001B[0m\u001B[0;34m)\u001B[0m\u001B[0;34m\u001B[0m\u001B[0;34m\u001B[0m\u001B[0m\n\u001B[1;32m     60\u001B[0m     \u001B[0mplot_obj\u001B[0m \u001B[0;34m=\u001B[0m \u001B[0mPLOT_CLASSES\u001B[0m\u001B[0;34m[\u001B[0m\u001B[0mkind\u001B[0m\u001B[0;34m]\u001B[0m\u001B[0;34m(\u001B[0m\u001B[0mdata\u001B[0m\u001B[0;34m,\u001B[0m \u001B[0;34m**\u001B[0m\u001B[0mkwargs\u001B[0m\u001B[0;34m)\u001B[0m\u001B[0;34m\u001B[0m\u001B[0;34m\u001B[0m\u001B[0m\n\u001B[0;32m---> 61\u001B[0;31m     \u001B[0mplot_obj\u001B[0m\u001B[0;34m.\u001B[0m\u001B[0mgenerate\u001B[0m\u001B[0;34m(\u001B[0m\u001B[0;34m)\u001B[0m\u001B[0;34m\u001B[0m\u001B[0;34m\u001B[0m\u001B[0m\n\u001B[0m\u001B[1;32m     62\u001B[0m     \u001B[0mplot_obj\u001B[0m\u001B[0;34m.\u001B[0m\u001B[0mdraw\u001B[0m\u001B[0;34m(\u001B[0m\u001B[0;34m)\u001B[0m\u001B[0;34m\u001B[0m\u001B[0;34m\u001B[0m\u001B[0m\n\u001B[1;32m     63\u001B[0m     \u001B[0;32mreturn\u001B[0m \u001B[0mplot_obj\u001B[0m\u001B[0;34m.\u001B[0m\u001B[0mresult\u001B[0m\u001B[0;34m\u001B[0m\u001B[0;34m\u001B[0m\u001B[0m\n",
      "\u001B[0;32m~/work/poe/venv/lib/python3.7/site-packages/pandas/plotting/_matplotlib/core.py\u001B[0m in \u001B[0;36mgenerate\u001B[0;34m(self)\u001B[0m\n\u001B[1;32m    276\u001B[0m         \u001B[0;32mfor\u001B[0m \u001B[0max\u001B[0m \u001B[0;32min\u001B[0m \u001B[0mself\u001B[0m\u001B[0;34m.\u001B[0m\u001B[0maxes\u001B[0m\u001B[0;34m:\u001B[0m\u001B[0;34m\u001B[0m\u001B[0;34m\u001B[0m\u001B[0m\n\u001B[1;32m    277\u001B[0m             \u001B[0mself\u001B[0m\u001B[0;34m.\u001B[0m\u001B[0m_post_plot_logic_common\u001B[0m\u001B[0;34m(\u001B[0m\u001B[0max\u001B[0m\u001B[0;34m,\u001B[0m \u001B[0mself\u001B[0m\u001B[0;34m.\u001B[0m\u001B[0mdata\u001B[0m\u001B[0;34m)\u001B[0m\u001B[0;34m\u001B[0m\u001B[0;34m\u001B[0m\u001B[0m\n\u001B[0;32m--> 278\u001B[0;31m             \u001B[0mself\u001B[0m\u001B[0;34m.\u001B[0m\u001B[0m_post_plot_logic\u001B[0m\u001B[0;34m(\u001B[0m\u001B[0max\u001B[0m\u001B[0;34m,\u001B[0m \u001B[0mself\u001B[0m\u001B[0;34m.\u001B[0m\u001B[0mdata\u001B[0m\u001B[0;34m)\u001B[0m\u001B[0;34m\u001B[0m\u001B[0;34m\u001B[0m\u001B[0m\n\u001B[0m\u001B[1;32m    279\u001B[0m \u001B[0;34m\u001B[0m\u001B[0m\n\u001B[1;32m    280\u001B[0m     \u001B[0;32mdef\u001B[0m \u001B[0m_args_adjust\u001B[0m\u001B[0;34m(\u001B[0m\u001B[0mself\u001B[0m\u001B[0;34m)\u001B[0m\u001B[0;34m:\u001B[0m\u001B[0;34m\u001B[0m\u001B[0;34m\u001B[0m\u001B[0m\n",
      "\u001B[0;32m~/work/poe/venv/lib/python3.7/site-packages/pandas/plotting/_matplotlib/core.py\u001B[0m in \u001B[0;36m_post_plot_logic\u001B[0;34m(self, ax, data)\u001B[0m\n\u001B[1;32m   1459\u001B[0m         \u001B[0mname\u001B[0m \u001B[0;34m=\u001B[0m \u001B[0mself\u001B[0m\u001B[0;34m.\u001B[0m\u001B[0m_get_index_name\u001B[0m\u001B[0;34m(\u001B[0m\u001B[0;34m)\u001B[0m\u001B[0;34m\u001B[0m\u001B[0;34m\u001B[0m\u001B[0m\n\u001B[1;32m   1460\u001B[0m \u001B[0;34m\u001B[0m\u001B[0m\n\u001B[0;32m-> 1461\u001B[0;31m         \u001B[0ms_edge\u001B[0m \u001B[0;34m=\u001B[0m \u001B[0mself\u001B[0m\u001B[0;34m.\u001B[0m\u001B[0max_pos\u001B[0m\u001B[0;34m[\u001B[0m\u001B[0;36m0\u001B[0m\u001B[0;34m]\u001B[0m \u001B[0;34m-\u001B[0m \u001B[0;36m0.25\u001B[0m \u001B[0;34m+\u001B[0m \u001B[0mself\u001B[0m\u001B[0;34m.\u001B[0m\u001B[0mlim_offset\u001B[0m\u001B[0;34m\u001B[0m\u001B[0;34m\u001B[0m\u001B[0m\n\u001B[0m\u001B[1;32m   1462\u001B[0m         \u001B[0me_edge\u001B[0m \u001B[0;34m=\u001B[0m \u001B[0mself\u001B[0m\u001B[0;34m.\u001B[0m\u001B[0max_pos\u001B[0m\u001B[0;34m[\u001B[0m\u001B[0;34m-\u001B[0m\u001B[0;36m1\u001B[0m\u001B[0;34m]\u001B[0m \u001B[0;34m+\u001B[0m \u001B[0;36m0.25\u001B[0m \u001B[0;34m+\u001B[0m \u001B[0mself\u001B[0m\u001B[0;34m.\u001B[0m\u001B[0mbar_width\u001B[0m \u001B[0;34m+\u001B[0m \u001B[0mself\u001B[0m\u001B[0;34m.\u001B[0m\u001B[0mlim_offset\u001B[0m\u001B[0;34m\u001B[0m\u001B[0;34m\u001B[0m\u001B[0m\n\u001B[1;32m   1463\u001B[0m \u001B[0;34m\u001B[0m\u001B[0m\n",
      "\u001B[0;31mIndexError\u001B[0m: index 0 is out of bounds for axis 0 with size 0"
     ]
    },
    {
     "data": {
      "image/png": "[encoded data removed]",
      "text/plain": [
       "<Figure size 1080x360 with 2 Axes>"
      ]
     },
     "metadata": {
      "needs_background": "light"
     },
     "output_type": "display_data"
    },
    {
     "data": {
      "image/png": "[encoded data removed]",
      "text/plain": [
       "<Figure size 1080x360 with 1 Axes>"
      ]
     },
     "metadata": {
      "needs_background": "light"
     },
     "output_type": "display_data"
    }
   ],
   "source": [
    "print(f\"Liquidating a total of {total_on_offer.sum()['chaos_value']}\")\n",
    "print(f\"Currency makes up {currency.sum()['chaos_value']}\")\n",
    "\n",
    "\n",
    "fig, ((ax1, ax2)) = plt.subplots(1, 2,figsize=(15,5))\n",
    "_=notcurrency['chaos_value'].plot(kind='bar',ax=ax1)\n",
    "_=total_on_offer.groupby('type').sum().sort_values(ascending=False,by='chaos_value')['chaos_value'].plot(kind='bar',ax=ax2)\n",
    "\n",
    "# _=notcurrency.plot.pie(y='chaos_value',labels=notcurrency.type,autopct='%.2f',legend=False,ax=ax2)\n",
    "_=currency.plot(kind='bar',figsize=(15,5))"
   ]
  },
  {
   "cell_type": "code",
   "execution_count": null,
   "metadata": {},
   "outputs": [],
   "source": [
    "cr['value']['Chaos Orb']=1\n",
    "exchange=cr['value']"
   ]
  },
  {
   "cell_type": "code",
   "execution_count": null,
   "metadata": {},
   "outputs": [],
   "source": [
    "register = inventory.apply(lambda x:pd.concat([x, x.chaos_value/exchange],axis=0),axis=1).set_index(['chaos_value','type','type_line','price','shoplink_template','stack_size'])\n",
    "register=register.stack().reset_index()\n",
    "register.columns = ['chaos_value','type','type_line','chaos_price','shoplink_template','stack_size','fx','value_fx']\n",
    "register=register[(register.chaos_value/register.stack_size)>0.75]"
   ]
  },
  {
   "cell_type": "code",
   "execution_count": null,
   "metadata": {},
   "outputs": [],
   "source": [
    "register=register[register.fx=='Chaos Orb']"
   ]
  },
  {
   "cell_type": "code",
   "execution_count": null,
   "metadata": {},
   "outputs": [],
   "source": [
    "weak_currency = ['Orb of Alteration','Orb of Alchemy']\n",
    "register['up_priced_value_fx']=register.apply(lambda self: math.ceil(self.value_fx*1.1) if self.fx in weak_currency else math.ceil(self.value_fx),axis=1)\n",
    "register['final_price']=register.apply(lambda self: Fraction(self.up_priced_value_fx/self.stack_size).limit_denominator(self.stack_size),axis=1)\n",
    "register['offered_value_chaos']=register.apply(lambda self: float(self.final_price)*exchange[self.fx]*self.stack_size,axis=1)\n",
    "register['fx_id']=register.fx.map(conversion)\n",
    "register['difference_fx']=register.offered_value_chaos- register.chaos_value"
   ]
  },
  {
   "cell_type": "code",
   "execution_count": null,
   "metadata": {},
   "outputs": [],
   "source": [
    "register=register[(register.difference_fx/register.chaos_value)<0.1]\n",
    "columns_to_drop_for_visibility=['shoplink_template','up_priced_value_fx','value_fx']\n"
   ]
  },
  {
   "cell_type": "code",
   "execution_count": null,
   "metadata": {},
   "outputs": [],
   "source": [
    "preview = register.drop(columns_to_drop_for_visibility,axis=1)\n",
    "preview.sort_values('difference_fx').tail(10)"
   ]
  },
  {
   "cell_type": "code",
   "execution_count": null,
   "metadata": {},
   "outputs": [],
   "source": [
    "_register = register[register['type']!='Hard Currency']\n",
    "# _register = _register[_register['type_line']!='Stacked Deck']\n",
    "_register=_register[_register.final_price>10]\n",
    "_register = _register[_register['type_line']!='Lathi']\n",
    "_register=_register[~_register.type_line.isin(currency_shards)]\n",
    "content= list(_register.apply(lambda row: row.shoplink_template.format(**row),axis=1))\n"
   ]
  },
  {
   "cell_type": "code",
   "execution_count": null,
   "metadata": {},
   "outputs": [],
   "source": []
  },
  {
   "cell_type": "code",
   "execution_count": null,
   "metadata": {},
   "outputs": [],
   "source": [
    "assert len(str(content))< 150_000\n",
    "len(str(content))"
   ]
  },
  {
   "cell_type": "code",
   "execution_count": null,
   "metadata": {},
   "outputs": [],
   "source": [
    "print(\"Liquidizing\")\n",
    "df['datetime']=datetime.datetime.now()\n",
    "df.to_csv(f'reports/{now}.csv')"
   ]
  },
  {
   "cell_type": "code",
   "execution_count": null,
   "metadata": {},
   "outputs": [],
   "source": [
    "\n",
    "dfs=pd.concat([pd.read_csv(file_type_line) for file_type_line in glob.glob('reports/*.csv')])\n",
    "#dfs[\n",
    "hc=dfs.type_line.isin(['Orb of Alteration','Orb of Alchemy','Chaos Orb','Vaal Orb','Divine Orb','Exalted Orb','Mirror Shard','Stacked Deck','Mirror of Kalandra'])\n",
    "dfs.loc[hc,'type']='Hard Currency'\n",
    "dfs[dfs.type=='Hard Currency'].sort_values('datetime').tail(10)\n"
   ]
  },
  {
   "cell_type": "code",
   "execution_count": null,
   "metadata": {},
   "outputs": [],
   "source": [
    "\n",
    "_dfs=dfs.groupby(['type','datetime']).sum().reset_index().sort_values('type')\n",
    "fig = px.area(_dfs.reset_index(), x=\"datetime\", y=\"chaos_value\", color=\"type\",category_orders={'Hard Currency':1,'Currency':0})\n",
    "fig.show()\n",
    "_dfs.head()"
   ]
  },
  {
   "cell_type": "code",
   "execution_count": null,
   "metadata": {},
   "outputs": [],
   "source": [
    "from forum_updater import update_forum\n",
    "l=len(content)\n",
    "print(len(str(content)))\n",
    "assert len(str(content))<49_999"
   ]
  },
  {
   "cell_type": "code",
   "execution_count": null,
   "metadata": {},
   "outputs": [],
   "source": [
    "_content=[content]#,content[int(l/3):int(2*l/3)],content[int(2*l/3):]]\n",
    "# update_forum(\"\\n\".join(_content[0]),'3096135')\n",
    "update_forum('asd','3096135')"
   ]
  },
  {
   "cell_type": "code",
   "execution_count": null,
   "metadata": {},
   "outputs": [],
   "source": [
    "from constants import currency_shards\n",
    "from collections import ChainMap\n",
    "buying_scarabs = {\n",
    "    'Gilded Reliquary Scarab':(10,'Chaos Orb'),\n",
    "        'Gilded Ambush Scarab':(5,'Chaos Orb'),\n",
    "\n",
    "}\n",
    "included = [\n",
    "    buying_scarabs,\n",
    "#     currency_shards,\n",
    "]\n",
    "purchase_orders=dict(ChainMap(*[buying_scarabs]))"
   ]
  },
  {
   "cell_type": "code",
   "execution_count": null,
   "metadata": {},
   "outputs": [],
   "source": [
    "df2=pd.DataFrame(purchase_orders).T.reset_index().set_index([1])\n",
    "df2=df2.join(cr['value']).set_index('index').apply(np.prod,axis=1).reset_index()\n",
    "df2.columns=['type_line','Chaos Orb']\n",
    "# df2 = df2.apply(lambda x:pd.concat([x, x['Chaos Orb']/exchange],axis=0),axis=1).set_index(['type_line'])\n",
    "df2=df2.set_index(['type_line'])\n",
    "df2.head()"
   ]
  },
  {
   "cell_type": "code",
   "execution_count": null,
   "metadata": {},
   "outputs": [],
   "source": [
    "df3=df2.T.unstack(1).reset_index()\n",
    "df3.columns=['fx','type_line','price_fx']\n",
    "\n",
    "buy_in = hard_currency\n",
    "\n",
    "df3=df3.set_index('type_line').join(df[df.type_line.isin(buy_in)].set_index('type_line')[['stack_size','shoplink_template']]).reset_index()\n",
    "df3=df3.groupby(['type_line','fx']).first().reset_index()\n",
    "df3['price_fractional']=(df3['price_fx']).apply(lambda x: (Fraction(x)).limit_denominator(2))\n",
    "df3=df3[df3.apply(lambda x: x['price_fractional'].numerator<x.stack_size,axis=1)]\n",
    "df3['diff_fx']=df3['price_fractional']-df3['price_fx']\n",
    "# df3=df3[(df3.diff_fx<0)&(df3['price_fractional']>0)]\n",
    "df3['fx_id']=df3['fx'].str.split().str.join('-').str.lower()\n",
    "df3['final_price']=1/df3['price_fractional']\n",
    "df3['shoplink_template']=df3['shoplink_template'].str.replace('~b/o','~price')\n",
    "df3.head(50)"
   ]
  },
  {
   "cell_type": "code",
   "execution_count": null,
   "metadata": {},
   "outputs": [],
   "source": [
    "buying_content= sorted(list(df3.apply(lambda row: row.shoplink_template.format(**row),axis=1)))\n",
    "buying_content"
   ]
  },
  {
   "cell_type": "code",
   "execution_count": null,
   "metadata": {},
   "outputs": [],
   "source": [
    "upload=\"\\r\\n\".join(buying_content)\n",
    "print(upload)"
   ]
  },
  {
   "cell_type": "code",
   "execution_count": null,
   "metadata": {},
   "outputs": [],
   "source": [
    "# update_forum(upload,'2843594')\n",
    "normal_content=\"\\n\".join(_content[0])\n",
    "update_forum(f'{upload}','3096135')"
   ]
  },
  {
   "cell_type": "code",
   "execution_count": null,
   "metadata": {},
   "outputs": [],
   "source": [
    "print(f'{normal_content}\\n{upload}')"
   ]
  },
  {
   "cell_type": "code",
   "execution_count": null,
   "metadata": {},
   "outputs": [],
   "source": []
  }
 ],
 "metadata": {
  "kernelspec": {
   "display_name": "Python 3",
   "language": "python",
   "name": "python3"
  },
  "language_info": {
   "codemirror_mode": {
    "name": "ipython",
    "version": 3
   },
   "file_extension": ".py",
   "mimetype": "text/x-python",
   "name": "python",
   "nbconvert_exporter": "python",
   "pygments_lexer": "ipython3",
   "version": "3.7.8"
  }
 },
 "nbformat": 4,
 "nbformat_minor": 4
}