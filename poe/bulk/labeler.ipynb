{
 "cells": [
  {
   "cell_type": "code",
   "execution_count": 1,
   "id": "d8f20d1c",
   "metadata": {},
   "outputs": [],
   "source": [
    "from pathlib import Path\n",
    "import cv2\n",
    "import matplotlib.pyplot as plt\n",
    "import hashlib\n",
    "from typing import Dict\n",
    "%matplotlib inline"
   ]
  },
  {
   "cell_type": "code",
   "execution_count": 2,
   "id": "57702a07",
   "metadata": {},
   "outputs": [],
   "source": [
    "def to_file(labels: Dict, path):\n",
    "    labeled=[]\n",
    "    for hashcode,(p,raw) in labels.items():\n",
    "        labeled.append(f'{p}\\t{raw}\\n')\n",
    "    with open(path,'w') as f:\n",
    "        f.writelines(labeled)\n",
    "    print(len(from_file(path)))\n",
    "def from_file(path) -> Dict:\n",
    "    with open(path,'r') as f:\n",
    "        lines = [line.strip() for line in f.readlines()]\n",
    "    return {hashlib.sha224(cv2.imread(line.split('\\t')[0])).hexdigest():(line.split('\\t')[0],line.split('\\t')[1]) for line in lines }\n",
    "LABELS_PATH='data/handlabeled.txt'"
   ]
  },
  {
   "cell_type": "code",
   "execution_count": 3,
   "id": "2b37537e",
   "metadata": {},
   "outputs": [
    {
     "name": "stdout",
     "output_type": "stream",
     "text": [
      "Already labeled 2049!!!\n"
     ]
    }
   ],
   "source": [
    "labels=from_file(LABELS_PATH)\n",
    "print(f'Already labeled {len(labels)}!!!')"
   ]
  },
  {
   "cell_type": "code",
   "execution_count": 4,
   "id": "e96fc630",
   "metadata": {},
   "outputs": [
    {
     "name": "stdout",
     "output_type": "stream",
     "text": [
      "Labelling 3600 images\n",
      "skipping\n",
      "skipping\n",
      "skipping\n",
      "skipping\n",
      "skipping\n",
      "skipping\n",
      "skipping\n",
      "skipping\n",
      "skipping\n",
      "skipping\n",
      "skipping\n",
      "skipping\n",
      "skipping\n",
      "skipping\n",
      "skipping\n",
      "skipping\n",
      "skipping\n",
      "skipping\n",
      "skipping\n",
      "skipping\n",
      "skipping\n",
      "skipping\n",
      "skipping\n",
      "skipping\n",
      "skipping\n",
      "skipping\n",
      "skipping\n",
      "skipping\n",
      "skipping\n",
      "skipping\n",
      "skipping\n",
      "skipping\n",
      "skipping\n",
      "skipping\n",
      "skipping\n",
      "skipping\n",
      "skipping\n",
      "skipping\n",
      "skipping\n",
      "skipping\n",
      "skipping\n",
      "skipping\n",
      "skipping\n",
      "skipping\n",
      "skipping\n",
      "skipping\n",
      "skipping\n",
      "skipping\n",
      "skipping\n",
      "skipping\n",
      "skipping\n",
      "skipping\n",
      "skipping\n",
      "skipping\n",
      "skipping\n",
      "skipping\n",
      "skipping\n",
      "skipping\n",
      "skipping\n",
      "skipping\n",
      "skipping\n",
      "skipping\n",
      "skipping\n",
      "skipping\n",
      "skipping\n",
      "skipping\n",
      "skipping\n",
      "skipping\n",
      "skipping\n",
      "skipping\n",
      "skipping\n",
      "skipping\n",
      "skipping\n",
      "skipping\n",
      "skipping\n",
      "skipping\n",
      "skipping\n",
      "skipping\n",
      "skipping\n",
      "skipping\n",
      "skipping\n",
      "skipping\n",
      "skipping\n",
      "skipping\n",
      "skipping\n",
      "skipping\n",
      "skipping\n",
      "skipping\n",
      "skipping\n",
      "skipping\n",
      "skipping\n",
      "skipping\n",
      "skipping\n",
      "skipping\n",
      "skipping\n",
      "skipping\n",
      "skipping\n",
      "skipping\n",
      "skipping\n",
      "skipping\n",
      "skipping\n",
      "skipping\n",
      "skipping\n",
      "skipping\n",
      "skipping\n",
      "skipping\n",
      "skipping\n",
      "skipping\n",
      "skipping\n",
      "skipping\n",
      "skipping\n",
      "skipping\n",
      "skipping\n",
      "skipping\n",
      "skipping\n",
      "skipping\n",
      "skipping\n",
      "skipping\n",
      "skipping\n",
      "skipping\n",
      "skipping\n",
      "skipping\n",
      "skipping\n",
      "skipping\n",
      "skipping\n",
      "skipping\n",
      "skipping\n",
      "skipping\n",
      "skipping\n",
      "skipping\n",
      "skipping\n",
      "skipping\n",
      "skipping\n",
      "skipping\n",
      "skipping\n",
      "skipping\n",
      "skipping\n",
      "skipping\n",
      "skipping\n",
      "skipping\n",
      "skipping\n",
      "skipping\n",
      "skipping\n",
      "skipping\n",
      "skipping\n",
      "skipping\n",
      "skipping\n",
      "skipping\n",
      "skipping\n",
      "skipping\n",
      "skipping\n",
      "skipping\n",
      "skipping\n",
      "skipping\n",
      "skipping\n",
      "skipping\n",
      "skipping\n",
      "skipping\n",
      "skipping\n",
      "skipping\n",
      "skipping\n",
      "skipping\n",
      "skipping\n",
      "skipping\n",
      "skipping\n",
      "skipping\n",
      "skipping\n",
      "skipping\n",
      "skipping\n",
      "skipping\n",
      "skipping\n",
      "skipping\n",
      "skipping\n",
      "skipping\n",
      "skipping\n",
      "skipping\n",
      "skipping\n",
      "skipping\n",
      "skipping\n",
      "skipping\n",
      "skipping\n",
      "skipping\n",
      "skipping\n",
      "skipping\n",
      "skipping\n",
      "skipping\n",
      "skipping\n",
      "skipping\n",
      "skipping\n",
      "skipping\n",
      "skipping\n",
      "skipping\n",
      "skipping\n",
      "skipping\n",
      "skipping\n",
      "skipping\n",
      "skipping\n",
      "skipping\n",
      "skipping\n",
      "skipping\n",
      "skipping\n",
      "skipping\n",
      "skipping\n",
      "skipping\n",
      "skipping\n",
      "skipping\n",
      "skipping\n",
      "skipping\n",
      "skipping\n",
      "skipping\n",
      "skipping\n",
      "skipping\n",
      "skipping\n",
      "skipping\n",
      "skipping\n",
      "skipping\n",
      "skipping\n",
      "skipping\n",
      "skipping\n",
      "skipping\n",
      "skipping\n",
      "skipping\n",
      "skipping\n",
      "skipping\n",
      "skipping\n",
      "skipping\n",
      "skipping\n",
      "skipping\n",
      "skipping\n",
      "skipping\n",
      "skipping\n",
      "skipping\n",
      "skipping\n",
      "skipping\n",
      "skipping\n",
      "skipping\n",
      "skipping\n",
      "skipping\n",
      "skipping\n",
      "skipping\n",
      "skipping\n",
      "skipping\n",
      "skipping\n",
      "skipping\n",
      "skipping\n",
      "skipping\n",
      "skipping\n",
      "skipping\n",
      "skipping\n",
      "skipping\n",
      "skipping\n",
      "skipping\n",
      "skipping\n",
      "skipping\n",
      "skipping\n",
      "skipping\n",
      "skipping\n",
      "skipping\n",
      "skipping\n",
      "skipping\n",
      "skipping\n",
      "skipping\n",
      "skipping\n",
      "skipping\n",
      "skipping\n",
      "skipping\n",
      "skipping\n",
      "skipping\n",
      "skipping\n",
      "skipping\n",
      "skipping\n",
      "skipping\n",
      "skipping\n",
      "skipping\n",
      "skipping\n",
      "skipping\n",
      "skipping\n",
      "skipping\n",
      "skipping\n",
      "skipping\n",
      "skipping\n",
      "skipping\n",
      "skipping\n",
      "skipping\n",
      "skipping\n",
      "skipping\n",
      "skipping\n",
      "skipping\n",
      "skipping\n",
      "skipping\n",
      "skipping\n",
      "skipping\n",
      "skipping\n",
      "skipping\n",
      "skipping\n",
      "skipping\n",
      "skipping\n",
      "skipping\n",
      "skipping\n",
      "skipping\n",
      "skipping\n",
      "skipping\n",
      "skipping\n",
      "skipping\n",
      "skipping\n",
      "skipping\n",
      "skipping\n",
      "skipping\n",
      "skipping\n",
      "skipping\n",
      "skipping\n",
      "skipping\n",
      "skipping\n",
      "skipping\n",
      "skipping\n",
      "skipping\n",
      "skipping\n",
      "skipping\n",
      "skipping\n",
      "skipping\n",
      "skipping\n",
      "skipping\n",
      "skipping\n",
      "skipping\n",
      "skipping\n",
      "skipping\n",
      "skipping\n",
      "skipping\n",
      "skipping\n",
      "skipping\n",
      "skipping\n",
      "skipping\n",
      "skipping\n",
      "skipping\n",
      "skipping\n",
      "skipping\n",
      "skipping\n",
      "skipping\n",
      "skipping\n",
      "skipping\n",
      "skipping\n",
      "skipping\n",
      "skipping\n",
      "skipping\n",
      "skipping\n",
      "skipping\n",
      "skipping\n",
      "skipping\n",
      "skipping\n",
      "skipping\n",
      "skipping\n",
      "skipping\n",
      "skipping\n",
      "skipping\n",
      "skipping\n",
      "skipping\n",
      "skipping\n",
      "skipping\n",
      "skipping\n",
      "skipping\n",
      "skipping\n",
      "skipping\n",
      "skipping\n",
      "skipping\n",
      "skipping\n",
      "skipping\n",
      "skipping\n",
      "skipping\n",
      "skipping\n",
      "skipping\n",
      "skipping\n",
      "skipping\n",
      "skipping\n",
      "skipping\n",
      "skipping\n",
      "skipping\n",
      "skipping\n",
      "skipping\n",
      "skipping\n",
      "skipping\n",
      "skipping\n",
      "skipping\n",
      "skipping\n",
      "skipping\n",
      "skipping\n",
      "skipping\n",
      "skipping\n",
      "skipping\n",
      "skipping\n",
      "skipping\n",
      "skipping\n",
      "skipping\n",
      "skipping\n",
      "skipping\n",
      "skipping\n",
      "skipping\n",
      "skipping\n",
      "skipping\n",
      "skipping\n",
      "skipping\n",
      "skipping\n",
      "skipping\n",
      "skipping\n",
      "skipping\n",
      "skipping\n",
      "skipping\n",
      "skipping\n",
      "skipping\n",
      "skipping\n",
      "skipping\n",
      "skipping\n",
      "skipping\n",
      "skipping\n",
      "skipping\n",
      "skipping\n",
      "skipping\n",
      "skipping\n",
      "skipping\n",
      "skipping\n",
      "skipping\n",
      "skipping\n",
      "skipping\n",
      "skipping\n",
      "skipping\n",
      "skipping\n",
      "skipping\n",
      "skipping\n",
      "skipping\n",
      "skipping\n",
      "skipping\n",
      "skipping\n",
      "skipping\n",
      "skipping\n",
      "skipping\n",
      "skipping\n",
      "skipping\n",
      "skipping\n",
      "skipping\n",
      "skipping\n",
      "skipping\n",
      "skipping\n",
      "skipping\n",
      "skipping\n",
      "skipping\n",
      "skipping\n",
      "skipping\n",
      "skipping\n",
      "skipping\n",
      "skipping\n",
      "skipping\n",
      "skipping\n",
      "skipping\n",
      "skipping\n",
      "skipping\n",
      "skipping\n",
      "skipping\n",
      "skipping\n",
      "skipping\n",
      "skipping\n",
      "skipping\n",
      "skipping\n",
      "skipping\n",
      "skipping\n",
      "skipping\n",
      "skipping\n",
      "skipping\n",
      "skipping\n",
      "skipping\n",
      "skipping\n",
      "skipping\n",
      "skipping\n",
      "skipping\n",
      "skipping\n",
      "skipping\n",
      "skipping\n",
      "skipping\n",
      "skipping\n",
      "skipping\n",
      "skipping\n",
      "skipping\n",
      "skipping\n",
      "skipping\n",
      "skipping\n",
      "skipping\n",
      "skipping\n",
      "skipping\n",
      "skipping\n",
      "skipping\n",
      "skipping\n",
      "skipping\n",
      "skipping\n",
      "skipping\n",
      "skipping\n",
      "skipping\n",
      "skipping\n",
      "skipping\n",
      "skipping\n",
      "skipping\n",
      "skipping\n",
      "skipping\n",
      "skipping\n",
      "skipping\n",
      "skipping\n",
      "skipping\n",
      "skipping\n",
      "skipping\n",
      "skipping\n",
      "skipping\n",
      "skipping\n",
      "skipping\n",
      "skipping\n",
      "skipping\n",
      "skipping\n",
      "skipping\n",
      "skipping\n",
      "skipping\n",
      "skipping\n",
      "skipping\n",
      "skipping\n",
      "skipping\n",
      "skipping\n",
      "skipping\n",
      "skipping\n",
      "skipping\n",
      "skipping\n",
      "skipping\n",
      "skipping\n",
      "skipping\n",
      "skipping\n",
      "skipping\n",
      "skipping\n",
      "skipping\n",
      "skipping\n",
      "skipping\n",
      "skipping\n",
      "skipping\n",
      "skipping\n",
      "skipping\n",
      "skipping\n",
      "skipping\n",
      "skipping\n",
      "skipping\n",
      "skipping\n",
      "skipping\n",
      "skipping\n",
      "skipping\n",
      "skipping\n",
      "skipping\n",
      "skipping\n",
      "skipping\n",
      "skipping\n",
      "skipping\n",
      "skipping\n",
      "skipping\n",
      "skipping\n",
      "skipping\n",
      "skipping\n",
      "skipping\n",
      "skipping\n",
      "skipping\n",
      "skipping\n",
      "skipping\n",
      "skipping\n",
      "skipping\n",
      "skipping\n",
      "skipping\n",
      "skipping\n",
      "skipping\n",
      "skipping\n",
      "skipping\n",
      "skipping\n",
      "skipping\n",
      "skipping\n",
      "skipping\n",
      "skipping\n",
      "skipping\n",
      "skipping\n",
      "skipping\n",
      "skipping\n",
      "skipping\n",
      "skipping\n",
      "skipping\n",
      "skipping\n",
      "skipping\n",
      "skipping\n",
      "skipping\n",
      "skipping\n",
      "skipping\n",
      "skipping\n",
      "skipping\n",
      "skipping\n",
      "skipping\n",
      "skipping\n",
      "skipping\n",
      "skipping\n",
      "skipping\n",
      "skipping\n",
      "skipping\n",
      "skipping\n",
      "skipping\n",
      "skipping\n",
      "skipping\n",
      "skipping\n",
      "skipping\n",
      "skipping\n",
      "skipping\n",
      "skipping\n",
      "skipping\n",
      "skipping\n",
      "skipping\n",
      "skipping\n",
      "skipping\n",
      "skipping\n",
      "skipping\n",
      "skipping\n",
      "skipping\n",
      "skipping\n",
      "skipping\n",
      "skipping\n",
      "skipping\n",
      "skipping\n",
      "skipping\n",
      "skipping\n",
      "skipping\n",
      "skipping\n",
      "skipping\n",
      "skipping\n",
      "skipping\n",
      "skipping\n",
      "skipping\n",
      "skipping\n",
      "skipping\n",
      "skipping\n",
      "skipping\n",
      "skipping\n",
      "skipping\n",
      "skipping\n",
      "skipping\n",
      "skipping\n",
      "skipping\n",
      "skipping\n",
      "skipping\n",
      "skipping\n",
      "skipping\n",
      "skipping\n",
      "skipping\n",
      "skipping\n",
      "skipping\n",
      "skipping\n",
      "skipping\n",
      "skipping\n",
      "skipping\n",
      "skipping\n",
      "skipping\n",
      "skipping\n",
      "skipping\n",
      "skipping\n",
      "skipping\n",
      "skipping\n",
      "skipping\n",
      "skipping\n",
      "skipping\n",
      "skipping\n",
      "skipping\n",
      "skipping\n",
      "skipping\n",
      "skipping\n",
      "skipping\n",
      "skipping\n",
      "skipping\n",
      "skipping\n",
      "skipping\n",
      "skipping\n",
      "skipping\n",
      "skipping\n",
      "skipping\n",
      "skipping\n",
      "skipping\n",
      "skipping\n",
      "skipping\n",
      "skipping\n",
      "skipping\n",
      "skipping\n",
      "skipping\n",
      "skipping\n",
      "skipping\n",
      "skipping\n",
      "skipping\n",
      "skipping\n",
      "skipping\n",
      "skipping\n",
      "skipping\n",
      "skipping\n",
      "skipping\n",
      "skipping\n",
      "skipping\n",
      "skipping\n",
      "skipping\n",
      "skipping\n",
      "skipping\n",
      "skipping\n",
      "skipping\n",
      "skipping\n",
      "skipping\n",
      "skipping\n",
      "skipping\n",
      "skipping\n",
      "skipping\n",
      "skipping\n",
      "skipping\n",
      "skipping\n",
      "skipping\n",
      "skipping\n",
      "skipping\n",
      "skipping\n",
      "skipping\n",
      "skipping\n",
      "skipping\n",
      "skipping\n",
      "skipping\n",
      "skipping\n",
      "skipping\n",
      "skipping\n",
      "skipping\n",
      "skipping\n",
      "skipping\n",
      "skipping\n",
      "skipping\n",
      "skipping\n",
      "skipping\n",
      "skipping\n",
      "skipping\n",
      "skipping\n",
      "skipping\n",
      "skipping\n",
      "skipping\n",
      "skipping\n",
      "skipping\n",
      "skipping\n",
      "skipping\n",
      "skipping\n",
      "skipping\n",
      "skipping\n",
      "skipping\n",
      "skipping\n",
      "skipping\n",
      "skipping\n",
      "skipping\n",
      "skipping\n",
      "skipping\n",
      "skipping\n",
      "skipping\n",
      "skipping\n",
      "skipping\n",
      "skipping\n",
      "skipping\n",
      "skipping\n",
      "skipping\n",
      "skipping\n",
      "skipping\n",
      "skipping\n",
      "skipping\n",
      "skipping\n",
      "skipping\n",
      "skipping\n",
      "skipping\n",
      "skipping\n",
      "skipping\n",
      "skipping\n",
      "skipping\n",
      "skipping\n",
      "skipping\n",
      "skipping\n",
      "skipping\n",
      "skipping\n",
      "skipping\n",
      "skipping\n",
      "skipping\n",
      "skipping\n",
      "skipping\n",
      "skipping\n",
      "skipping\n",
      "skipping\n",
      "skipping\n",
      "skipping\n",
      "skipping\n",
      "skipping\n",
      "skipping\n",
      "skipping\n",
      "skipping\n",
      "skipping\n",
      "skipping\n",
      "skipping\n",
      "skipping\n",
      "skipping\n",
      "skipping\n",
      "skipping\n",
      "skipping\n",
      "skipping\n",
      "skipping\n",
      "skipping\n",
      "skipping\n",
      "skipping\n",
      "skipping\n",
      "skipping\n",
      "skipping\n",
      "skipping\n",
      "skipping\n",
      "skipping\n",
      "skipping\n",
      "skipping\n",
      "skipping\n",
      "skipping\n",
      "skipping\n",
      "skipping\n",
      "skipping\n",
      "skipping\n",
      "skipping\n",
      "skipping\n",
      "skipping\n",
      "skipping\n",
      "skipping\n",
      "skipping\n",
      "skipping\n",
      "skipping\n",
      "skipping\n",
      "skipping\n",
      "skipping\n",
      "skipping\n",
      "skipping\n",
      "skipping\n",
      "skipping\n",
      "skipping\n",
      "skipping\n",
      "skipping\n",
      "skipping\n",
      "skipping\n",
      "skipping\n",
      "skipping\n",
      "skipping\n",
      "skipping\n",
      "skipping\n",
      "skipping\n",
      "skipping\n",
      "skipping\n",
      "skipping\n",
      "skipping\n",
      "skipping\n",
      "skipping\n",
      "skipping\n",
      "skipping\n",
      "skipping\n",
      "skipping\n",
      "skipping\n",
      "skipping\n",
      "skipping\n",
      "skipping\n",
      "skipping\n",
      "skipping\n",
      "skipping\n",
      "skipping\n",
      "skipping\n",
      "skipping\n",
      "skipping\n",
      "skipping\n",
      "skipping\n",
      "skipping\n",
      "skipping\n",
      "skipping\n",
      "skipping\n",
      "skipping\n",
      "skipping\n",
      "skipping\n",
      "skipping\n",
      "skipping\n",
      "skipping\n",
      "skipping\n",
      "skipping\n",
      "skipping\n",
      "skipping\n",
      "skipping\n",
      "skipping\n",
      "skipping\n",
      "skipping\n",
      "skipping\n",
      "skipping\n",
      "skipping\n",
      "skipping\n",
      "skipping\n",
      "skipping\n",
      "skipping\n",
      "skipping\n",
      "skipping\n",
      "skipping\n",
      "skipping\n",
      "skipping\n",
      "skipping\n",
      "skipping\n",
      "skipping\n",
      "skipping\n",
      "skipping\n",
      "skipping\n",
      "skipping\n",
      "skipping\n",
      "skipping\n",
      "skipping\n",
      "skipping\n",
      "skipping\n",
      "skipping\n",
      "skipping\n",
      "skipping\n",
      "skipping\n",
      "skipping\n",
      "skipping\n",
      "skipping\n",
      "skipping\n",
      "skipping\n",
      "skipping\n",
      "skipping\n",
      "skipping\n",
      "skipping\n",
      "skipping\n",
      "skipping\n",
      "skipping\n",
      "skipping\n",
      "skipping\n",
      "skipping\n",
      "skipping\n",
      "skipping\n",
      "skipping\n",
      "skipping\n",
      "skipping\n",
      "skipping\n",
      "skipping\n",
      "skipping\n",
      "skipping\n",
      "skipping\n",
      "skipping\n",
      "skipping\n",
      "skipping\n",
      "skipping\n",
      "skipping\n",
      "skipping\n",
      "skipping\n",
      "skipping\n",
      "skipping\n",
      "skipping\n",
      "skipping\n",
      "skipping\n",
      "skipping\n",
      "skipping\n",
      "skipping\n",
      "skipping\n",
      "skipping\n",
      "skipping\n",
      "skipping\n",
      "skipping\n",
      "skipping\n",
      "skipping\n",
      "skipping\n",
      "skipping\n",
      "skipping\n",
      "skipping\n",
      "skipping\n",
      "skipping\n",
      "skipping\n",
      "skipping\n",
      "skipping\n",
      "skipping\n",
      "skipping\n",
      "skipping\n",
      "skipping\n",
      "skipping\n",
      "skipping\n",
      "skipping\n",
      "skipping\n",
      "skipping\n",
      "skipping\n",
      "skipping\n",
      "skipping\n",
      "skipping\n",
      "skipping\n",
      "skipping\n",
      "skipping\n",
      "skipping\n",
      "skipping\n",
      "skipping\n",
      "skipping\n",
      "skipping\n",
      "skipping\n",
      "skipping\n",
      "skipping\n",
      "skipping\n",
      "skipping\n",
      "skipping\n",
      "skipping\n",
      "skipping\n",
      "skipping\n",
      "skipping\n",
      "skipping\n",
      "skipping\n",
      "skipping\n",
      "skipping\n",
      "skipping\n",
      "skipping\n",
      "skipping\n",
      "skipping\n",
      "skipping\n",
      "skipping\n",
      "skipping\n",
      "skipping\n",
      "skipping\n",
      "skipping\n",
      "skipping\n",
      "skipping\n",
      "skipping\n",
      "skipping\n",
      "skipping\n",
      "skipping\n",
      "skipping\n",
      "skipping\n",
      "skipping\n",
      "skipping\n",
      "skipping\n",
      "skipping\n",
      "skipping\n",
      "skipping\n",
      "skipping\n",
      "skipping\n",
      "skipping\n",
      "skipping\n",
      "skipping\n",
      "skipping\n",
      "skipping\n",
      "skipping\n",
      "skipping\n",
      "skipping\n",
      "skipping\n",
      "skipping\n",
      "skipping\n",
      "skipping\n",
      "skipping\n",
      "skipping\n"
     ]
    },
    {
     "name": "stdout",
     "output_type": "stream",
     "text": [
      "skipping\n",
      "skipping\n",
      "skipping\n",
      "skipping\n",
      "skipping\n",
      "skipping\n",
      "skipping\n",
      "skipping\n",
      "skipping\n",
      "skipping\n",
      "skipping\n",
      "skipping\n",
      "skipping\n",
      "skipping\n",
      "skipping\n",
      "skipping\n",
      "skipping\n",
      "skipping\n",
      "skipping\n",
      "skipping\n",
      "skipping\n",
      "skipping\n",
      "skipping\n",
      "skipping\n",
      "skipping\n",
      "skipping\n",
      "skipping\n",
      "skipping\n",
      "skipping\n",
      "skipping\n",
      "skipping\n",
      "skipping\n",
      "skipping\n",
      "skipping\n",
      "skipping\n",
      "skipping\n",
      "skipping\n",
      "skipping\n",
      "skipping\n",
      "skipping\n",
      "skipping\n",
      "skipping\n",
      "skipping\n",
      "skipping\n",
      "skipping\n",
      "skipping\n",
      "skipping\n",
      "skipping\n",
      "skipping\n",
      "skipping\n",
      "skipping\n",
      "skipping\n",
      "skipping\n",
      "skipping\n",
      "skipping\n",
      "skipping\n",
      "skipping\n",
      "skipping\n",
      "skipping\n",
      "skipping\n",
      "skipping\n",
      "skipping\n",
      "skipping\n",
      "skipping\n",
      "skipping\n",
      "skipping\n",
      "skipping\n",
      "skipping\n",
      "skipping\n",
      "skipping\n",
      "skipping\n",
      "skipping\n",
      "skipping\n",
      "skipping\n",
      "skipping\n",
      "skipping\n",
      "skipping\n",
      "skipping\n",
      "skipping\n",
      "skipping\n",
      "skipping\n",
      "skipping\n",
      "skipping\n",
      "skipping\n",
      "skipping\n",
      "skipping\n",
      "skipping\n",
      "skipping\n",
      "skipping\n",
      "skipping\n",
      "skipping\n",
      "skipping\n",
      "skipping\n",
      "skipping\n",
      "skipping\n",
      "skipping\n",
      "skipping\n",
      "skipping\n",
      "skipping\n",
      "skipping\n",
      "skipping\n",
      "skipping\n",
      "skipping\n",
      "skipping\n",
      "skipping\n",
      "skipping\n",
      "skipping\n",
      "skipping\n",
      "skipping\n",
      "skipping\n",
      "skipping\n",
      "skipping\n",
      "skipping\n",
      "skipping\n",
      "skipping\n",
      "skipping\n",
      "skipping\n",
      "skipping\n",
      "skipping\n",
      "skipping\n",
      "skipping\n",
      "skipping\n",
      "skipping\n",
      "skipping\n",
      "skipping\n",
      "skipping\n",
      "skipping\n",
      "skipping\n",
      "skipping\n",
      "skipping\n",
      "skipping\n",
      "skipping\n",
      "skipping\n",
      "skipping\n",
      "skipping\n",
      "skipping\n",
      "skipping\n",
      "skipping\n",
      "skipping\n",
      "skipping\n",
      "skipping\n",
      "skipping\n",
      "skipping\n",
      "skipping\n",
      "skipping\n",
      "skipping\n",
      "skipping\n",
      "skipping\n",
      "skipping\n",
      "skipping\n",
      "skipping\n",
      "skipping\n",
      "skipping\n",
      "skipping\n",
      "skipping\n",
      "skipping\n",
      "skipping\n",
      "skipping\n",
      "skipping\n",
      "skipping\n",
      "skipping\n",
      "skipping\n",
      "skipping\n",
      "skipping\n",
      "skipping\n",
      "skipping\n",
      "skipping\n",
      "skipping\n",
      "skipping\n",
      "skipping\n",
      "skipping\n",
      "skipping\n",
      "skipping\n",
      "skipping\n",
      "skipping\n",
      "skipping\n",
      "skipping\n",
      "skipping\n",
      "skipping\n",
      "skipping\n",
      "skipping\n",
      "skipping\n",
      "skipping\n",
      "skipping\n",
      "skipping\n",
      "skipping\n",
      "skipping\n",
      "skipping\n",
      "skipping\n",
      "skipping\n",
      "skipping\n",
      "skipping\n",
      "skipping\n",
      "skipping\n",
      "skipping\n",
      "skipping\n",
      "skipping\n",
      "skipping\n",
      "skipping\n",
      "skipping\n",
      "skipping\n",
      "skipping\n",
      "skipping\n",
      "skipping\n",
      "skipping\n",
      "skipping\n",
      "skipping\n",
      "skipping\n",
      "skipping\n",
      "skipping\n",
      "skipping\n",
      "skipping\n",
      "skipping\n",
      "skipping\n",
      "skipping\n",
      "skipping\n",
      "skipping\n",
      "skipping\n",
      "skipping\n",
      "skipping\n",
      "skipping\n",
      "skipping\n",
      "skipping\n",
      "skipping\n",
      "skipping\n",
      "skipping\n",
      "skipping\n",
      "skipping\n",
      "skipping\n",
      "skipping\n",
      "skipping\n",
      "skipping\n",
      "skipping\n",
      "skipping\n",
      "skipping\n",
      "skipping\n",
      "skipping\n",
      "skipping\n",
      "skipping\n",
      "skipping\n",
      "skipping\n",
      "skipping\n",
      "skipping\n",
      "skipping\n",
      "skipping\n",
      "skipping\n",
      "skipping\n",
      "skipping\n",
      "skipping\n",
      "skipping\n",
      "skipping\n",
      "skipping\n",
      "skipping\n",
      "skipping\n",
      "skipping\n",
      "skipping\n",
      "skipping\n",
      "skipping\n",
      "skipping\n",
      "skipping\n",
      "skipping\n",
      "skipping\n",
      "skipping\n",
      "skipping\n",
      "skipping\n",
      "skipping\n",
      "skipping\n",
      "skipping\n",
      "skipping\n",
      "skipping\n",
      "skipping\n",
      "skipping\n",
      "skipping\n",
      "skipping\n",
      "skipping\n",
      "skipping\n",
      "skipping\n",
      "skipping\n",
      "skipping\n",
      "skipping\n",
      "skipping\n",
      "skipping\n",
      "skipping\n",
      "skipping\n",
      "skipping\n",
      "skipping\n",
      "skipping\n",
      "skipping\n",
      "skipping\n",
      "skipping\n",
      "skipping\n",
      "skipping\n",
      "skipping\n",
      "skipping\n",
      "skipping\n",
      "skipping\n",
      "skipping\n",
      "skipping\n",
      "skipping\n",
      "skipping\n",
      "skipping\n",
      "skipping\n",
      "skipping\n",
      "skipping\n",
      "skipping\n",
      "skipping\n",
      "skipping\n",
      "skipping\n",
      "skipping\n",
      "skipping\n",
      "skipping\n",
      "skipping\n",
      "skipping\n",
      "skipping\n",
      "skipping\n",
      "skipping\n",
      "skipping\n",
      "skipping\n",
      "skipping\n",
      "skipping\n",
      "skipping\n",
      "skipping\n",
      "skipping\n",
      "skipping\n",
      "skipping\n",
      "skipping\n",
      "skipping\n",
      "skipping\n",
      "skipping\n",
      "skipping\n",
      "skipping\n",
      "skipping\n",
      "skipping\n",
      "skipping\n",
      "skipping\n",
      "skipping\n",
      "skipping\n",
      "skipping\n",
      "skipping\n",
      "skipping\n",
      "skipping\n",
      "skipping\n",
      "skipping\n",
      "skipping\n",
      "skipping\n",
      "skipping\n",
      "skipping\n",
      "skipping\n",
      "skipping\n",
      "skipping\n",
      "skipping\n",
      "skipping\n",
      "skipping\n",
      "skipping\n",
      "skipping\n",
      "skipping\n",
      "skipping\n",
      "skipping\n",
      "skipping\n",
      "skipping\n",
      "skipping\n",
      "skipping\n",
      "skipping\n",
      "skipping\n",
      "skipping\n",
      "skipping\n",
      "skipping\n",
      "skipping\n",
      "skipping\n",
      "skipping\n",
      "skipping\n",
      "skipping\n",
      "skipping\n",
      "skipping\n",
      "skipping\n",
      "skipping\n",
      "skipping\n",
      "skipping\n",
      "skipping\n",
      "skipping\n",
      "skipping\n",
      "skipping\n",
      "skipping\n",
      "skipping\n",
      "skipping\n",
      "skipping\n",
      "skipping\n",
      "skipping\n",
      "skipping\n",
      "skipping\n",
      "skipping\n",
      "skipping\n",
      "skipping\n",
      "skipping\n",
      "skipping\n",
      "skipping\n",
      "skipping\n",
      "skipping\n",
      "skipping\n",
      "skipping\n",
      "skipping\n",
      "skipping\n",
      "skipping\n",
      "skipping\n",
      "skipping\n",
      "skipping\n",
      "skipping\n",
      "skipping\n",
      "skipping\n",
      "skipping\n",
      "skipping\n",
      "skipping\n",
      "skipping\n",
      "skipping\n",
      "skipping\n",
      "skipping\n",
      "skipping\n",
      "skipping\n",
      "skipping\n",
      "skipping\n",
      "skipping\n",
      "skipping\n",
      "skipping\n",
      "skipping\n",
      "skipping\n",
      "skipping\n",
      "skipping\n",
      "skipping\n",
      "skipping\n",
      "skipping\n",
      "skipping\n",
      "skipping\n",
      "skipping\n",
      "skipping\n",
      "skipping\n",
      "skipping\n",
      "skipping\n",
      "skipping\n",
      "skipping\n",
      "skipping\n",
      "skipping\n",
      "skipping\n",
      "skipping\n",
      "skipping\n",
      "skipping\n",
      "skipping\n",
      "skipping\n",
      "skipping\n",
      "skipping\n",
      "skipping\n",
      "skipping\n",
      "skipping\n",
      "skipping\n",
      "skipping\n",
      "skipping\n",
      "skipping\n",
      "skipping\n",
      "skipping\n",
      "skipping\n",
      "skipping\n",
      "skipping\n",
      "skipping\n",
      "skipping\n",
      "skipping\n",
      "skipping\n",
      "skipping\n",
      "skipping\n",
      "skipping\n",
      "skipping\n",
      "skipping\n",
      "skipping\n",
      "skipping\n",
      "skipping\n",
      "skipping\n",
      "skipping\n",
      "skipping\n",
      "skipping\n",
      "skipping\n",
      "skipping\n",
      "skipping\n",
      "skipping\n",
      "skipping\n",
      "skipping\n",
      "skipping\n",
      "skipping\n",
      "skipping\n",
      "skipping\n",
      "skipping\n",
      "skipping\n",
      "skipping\n",
      "skipping\n",
      "skipping\n",
      "skipping\n",
      "skipping\n",
      "skipping\n",
      "skipping\n",
      "skipping\n",
      "skipping\n",
      "skipping\n",
      "skipping\n",
      "skipping\n",
      "skipping\n",
      "skipping\n",
      "skipping\n",
      "skipping\n",
      "skipping\n",
      "skipping\n",
      "skipping\n",
      "skipping\n",
      "skipping\n",
      "skipping\n",
      "skipping\n",
      "skipping\n",
      "skipping\n",
      "skipping\n",
      "skipping\n",
      "skipping\n",
      "skipping\n",
      "skipping\n",
      "skipping\n",
      "skipping\n",
      "skipping\n",
      "skipping\n",
      "skipping\n",
      "skipping\n",
      "skipping\n",
      "skipping\n",
      "skipping\n",
      "skipping\n",
      "skipping\n",
      "skipping\n",
      "skipping\n",
      "skipping\n",
      "skipping\n",
      "skipping\n",
      "skipping\n",
      "skipping\n",
      "skipping\n",
      "skipping\n",
      "skipping\n",
      "skipping\n",
      "skipping\n",
      "skipping\n",
      "skipping\n",
      "skipping\n",
      "skipping\n",
      "skipping\n",
      "skipping\n",
      "skipping\n",
      "skipping\n",
      "skipping\n",
      "skipping\n",
      "skipping\n",
      "skipping\n",
      "skipping\n",
      "skipping\n",
      "skipping\n",
      "skipping\n",
      "skipping\n",
      "skipping\n",
      "skipping\n",
      "skipping\n",
      "skipping\n",
      "skipping\n",
      "skipping\n",
      "skipping\n",
      "skipping\n",
      "skipping\n",
      "skipping\n",
      "skipping\n",
      "skipping\n",
      "skipping\n",
      "skipping\n",
      "skipping\n",
      "skipping\n",
      "skipping\n",
      "skipping\n",
      "skipping\n",
      "skipping\n",
      "skipping\n",
      "skipping\n",
      "skipping\n",
      "skipping\n",
      "skipping\n",
      "skipping\n",
      "skipping\n",
      "skipping\n",
      "skipping\n",
      "skipping\n",
      "skipping\n",
      "skipping\n",
      "skipping\n",
      "skipping\n",
      "skipping\n",
      "skipping\n",
      "skipping\n",
      "skipping\n",
      "skipping\n",
      "skipping\n",
      "skipping\n",
      "skipping\n",
      "skipping\n",
      "skipping\n",
      "skipping\n",
      "skipping\n",
      "skipping\n",
      "skipping\n",
      "skipping\n",
      "skipping\n",
      "skipping\n",
      "skipping\n",
      "skipping\n",
      "skipping\n",
      "skipping\n",
      "skipping\n",
      "skipping\n",
      "skipping\n",
      "skipping\n",
      "skipping\n",
      "skipping\n",
      "skipping\n",
      "skipping\n",
      "skipping\n",
      "skipping\n",
      "skipping\n",
      "skipping\n",
      "skipping\n",
      "skipping\n",
      "skipping\n",
      "skipping\n",
      "skipping\n",
      "skipping\n",
      "skipping\n",
      "skipping\n",
      "skipping\n",
      "skipping\n",
      "skipping\n",
      "skipping\n",
      "skipping\n",
      "skipping\n",
      "skipping\n",
      "skipping\n",
      "skipping\n",
      "skipping\n",
      "skipping\n",
      "skipping\n",
      "skipping\n",
      "skipping\n",
      "skipping\n",
      "skipping\n",
      "skipping\n",
      "skipping\n",
      "skipping\n",
      "skipping\n",
      "skipping\n",
      "skipping\n",
      "skipping\n",
      "skipping\n",
      "skipping\n",
      "skipping\n",
      "skipping\n",
      "skipping\n",
      "skipping\n",
      "skipping\n",
      "skipping\n",
      "skipping\n",
      "skipping\n",
      "skipping\n",
      "skipping\n",
      "skipping\n",
      "skipping\n",
      "skipping\n",
      "skipping\n",
      "skipping\n",
      "skipping\n",
      "skipping\n",
      "skipping\n",
      "skipping\n",
      "skipping\n",
      "skipping\n",
      "skipping\n",
      "skipping\n",
      "skipping\n",
      "skipping\n",
      "skipping\n",
      "skipping\n",
      "skipping\n",
      "skipping\n",
      "skipping\n",
      "skipping\n",
      "skipping\n",
      "skipping\n",
      "skipping\n",
      "skipping\n",
      "skipping\n",
      "skipping\n",
      "skipping\n",
      "skipping\n",
      "skipping\n",
      "skipping\n",
      "skipping\n",
      "skipping\n",
      "skipping\n",
      "skipping\n",
      "skipping\n",
      "skipping\n",
      "skipping\n",
      "skipping\n",
      "skipping\n",
      "skipping\n",
      "skipping\n",
      "skipping\n",
      "skipping\n",
      "skipping\n",
      "skipping\n",
      "skipping\n",
      "skipping\n",
      "skipping\n",
      "skipping\n",
      "skipping\n",
      "skipping\n",
      "skipping\n",
      "skipping\n",
      "skipping\n",
      "skipping\n",
      "skipping\n",
      "skipping\n",
      "skipping\n",
      "skipping\n",
      "skipping\n",
      "skipping\n",
      "skipping\n",
      "skipping\n",
      "skipping\n",
      "skipping\n",
      "skipping\n",
      "skipping\n",
      "skipping\n",
      "skipping\n",
      "skipping\n",
      "skipping\n",
      "skipping\n",
      "skipping\n",
      "skipping\n",
      "skipping\n",
      "skipping\n",
      "skipping\n",
      "skipping\n",
      "skipping\n",
      "skipping\n",
      "skipping\n",
      "skipping\n",
      "skipping\n",
      "skipping\n",
      "skipping\n",
      "skipping\n",
      "skipping\n",
      "skipping\n",
      "skipping\n",
      "skipping\n",
      "skipping\n",
      "skipping\n",
      "skipping\n",
      "skipping\n",
      "skipping\n",
      "skipping\n",
      "skipping\n",
      "skipping\n",
      "skipping\n",
      "skipping\n",
      "skipping\n",
      "skipping\n",
      "skipping\n",
      "skipping\n",
      "skipping\n",
      "skipping\n",
      "skipping\n",
      "skipping\n",
      "skipping\n",
      "skipping\n",
      "skipping\n",
      "skipping\n",
      "skipping\n",
      "skipping\n",
      "skipping\n",
      "skipping\n",
      "skipping\n",
      "skipping\n",
      "skipping\n",
      "skipping\n",
      "skipping\n",
      "skipping\n",
      "skipping\n",
      "skipping\n",
      "skipping\n",
      "skipping\n",
      "skipping\n",
      "skipping\n",
      "skipping\n",
      "skipping\n",
      "skipping\n",
      "skipping\n",
      "skipping\n",
      "skipping\n",
      "skipping\n",
      "skipping\n",
      "skipping\n",
      "skipping\n",
      "skipping\n",
      "skipping\n",
      "skipping\n",
      "skipping\n",
      "skipping\n",
      "skipping\n",
      "skipping\n",
      "skipping\n",
      "skipping\n",
      "skipping\n",
      "skipping\n",
      "skipping\n",
      "skipping\n",
      "skipping\n",
      "skipping\n",
      "skipping\n",
      "skipping\n",
      "skipping\n",
      "skipping\n",
      "skipping\n",
      "skipping\n",
      "skipping\n",
      "skipping\n",
      "skipping\n",
      "skipping\n",
      "skipping\n",
      "skipping\n",
      "skipping\n",
      "skipping\n",
      "skipping\n",
      "skipping\n",
      "skipping\n",
      "skipping\n",
      "skipping\n",
      "skipping\n",
      "skipping\n",
      "skipping\n",
      "skipping\n",
      "skipping\n",
      "skipping\n",
      "skipping\n",
      "skipping\n",
      "skipping\n",
      "skipping\n",
      "skipping\n",
      "skipping\n",
      "skipping\n",
      "skipping\n",
      "skipping\n",
      "skipping\n",
      "skipping\n",
      "skipping\n",
      "skipping\n",
      "skipping\n",
      "skipping\n",
      "skipping\n",
      "skipping\n",
      "skipping\n",
      "skipping\n",
      "skipping\n",
      "skipping\n",
      "skipping\n",
      "skipping\n",
      "skipping\n",
      "skipping\n",
      "skipping\n",
      "skipping\n",
      "skipping\n",
      "skipping\n",
      "skipping\n",
      "skipping\n",
      "skipping\n",
      "skipping\n",
      "skipping\n",
      "skipping\n",
      "skipping\n",
      "skipping\n",
      "skipping\n",
      "skipping\n",
      "skipping\n",
      "skipping\n",
      "skipping\n",
      "skipping\n",
      "skipping\n",
      "skipping\n",
      "skipping\n",
      "skipping\n",
      "skipping\n",
      "skipping\n",
      "skipping\n",
      "skipping\n",
      "skipping\n",
      "skipping\n",
      "skipping\n",
      "skipping\n",
      "skipping\n",
      "skipping\n",
      "skipping\n",
      "skipping\n",
      "skipping\n",
      "skipping\n",
      "skipping\n",
      "skipping\n",
      "skipping\n",
      "skipping\n",
      "skipping\n",
      "skipping\n",
      "data/handlabeling/980023be85/11_0.png\n"
     ]
    },
    {
     "data": {
      "image/png": "[encoded data removed]",
      "text/plain": [
       "<Figure size 432x288 with 1 Axes>"
      ]
     },
     "metadata": {
      "needs_background": "light"
     },
     "output_type": "display_data"
    },
    {
     "name": "stdout",
     "output_type": "stream",
     "text": [
      "What is this?148.8\n",
      "2050\n",
      "data/handlabeling/980023be85/11_1.png\n"
     ]
    },
    {
     "data": {
      "image/png": "[encoded data removed]",
      "text/plain": [
       "<Figure size 432x288 with 1 Axes>"
      ]
     },
     "metadata": {
      "needs_background": "light"
     },
     "output_type": "display_data"
    },
    {
     "name": "stdout",
     "output_type": "stream",
     "text": [
      "What is this?137.7\n",
      "2051\n",
      "data/handlabeling/980023be85/11_10.png\n"
     ]
    },
    {
     "data": {
      "image/png": "[encoded data removed]",
      "text/plain": [
       "<Figure size 432x288 with 1 Axes>"
      ]
     },
     "metadata": {
      "needs_background": "light"
     },
     "output_type": "display_data"
    },
    {
     "name": "stdout",
     "output_type": "stream",
     "text": [
      "What is this?37.8\n",
      "2052\n",
      "data/handlabeling/980023be85/11_100.png\n"
     ]
    },
    {
     "data": {
      "image/png": "[encoded data removed]",
      "text/plain": [
       "<Figure size 432x288 with 1 Axes>"
      ]
     },
     "metadata": {
      "needs_background": "light"
     },
     "output_type": "display_data"
    },
    {
     "name": "stdout",
     "output_type": "stream",
     "text": [
      "What is this?1.5\n",
      "2053\n",
      "skipping\n",
      "skipping\n",
      "skipping\n",
      "data/handlabeling/980023be85/11_104.png\n"
     ]
    },
    {
     "data": {
      "image/png": "[encoded data removed]",
      "text/plain": [
       "<Figure size 432x288 with 1 Axes>"
      ]
     },
     "metadata": {
      "needs_background": "light"
     },
     "output_type": "display_data"
    },
    {
     "name": "stdout",
     "output_type": "stream",
     "text": [
      "What is this?1.41\n",
      "2054\n",
      "data/handlabeling/980023be85/11_105.png\n"
     ]
    },
    {
     "data": {
      "image/png": "[encoded data removed]",
      "text/plain": [
       "<Figure size 432x288 with 1 Axes>"
      ]
     },
     "metadata": {
      "needs_background": "light"
     },
     "output_type": "display_data"
    },
    {
     "name": "stdout",
     "output_type": "stream",
     "text": [
      "What is this?1.2\n",
      "2055\n",
      "skipping\n",
      "skipping\n",
      "skipping\n",
      "skipping\n",
      "data/handlabeling/980023be85/11_11.png\n"
     ]
    },
    {
     "data": {
      "image/png": "[encoded data removed]",
      "text/plain": [
       "<Figure size 432x288 with 1 Axes>"
      ]
     },
     "metadata": {
      "needs_background": "light"
     },
     "output_type": "display_data"
    },
    {
     "name": "stdout",
     "output_type": "stream",
     "text": [
      "What is this?36\n",
      "2056\n",
      "skipping\n",
      "skipping\n",
      "skipping\n",
      "skipping\n",
      "skipping\n",
      "skipping\n",
      "skipping\n",
      "data/handlabeling/980023be85/11_117.png\n"
     ]
    },
    {
     "data": {
      "image/png": "[encoded data removed]",
      "text/plain": [
       "<Figure size 432x288 with 1 Axes>"
      ]
     },
     "metadata": {
      "needs_background": "light"
     },
     "output_type": "display_data"
    },
    {
     "name": "stdout",
     "output_type": "stream",
     "text": [
      "What is this?0.96\n",
      "2057\n",
      "data/handlabeling/980023be85/11_118.png\n"
     ]
    },
    {
     "data": {
      "image/png": "[encoded data removed]",
      "text/plain": [
       "<Figure size 432x288 with 1 Axes>"
      ]
     },
     "metadata": {
      "needs_background": "light"
     },
     "output_type": "display_data"
    },
    {
     "name": "stdout",
     "output_type": "stream",
     "text": [
      "What is this?0.9\n",
      "2058\n",
      "skipping\n",
      "data/handlabeling/980023be85/11_12.png\n"
     ]
    },
    {
     "data": {
      "image/png": "[encoded data removed]",
      "text/plain": [
       "<Figure size 432x288 with 1 Axes>"
      ]
     },
     "metadata": {
      "needs_background": "light"
     },
     "output_type": "display_data"
    },
    {
     "name": "stdout",
     "output_type": "stream",
     "text": [
      "What is this?33\n",
      "2059\n",
      "skipping\n",
      "skipping\n",
      "skipping\n",
      "skipping\n",
      "skipping\n",
      "skipping\n",
      "data/handlabeling/980023be85/11_126.png\n"
     ]
    },
    {
     "data": {
      "image/png": "[encoded data removed]",
      "text/plain": [
       "<Figure size 432x288 with 1 Axes>"
      ]
     },
     "metadata": {
      "needs_background": "light"
     },
     "output_type": "display_data"
    },
    {
     "name": "stdout",
     "output_type": "stream",
     "text": [
      "What is this?0.86\n",
      "2060\n",
      "data/handlabeling/980023be85/11_127.png\n"
     ]
    },
    {
     "data": {
      "image/png": "[encoded data removed]",
      "text/plain": [
       "<Figure size 432x288 with 1 Axes>"
      ]
     },
     "metadata": {
      "needs_background": "light"
     },
     "output_type": "display_data"
    },
    {
     "name": "stdout",
     "output_type": "stream",
     "text": [
      "What is this?0.6\n",
      "2061\n",
      "skipping\n",
      "skipping\n",
      "data/handlabeling/980023be85/11_13.png\n"
     ]
    },
    {
     "data": {
      "image/png": "[encoded data removed]",
      "text/plain": [
       "<Figure size 432x288 with 1 Axes>"
      ]
     },
     "metadata": {
      "needs_background": "light"
     },
     "output_type": "display_data"
    },
    {
     "name": "stdout",
     "output_type": "stream",
     "text": [
      "What is this?32.1\n",
      "2062\n",
      "skipping\n",
      "skipping\n",
      "skipping\n",
      "skipping\n",
      "skipping\n",
      "skipping\n",
      "skipping\n",
      "data/handlabeling/980023be85/11_137.png\n"
     ]
    },
    {
     "data": {
      "image/png": "[encoded data removed]",
      "text/plain": [
       "<Figure size 432x288 with 1 Axes>"
      ]
     },
     "metadata": {
      "needs_background": "light"
     },
     "output_type": "display_data"
    },
    {
     "name": "stdout",
     "output_type": "stream",
     "text": [
      "What is this?0.43\n",
      "2063\n",
      "data/handlabeling/980023be85/11_138.png\n"
     ]
    },
    {
     "data": {
      "image/png": "[encoded data removed]",
      "text/plain": [
       "<Figure size 432x288 with 1 Axes>"
      ]
     },
     "metadata": {
      "needs_background": "light"
     },
     "output_type": "display_data"
    },
    {
     "name": "stdout",
     "output_type": "stream",
     "text": [
      "What is this?0.3\n",
      "2064\n",
      "skipping\n",
      "data/handlabeling/980023be85/11_14.png\n"
     ]
    },
    {
     "data": {
      "image/png": "[encoded data removed]",
      "text/plain": [
       "<Figure size 432x288 with 1 Axes>"
      ]
     },
     "metadata": {
      "needs_background": "light"
     },
     "output_type": "display_data"
    },
    {
     "name": "stdout",
     "output_type": "stream",
     "text": [
      "What is this?29.4\n",
      "2065\n",
      "skipping\n",
      "skipping\n",
      "skipping\n",
      "skipping\n",
      "skipping\n",
      "skipping\n",
      "skipping\n",
      "data/handlabeling/980023be85/11_15.png\n"
     ]
    },
    {
     "data": {
      "image/png": "[encoded data removed]",
      "text/plain": [
       "<Figure size 432x288 with 1 Axes>"
      ]
     },
     "metadata": {
      "needs_background": "light"
     },
     "output_type": "display_data"
    },
    {
     "name": "stdout",
     "output_type": "stream",
     "text": [
      "What is this?26.7\n",
      "2066\n",
      "data/handlabeling/980023be85/11_16.png\n"
     ]
    },
    {
     "data": {
      "image/png": "[encoded data removed]",
      "text/plain": [
       "<Figure size 432x288 with 1 Axes>"
      ]
     },
     "metadata": {
      "needs_background": "light"
     },
     "output_type": "display_data"
    },
    {
     "name": "stdout",
     "output_type": "stream",
     "text": [
      "What is this?24.8\n",
      "2067\n",
      "data/handlabeling/980023be85/11_17.png\n"
     ]
    },
    {
     "data": {
      "image/png": "[encoded data removed]",
      "text/plain": [
       "<Figure size 432x288 with 1 Axes>"
      ]
     },
     "metadata": {
      "needs_background": "light"
     },
     "output_type": "display_data"
    },
    {
     "name": "stdout",
     "output_type": "stream",
     "text": [
      "What is this?24\n",
      "2068\n",
      "data/handlabeling/980023be85/11_18.png\n"
     ]
    },
    {
     "data": {
      "image/png": "[encoded data removed]",
      "text/plain": [
       "<Figure size 432x288 with 1 Axes>"
      ]
     },
     "metadata": {
      "needs_background": "light"
     },
     "output_type": "display_data"
    },
    {
     "name": "stdout",
     "output_type": "stream",
     "text": [
      "What is this?23.1\n",
      "2069\n",
      "data/handlabeling/980023be85/11_19.png\n"
     ]
    },
    {
     "data": {
      "image/png": "[encoded data removed]",
      "text/plain": [
       "<Figure size 432x288 with 1 Axes>"
      ]
     },
     "metadata": {
      "needs_background": "light"
     },
     "output_type": "display_data"
    },
    {
     "name": "stdout",
     "output_type": "stream",
     "text": [
      "What is this?21.9\n",
      "2070\n",
      "data/handlabeling/980023be85/11_2.png\n"
     ]
    },
    {
     "data": {
      "image/png": "[encoded data removed]",
      "text/plain": [
       "<Figure size 432x288 with 1 Axes>"
      ]
     },
     "metadata": {
      "needs_background": "light"
     },
     "output_type": "display_data"
    },
    {
     "name": "stdout",
     "output_type": "stream",
     "text": [
      "What is this?78.3\n",
      "2071\n",
      "data/handlabeling/980023be85/11_20.png\n"
     ]
    },
    {
     "data": {
      "image/png": "[encoded data removed]",
      "text/plain": [
       "<Figure size 432x288 with 1 Axes>"
      ]
     },
     "metadata": {
      "needs_background": "light"
     },
     "output_type": "display_data"
    },
    {
     "name": "stdout",
     "output_type": "stream",
     "text": [
      "What is this?20.4\n",
      "2072\n",
      "data/handlabeling/980023be85/11_21.png\n"
     ]
    },
    {
     "data": {
      "image/png": "[encoded data removed]",
      "text/plain": [
       "<Figure size 432x288 with 1 Axes>"
      ]
     },
     "metadata": {
      "needs_background": "light"
     },
     "output_type": "display_data"
    },
    {
     "name": "stdout",
     "output_type": "stream",
     "text": [
      "What is this?18\n",
      "2073\n",
      "data/handlabeling/980023be85/11_22.png\n"
     ]
    },
    {
     "data": {
      "image/png": "[encoded data removed]",
      "text/plain": [
       "<Figure size 432x288 with 1 Axes>"
      ]
     },
     "metadata": {
      "needs_background": "light"
     },
     "output_type": "display_data"
    },
    {
     "name": "stdout",
     "output_type": "stream",
     "text": [
      "What is this?16.74\n",
      "2074\n",
      "data/handlabeling/980023be85/11_23.png\n"
     ]
    },
    {
     "data": {
      "image/png": "[encoded data removed]",
      "text/plain": [
       "<Figure size 432x288 with 1 Axes>"
      ]
     },
     "metadata": {
      "needs_background": "light"
     },
     "output_type": "display_data"
    },
    {
     "name": "stdout",
     "output_type": "stream",
     "text": [
      "What is this?16.2\n",
      "2075\n",
      "data/handlabeling/980023be85/11_24.png\n"
     ]
    },
    {
     "data": {
      "image/png": "[encoded data removed]",
      "text/plain": [
       "<Figure size 432x288 with 1 Axes>"
      ]
     },
     "metadata": {
      "needs_background": "light"
     },
     "output_type": "display_data"
    },
    {
     "name": "stdout",
     "output_type": "stream",
     "text": [
      "What is this?15.6\n",
      "2076\n",
      "data/handlabeling/980023be85/11_25.png\n"
     ]
    },
    {
     "data": {
      "image/png": "[encoded data removed]",
      "text/plain": [
       "<Figure size 432x288 with 1 Axes>"
      ]
     },
     "metadata": {
      "needs_background": "light"
     },
     "output_type": "display_data"
    },
    {
     "name": "stdout",
     "output_type": "stream",
     "text": [
      "What is this?14.4\n",
      "2077\n",
      "data/handlabeling/980023be85/11_26.png\n"
     ]
    },
    {
     "data": {
      "image/png": "[encoded data removed]",
      "text/plain": [
       "<Figure size 432x288 with 1 Axes>"
      ]
     },
     "metadata": {
      "needs_background": "light"
     },
     "output_type": "display_data"
    },
    {
     "name": "stdout",
     "output_type": "stream",
     "text": [
      "What is this?13.5\n",
      "2078\n",
      "data/handlabeling/980023be85/11_27.png\n"
     ]
    },
    {
     "data": {
      "image/png": "[encoded data removed]",
      "text/plain": [
       "<Figure size 432x288 with 1 Axes>"
      ]
     },
     "metadata": {
      "needs_background": "light"
     },
     "output_type": "display_data"
    },
    {
     "name": "stdout",
     "output_type": "stream",
     "text": [
      "What is this?13.2\n",
      "2079\n",
      "data/handlabeling/980023be85/11_28.png\n"
     ]
    },
    {
     "data": {
      "image/png": "[encoded data removed]",
      "text/plain": [
       "<Figure size 432x288 with 1 Axes>"
      ]
     },
     "metadata": {
      "needs_background": "light"
     },
     "output_type": "display_data"
    },
    {
     "name": "stdout",
     "output_type": "stream",
     "text": [
      "What is this?12.3\n",
      "2080\n",
      "data/handlabeling/980023be85/11_29.png\n"
     ]
    },
    {
     "data": {
      "image/png": "[encoded data removed]",
      "text/plain": [
       "<Figure size 432x288 with 1 Axes>"
      ]
     },
     "metadata": {
      "needs_background": "light"
     },
     "output_type": "display_data"
    },
    {
     "name": "stdout",
     "output_type": "stream",
     "text": [
      "What is this?12\n",
      "2081\n",
      "data/handlabeling/980023be85/11_3.png\n"
     ]
    },
    {
     "data": {
      "image/png": "[encoded data removed]",
      "text/plain": [
       "<Figure size 432x288 with 1 Axes>"
      ]
     },
     "metadata": {
      "needs_background": "light"
     },
     "output_type": "display_data"
    },
    {
     "name": "stdout",
     "output_type": "stream",
     "text": [
      "What is this?68.1\n",
      "2082\n",
      "data/handlabeling/980023be85/11_30.png\n"
     ]
    },
    {
     "data": {
      "image/png": "[encoded data removed]",
      "text/plain": [
       "<Figure size 432x288 with 1 Axes>"
      ]
     },
     "metadata": {
      "needs_background": "light"
     },
     "output_type": "display_data"
    },
    {
     "name": "stdout",
     "output_type": "stream",
     "text": [
      "What is this?11.4\n",
      "2083\n",
      "data/handlabeling/980023be85/11_31.png\n"
     ]
    },
    {
     "data": {
      "image/png": "[encoded data removed]",
      "text/plain": [
       "<Figure size 432x288 with 1 Axes>"
      ]
     },
     "metadata": {
      "needs_background": "light"
     },
     "output_type": "display_data"
    },
    {
     "name": "stdout",
     "output_type": "stream",
     "text": [
      "What is this?11.1\n",
      "2084\n",
      "data/handlabeling/980023be85/11_32.png\n"
     ]
    },
    {
     "data": {
      "image/png": "[encoded data removed]",
      "text/plain": [
       "<Figure size 432x288 with 1 Axes>"
      ]
     },
     "metadata": {
      "needs_background": "light"
     },
     "output_type": "display_data"
    },
    {
     "name": "stdout",
     "output_type": "stream",
     "text": [
      "What is this?10.8\n",
      "2085\n",
      "data/handlabeling/980023be85/11_33.png\n"
     ]
    },
    {
     "data": {
      "image/png": "[encoded data removed]",
      "text/plain": [
       "<Figure size 432x288 with 1 Axes>"
      ]
     },
     "metadata": {
      "needs_background": "light"
     },
     "output_type": "display_data"
    },
    {
     "name": "stdout",
     "output_type": "stream",
     "text": [
      "What is this?9.6\n",
      "2086\n",
      "data/handlabeling/980023be85/11_34.png\n"
     ]
    },
    {
     "data": {
      "image/png": "[encoded data removed]",
      "text/plain": [
       "<Figure size 432x288 with 1 Axes>"
      ]
     },
     "metadata": {
      "needs_background": "light"
     },
     "output_type": "display_data"
    },
    {
     "name": "stdout",
     "output_type": "stream",
     "text": [
      "What is this?9.3\n",
      "2087\n",
      "data/handlabeling/980023be85/11_35.png\n"
     ]
    },
    {
     "data": {
      "image/png": "[encoded data removed]",
      "text/plain": [
       "<Figure size 432x288 with 1 Axes>"
      ]
     },
     "metadata": {
      "needs_background": "light"
     },
     "output_type": "display_data"
    },
    {
     "name": "stdout",
     "output_type": "stream",
     "text": [
      "What is this?9\n",
      "2088\n",
      "data/handlabeling/980023be85/11_36.png\n"
     ]
    },
    {
     "data": {
      "image/png": "[encoded data removed]",
      "text/plain": [
       "<Figure size 432x288 with 1 Axes>"
      ]
     },
     "metadata": {
      "needs_background": "light"
     },
     "output_type": "display_data"
    },
    {
     "name": "stdout",
     "output_type": "stream",
     "text": [
      "What is this?8.4\n",
      "2089\n",
      "data/handlabeling/980023be85/11_37.png\n"
     ]
    },
    {
     "data": {
      "image/png": "[encoded data removed]",
      "text/plain": [
       "<Figure size 432x288 with 1 Axes>"
      ]
     },
     "metadata": {
      "needs_background": "light"
     },
     "output_type": "display_data"
    },
    {
     "name": "stdout",
     "output_type": "stream",
     "text": [
      "What is this?8.1\n",
      "2090\n",
      "data/handlabeling/980023be85/11_38.png\n"
     ]
    },
    {
     "data": {
      "image/png": "[encoded data removed]",
      "text/plain": [
       "<Figure size 432x288 with 1 Axes>"
      ]
     },
     "metadata": {
      "needs_background": "light"
     },
     "output_type": "display_data"
    },
    {
     "name": "stdout",
     "output_type": "stream",
     "text": [
      "What is this?8.01\n",
      "2091\n",
      "data/handlabeling/980023be85/11_39.png\n"
     ]
    },
    {
     "data": {
      "image/png": "[encoded data removed]",
      "text/plain": [
       "<Figure size 432x288 with 1 Axes>"
      ]
     },
     "metadata": {
      "needs_background": "light"
     },
     "output_type": "display_data"
    },
    {
     "name": "stdout",
     "output_type": "stream",
     "text": [
      "What is this?7.2\n",
      "2092\n",
      "data/handlabeling/980023be85/11_4.png\n"
     ]
    },
    {
     "data": {
      "image/png": "[encoded data removed]",
      "text/plain": [
       "<Figure size 432x288 with 1 Axes>"
      ]
     },
     "metadata": {
      "needs_background": "light"
     },
     "output_type": "display_data"
    },
    {
     "name": "stdout",
     "output_type": "stream",
     "text": [
      "What is this?65.4\n",
      "2093\n",
      "data/handlabeling/980023be85/11_40.png\n"
     ]
    },
    {
     "data": {
      "image/png": "[encoded data removed]",
      "text/plain": [
       "<Figure size 432x288 with 1 Axes>"
      ]
     },
     "metadata": {
      "needs_background": "light"
     },
     "output_type": "display_data"
    },
    {
     "name": "stdout",
     "output_type": "stream",
     "text": [
      "What is this?6.6\n",
      "2094\n",
      "data/handlabeling/980023be85/11_41.png\n"
     ]
    },
    {
     "data": {
      "image/png": "[encoded data removed]",
      "text/plain": [
       "<Figure size 432x288 with 1 Axes>"
      ]
     },
     "metadata": {
      "needs_background": "light"
     },
     "output_type": "display_data"
    },
    {
     "name": "stdout",
     "output_type": "stream",
     "text": [
      "What is this?6.3\n",
      "2095\n",
      "data/handlabeling/980023be85/11_42.png\n"
     ]
    },
    {
     "data": {
      "image/png": "[encoded data removed]",
      "text/plain": [
       "<Figure size 432x288 with 1 Axes>"
      ]
     },
     "metadata": {
      "needs_background": "light"
     },
     "output_type": "display_data"
    },
    {
     "name": "stdout",
     "output_type": "stream",
     "text": [
      "What is this?6\n",
      "2096\n",
      "skipping\n",
      "skipping\n",
      "data/handlabeling/980023be85/11_45.png\n"
     ]
    },
    {
     "data": {
      "image/png": "[encoded data removed]",
      "text/plain": [
       "<Figure size 432x288 with 1 Axes>"
      ]
     },
     "metadata": {
      "needs_background": "light"
     },
     "output_type": "display_data"
    },
    {
     "name": "stdout",
     "output_type": "stream",
     "text": [
      "What is this?5.72\n",
      "2097\n",
      "data/handlabeling/980023be85/11_46.png\n"
     ]
    },
    {
     "data": {
      "image/png": "[encoded data removed]",
      "text/plain": [
       "<Figure size 432x288 with 1 Axes>"
      ]
     },
     "metadata": {
      "needs_background": "light"
     },
     "output_type": "display_data"
    },
    {
     "name": "stdout",
     "output_type": "stream",
     "text": [
      "What is this?5.4\n",
      "2098\n",
      "skipping\n",
      "skipping\n",
      "data/handlabeling/980023be85/11_49.png\n"
     ]
    },
    {
     "data": {
      "image/png": "[encoded data removed]",
      "text/plain": [
       "<Figure size 432x288 with 1 Axes>"
      ]
     },
     "metadata": {
      "needs_background": "light"
     },
     "output_type": "display_data"
    },
    {
     "name": "stdout",
     "output_type": "stream",
     "text": [
      "What is this?5.1\n",
      "2099\n",
      "data/handlabeling/980023be85/11_5.png\n"
     ]
    },
    {
     "data": {
      "image/png": "[encoded data removed]",
      "text/plain": [
       "<Figure size 432x288 with 1 Axes>"
      ]
     },
     "metadata": {
      "needs_background": "light"
     },
     "output_type": "display_data"
    },
    {
     "name": "stdout",
     "output_type": "stream",
     "text": [
      "What is this?59.4\n",
      "2100\n",
      "data/handlabeling/980023be85/11_50.png\n"
     ]
    },
    {
     "data": {
      "image/png": "[encoded data removed]",
      "text/plain": [
       "<Figure size 432x288 with 1 Axes>"
      ]
     },
     "metadata": {
      "needs_background": "light"
     },
     "output_type": "display_data"
    },
    {
     "name": "stdout",
     "output_type": "stream",
     "text": [
      "What is this?4.8\n",
      "2101\n",
      "skipping\n",
      "skipping\n",
      "skipping\n",
      "data/handlabeling/980023be85/11_54.png\n"
     ]
    },
    {
     "data": {
      "image/png": "[encoded data removed]",
      "text/plain": [
       "<Figure size 432x288 with 1 Axes>"
      ]
     },
     "metadata": {
      "needs_background": "light"
     },
     "output_type": "display_data"
    },
    {
     "name": "stdout",
     "output_type": "stream",
     "text": [
      "What is this?4.5\n",
      "2102\n",
      "skipping\n",
      "skipping\n",
      "skipping\n",
      "data/handlabeling/980023be85/11_58.png\n"
     ]
    },
    {
     "data": {
      "image/png": "[encoded data removed]",
      "text/plain": [
       "<Figure size 432x288 with 1 Axes>"
      ]
     },
     "metadata": {
      "needs_background": "light"
     },
     "output_type": "display_data"
    },
    {
     "name": "stdout",
     "output_type": "stream",
     "text": [
      "What is this?4.2\n",
      "2103\n",
      "skipping\n",
      "data/handlabeling/980023be85/11_6.png\n"
     ]
    },
    {
     "data": {
      "image/png": "[encoded data removed]",
      "text/plain": [
       "<Figure size 432x288 with 1 Axes>"
      ]
     },
     "metadata": {
      "needs_background": "light"
     },
     "output_type": "display_data"
    },
    {
     "name": "stdout",
     "output_type": "stream",
     "text": [
      "What is this?50.4\n",
      "2104\n",
      "data/handlabeling/980023be85/11_60.png\n"
     ]
    },
    {
     "data": {
      "image/png": "[encoded data removed]",
      "text/plain": [
       "<Figure size 432x288 with 1 Axes>"
      ]
     },
     "metadata": {
      "needs_background": "light"
     },
     "output_type": "display_data"
    },
    {
     "name": "stdout",
     "output_type": "stream",
     "text": [
      "What is this?3.6\n",
      "2105\n",
      "skipping\n",
      "skipping\n",
      "skipping\n",
      "skipping\n",
      "skipping\n",
      "data/handlabeling/980023be85/11_66.png\n"
     ]
    },
    {
     "data": {
      "image/png": "[encoded data removed]",
      "text/plain": [
       "<Figure size 432x288 with 1 Axes>"
      ]
     },
     "metadata": {
      "needs_background": "light"
     },
     "output_type": "display_data"
    },
    {
     "name": "stdout",
     "output_type": "stream",
     "text": [
      "What is this?3.3\n",
      "2106\n",
      "data/handlabeling/980023be85/11_67.png\n"
     ]
    },
    {
     "data": {
      "image/png": "[encoded data removed]",
      "text/plain": [
       "<Figure size 432x288 with 1 Axes>"
      ]
     },
     "metadata": {
      "needs_background": "light"
     },
     "output_type": "display_data"
    },
    {
     "name": "stdout",
     "output_type": "stream",
     "text": [
      "What is this?3\n",
      "2107\n",
      "skipping\n",
      "skipping\n",
      "data/handlabeling/980023be85/11_7.png\n"
     ]
    },
    {
     "data": {
      "image/png": "[encoded data removed]",
      "text/plain": [
       "<Figure size 432x288 with 1 Axes>"
      ]
     },
     "metadata": {
      "needs_background": "light"
     },
     "output_type": "display_data"
    },
    {
     "name": "stdout",
     "output_type": "stream",
     "text": [
      "What is this?45.3\n",
      "2108\n",
      "data/handlabeling/980023be85/11_70.png\n"
     ]
    },
    {
     "data": {
      "image/png": "[encoded data removed]",
      "text/plain": [
       "<Figure size 432x288 with 1 Axes>"
      ]
     },
     "metadata": {
      "needs_background": "light"
     },
     "output_type": "display_data"
    },
    {
     "name": "stdout",
     "output_type": "stream",
     "text": [
      "What is this?2.85\n",
      "2109\n",
      "data/handlabeling/980023be85/11_71.png\n"
     ]
    },
    {
     "data": {
      "image/png": "[encoded data removed]",
      "text/plain": [
       "<Figure size 432x288 with 1 Axes>"
      ]
     },
     "metadata": {
      "needs_background": "light"
     },
     "output_type": "display_data"
    },
    {
     "name": "stdout",
     "output_type": "stream",
     "text": [
      "What is this?2.7\n",
      "2110\n",
      "skipping\n",
      "data/handlabeling/980023be85/11_73.png\n"
     ]
    },
    {
     "data": {
      "image/png": "[encoded data removed]",
      "text/plain": [
       "<Figure size 432x288 with 1 Axes>"
      ]
     },
     "metadata": {
      "needs_background": "light"
     },
     "output_type": "display_data"
    },
    {
     "name": "stdout",
     "output_type": "stream",
     "text": [
      "What is this?2.4\n",
      "2111\n",
      "skipping\n",
      "skipping\n",
      "skipping\n",
      "skipping\n",
      "skipping\n",
      "skipping\n",
      "data/handlabeling/980023be85/11_8.png\n"
     ]
    },
    {
     "data": {
      "image/png": "[encoded data removed]",
      "text/plain": [
       "<Figure size 432x288 with 1 Axes>"
      ]
     },
     "metadata": {
      "needs_background": "light"
     },
     "output_type": "display_data"
    },
    {
     "name": "stdout",
     "output_type": "stream",
     "text": [
      "What is this?43.2\n",
      "2112\n",
      "data/handlabeling/980023be85/11_80.png\n"
     ]
    },
    {
     "data": {
      "image/png": "[encoded data removed]",
      "text/plain": [
       "<Figure size 432x288 with 1 Axes>"
      ]
     },
     "metadata": {
      "needs_background": "light"
     },
     "output_type": "display_data"
    },
    {
     "name": "stdout",
     "output_type": "stream",
     "text": [
      "What is this?2.1\n",
      "2113\n",
      "skipping\n",
      "skipping\n",
      "data/handlabeling/980023be85/11_83.png\n"
     ]
    },
    {
     "data": {
      "image/png": "[encoded data removed]",
      "text/plain": [
       "<Figure size 432x288 with 1 Axes>"
      ]
     },
     "metadata": {
      "needs_background": "light"
     },
     "output_type": "display_data"
    },
    {
     "name": "stdout",
     "output_type": "stream",
     "text": [
      "What is this?1.8\n",
      "2114\n",
      "skipping\n",
      "skipping\n",
      "skipping\n",
      "skipping\n",
      "skipping\n",
      "skipping\n",
      "data/handlabeling/980023be85/11_9.png\n"
     ]
    },
    {
     "data": {
      "image/png": "[encoded data removed]",
      "text/plain": [
       "<Figure size 432x288 with 1 Axes>"
      ]
     },
     "metadata": {
      "needs_background": "light"
     },
     "output_type": "display_data"
    },
    {
     "name": "stdout",
     "output_type": "stream",
     "text": [
      "What is this?40.5\n",
      "2115\n",
      "skipping\n",
      "skipping\n",
      "skipping\n",
      "data/handlabeling/980023be85/11_93.png\n"
     ]
    },
    {
     "data": {
      "image/png": "[encoded data removed]",
      "text/plain": [
       "<Figure size 432x288 with 1 Axes>"
      ]
     },
     "metadata": {
      "needs_background": "light"
     },
     "output_type": "display_data"
    },
    {
     "name": "stdout",
     "output_type": "stream",
     "text": [
      "What is this?1.76\n",
      "2116\n",
      "data/handlabeling/980023be85/11_94.png\n"
     ]
    },
    {
     "data": {
      "image/png": "[encoded data removed]",
      "text/plain": [
       "<Figure size 432x288 with 1 Axes>"
      ]
     },
     "metadata": {
      "needs_background": "light"
     },
     "output_type": "display_data"
    },
    {
     "name": "stdout",
     "output_type": "stream",
     "text": [
      "What is this?1.68\n",
      "2117\n",
      "skipping\n",
      "skipping\n",
      "skipping\n",
      "skipping\n",
      "skipping\n",
      "data/handlabeling/980023be85/13_11.png\n"
     ]
    },
    {
     "data": {
      "image/png": "[encoded data removed]",
      "text/plain": [
       "<Figure size 432x288 with 1 Axes>"
      ]
     },
     "metadata": {
      "needs_background": "light"
     },
     "output_type": "display_data"
    },
    {
     "name": "stdout",
     "output_type": "stream",
     "text": [
      "What is this?0.22\n",
      "2118\n",
      "data/handlabeling/980023be85/13_110.png\n"
     ]
    },
    {
     "data": {
      "image/png": "[encoded data removed]",
      "text/plain": [
       "<Figure size 432x288 with 1 Axes>"
      ]
     },
     "metadata": {
      "needs_background": "light"
     },
     "output_type": "display_data"
    },
    {
     "name": "stdout",
     "output_type": "stream",
     "text": [
      "What is this?0.01\n",
      "2119\n",
      "skipping\n",
      "skipping\n",
      "skipping\n",
      "skipping\n",
      "skipping\n",
      "skipping\n",
      "skipping\n",
      "skipping\n",
      "skipping\n",
      "skipping\n",
      "data/handlabeling/980023be85/13_24.png\n"
     ]
    },
    {
     "data": {
      "image/png": "[encoded data removed]",
      "text/plain": [
       "<Figure size 432x288 with 1 Axes>"
      ]
     },
     "metadata": {
      "needs_background": "light"
     },
     "output_type": "display_data"
    },
    {
     "name": "stdout",
     "output_type": "stream",
     "text": [
      "What is this?0.1\n",
      "2120\n",
      "data/handlabeling/980023be85/14_11.png\n"
     ]
    },
    {
     "data": {
      "image/png": "[encoded data removed]",
      "text/plain": [
       "<Figure size 432x288 with 1 Axes>"
      ]
     },
     "metadata": {
      "needs_background": "light"
     },
     "output_type": "display_data"
    },
    {
     "name": "stdout",
     "output_type": "stream",
     "text": [
      "What is this?110\n",
      "2121\n",
      "data/handlabeling/980023be85/14_110.png\n"
     ]
    },
    {
     "data": {
      "image/png": "[encoded data removed]",
      "text/plain": [
       "<Figure size 432x288 with 1 Axes>"
      ]
     },
     "metadata": {
      "needs_background": "light"
     },
     "output_type": "display_data"
    },
    {
     "name": "stdout",
     "output_type": "stream",
     "text": [
      "What is this?1\n",
      "2122\n",
      "data/handlabeling/980023be85/14_111.png\n"
     ]
    },
    {
     "data": {
      "image/png": "[encoded data removed]",
      "text/plain": [
       "<Figure size 432x288 with 1 Axes>"
      ]
     },
     "metadata": {
      "needs_background": "light"
     },
     "output_type": "display_data"
    },
    {
     "name": "stdout",
     "output_type": "stream",
     "text": [
      "What is this?4\n",
      "2123\n",
      "skipping\n",
      "skipping\n",
      "skipping\n",
      "data/handlabeling/980023be85/14_115.png\n"
     ]
    },
    {
     "data": {
      "image/png": "[encoded data removed]",
      "text/plain": [
       "<Figure size 432x288 with 1 Axes>"
      ]
     },
     "metadata": {
      "needs_background": "light"
     },
     "output_type": "display_data"
    },
    {
     "name": "stdout",
     "output_type": "stream",
     "text": [
      "What is this?2\n",
      "2124\n",
      "skipping\n",
      "skipping\n",
      "skipping\n",
      "skipping\n",
      "skipping\n",
      "data/handlabeling/980023be85/14_24.png\n"
     ]
    },
    {
     "data": {
      "image/png": "[encoded data removed]",
      "text/plain": [
       "<Figure size 432x288 with 1 Axes>"
      ]
     },
     "metadata": {
      "needs_background": "light"
     },
     "output_type": "display_data"
    },
    {
     "name": "stdout",
     "output_type": "stream",
     "text": [
      "What is this?49\n",
      "2125\n",
      "skipping\n",
      "skipping\n",
      "skipping\n",
      "skipping\n",
      "skipping\n",
      "skipping\n",
      "skipping\n",
      "skipping\n",
      "skipping\n",
      "skipping\n",
      "skipping\n",
      "skipping\n",
      "skipping\n",
      "data/handlabeling/980023be85/1_11.png\n"
     ]
    },
    {
     "data": {
      "image/png": "[encoded data removed]",
      "text/plain": [
       "<Figure size 432x288 with 1 Axes>"
      ]
     },
     "metadata": {
      "needs_background": "light"
     },
     "output_type": "display_data"
    },
    {
     "name": "stdout",
     "output_type": "stream",
     "text": [
      "What is this?120\n",
      "2126\n",
      "skipping\n",
      "skipping\n",
      "skipping\n",
      "skipping\n",
      "skipping\n",
      "skipping\n",
      "skipping\n",
      "skipping\n",
      "skipping\n",
      "skipping\n",
      "skipping\n",
      "data/handlabeling/980023be85/1_24.png\n"
     ]
    },
    {
     "data": {
      "image/png": "[encoded data removed]",
      "text/plain": [
       "<Figure size 432x288 with 1 Axes>"
      ]
     },
     "metadata": {
      "needs_background": "light"
     },
     "output_type": "display_data"
    },
    {
     "name": "stdout",
     "output_type": "stream",
     "text": [
      "What is this?52\n",
      "2127\n",
      "data/handlabeling/980023be85/21_11.png\n"
     ]
    },
    {
     "data": {
      "image/png": "[encoded data removed]",
      "text/plain": [
       "<Figure size 432x288 with 1 Axes>"
      ]
     },
     "metadata": {
      "needs_background": "light"
     },
     "output_type": "display_data"
    },
    {
     "name": "stdout",
     "output_type": "stream",
     "text": [
      "What is this?0.3\n",
      "2128\n",
      "data/handlabeling/980023be85/21_110.png\n"
     ]
    },
    {
     "data": {
      "image/png": "[encoded data removed]",
      "text/plain": [
       "<Figure size 432x288 with 1 Axes>"
      ]
     },
     "metadata": {
      "needs_background": "light"
     },
     "output_type": "display_data"
    },
    {
     "name": "stdout",
     "output_type": "stream",
     "text": [
      "What is this?1.2\n",
      "2129\n",
      "skipping\n",
      "skipping\n",
      "skipping\n",
      "skipping\n",
      "data/handlabeling/980023be85/21_115.png\n"
     ]
    },
    {
     "data": {
      "image/png": "[encoded data removed]",
      "text/plain": [
       "<Figure size 432x288 with 1 Axes>"
      ]
     },
     "metadata": {
      "needs_background": "light"
     },
     "output_type": "display_data"
    },
    {
     "name": "stdout",
     "output_type": "stream",
     "text": [
      "What is this?0.6\n",
      "2130\n",
      "skipping\n",
      "skipping\n",
      "skipping\n",
      "skipping\n",
      "skipping\n",
      "skipping\n",
      "data/handlabeling/980023be85/24_0.png\n"
     ]
    },
    {
     "data": {
      "image/png": "[encoded data removed]",
      "text/plain": [
       "<Figure size 432x288 with 1 Axes>"
      ]
     },
     "metadata": {
      "needs_background": "light"
     },
     "output_type": "display_data"
    },
    {
     "name": "stdout",
     "output_type": "stream",
     "text": [
      "What is this?143.1\n",
      "2131\n",
      "data/handlabeling/980023be85/24_1.png\n"
     ]
    },
    {
     "data": {
      "image/png": "[encoded data removed]",
      "text/plain": [
       "<Figure size 432x288 with 1 Axes>"
      ]
     },
     "metadata": {
      "needs_background": "light"
     },
     "output_type": "display_data"
    },
    {
     "name": "stdout",
     "output_type": "stream",
     "text": [
      "What is this?85.8\n",
      "2132\n",
      "data/handlabeling/980023be85/24_10.png\n"
     ]
    },
    {
     "data": {
      "image/png": "[encoded data removed]",
      "text/plain": [
       "<Figure size 432x288 with 1 Axes>"
      ]
     },
     "metadata": {
      "needs_background": "light"
     },
     "output_type": "display_data"
    },
    {
     "name": "stdout",
     "output_type": "stream",
     "text": [
      "What is this?36.9\n",
      "2133\n",
      "skipping\n",
      "skipping\n",
      "skipping\n",
      "data/handlabeling/980023be85/24_103.png\n"
     ]
    },
    {
     "data": {
      "image/png": "[encoded data removed]",
      "text/plain": [
       "<Figure size 432x288 with 1 Axes>"
      ]
     },
     "metadata": {
      "needs_background": "light"
     },
     "output_type": "display_data"
    },
    {
     "name": "stdout",
     "output_type": "stream",
     "text": [
      "What is this?1.48\n",
      "2134\n",
      "skipping\n",
      "skipping\n",
      "skipping\n",
      "skipping\n",
      "skipping\n",
      "skipping\n",
      "skipping\n",
      "skipping\n",
      "skipping\n",
      "skipping\n",
      "skipping\n",
      "skipping\n",
      "skipping\n",
      "skipping\n",
      "skipping\n",
      "skipping\n",
      "skipping\n",
      "data/handlabeling/980023be85/24_12.png\n"
     ]
    },
    {
     "data": {
      "image/png": "[encoded data removed]",
      "text/plain": [
       "<Figure size 432x288 with 1 Axes>"
      ]
     },
     "metadata": {
      "needs_background": "light"
     },
     "output_type": "display_data"
    },
    {
     "name": "stdout",
     "output_type": "stream",
     "text": [
      "What is this?32.4\n",
      "2135\n",
      "skipping\n",
      "skipping\n",
      "skipping\n",
      "skipping\n",
      "skipping\n",
      "skipping\n",
      "skipping\n",
      "skipping\n",
      "skipping\n",
      "skipping\n",
      "data/handlabeling/980023be85/24_13.png\n"
     ]
    },
    {
     "data": {
      "image/png": "[encoded data removed]",
      "text/plain": [
       "<Figure size 432x288 with 1 Axes>"
      ]
     },
     "metadata": {
      "needs_background": "light"
     },
     "output_type": "display_data"
    },
    {
     "name": "stdout",
     "output_type": "stream",
     "text": [
      "What is this?31.8\n",
      "2136\n",
      "skipping\n",
      "skipping\n",
      "skipping\n",
      "skipping\n",
      "skipping\n",
      "skipping\n",
      "skipping\n",
      "skipping\n",
      "skipping\n",
      "skipping\n",
      "data/handlabeling/980023be85/24_14.png\n"
     ]
    },
    {
     "data": {
      "image/png": "[encoded data removed]",
      "text/plain": [
       "<Figure size 432x288 with 1 Axes>"
      ]
     },
     "metadata": {
      "needs_background": "light"
     },
     "output_type": "display_data"
    },
    {
     "name": "stdout",
     "output_type": "stream",
     "text": [
      "What is this?28.2\n",
      "2137\n",
      "skipping\n",
      "skipping\n",
      "skipping\n",
      "skipping\n",
      "skipping\n",
      "skipping\n",
      "skipping\n",
      "data/handlabeling/980023be85/24_15.png\n"
     ]
    },
    {
     "data": {
      "image/png": "[encoded data removed]",
      "text/plain": [
       "<Figure size 432x288 with 1 Axes>"
      ]
     },
     "metadata": {
      "needs_background": "light"
     },
     "output_type": "display_data"
    },
    {
     "name": "stdout",
     "output_type": "stream",
     "text": [
      "What is this?25.2\n",
      "2138\n",
      "data/handlabeling/980023be85/24_16.png\n"
     ]
    },
    {
     "data": {
      "image/png": "[encoded data removed]",
      "text/plain": [
       "<Figure size 432x288 with 1 Axes>"
      ]
     },
     "metadata": {
      "needs_background": "light"
     },
     "output_type": "display_data"
    },
    {
     "name": "stdout",
     "output_type": "stream",
     "text": [
      "What is this?24.3\n",
      "2139\n",
      "data/handlabeling/980023be85/24_17.png\n"
     ]
    },
    {
     "data": {
      "image/png": "[encoded data removed]",
      "text/plain": [
       "<Figure size 432x288 with 1 Axes>"
      ]
     },
     "metadata": {
      "needs_background": "light"
     },
     "output_type": "display_data"
    },
    {
     "name": "stdout",
     "output_type": "stream",
     "text": [
      "What is this?23.4\n",
      "2140\n",
      "data/handlabeling/980023be85/24_18.png\n"
     ]
    },
    {
     "data": {
      "image/png": "[encoded data removed]",
      "text/plain": [
       "<Figure size 432x288 with 1 Axes>"
      ]
     },
     "metadata": {
      "needs_background": "light"
     },
     "output_type": "display_data"
    },
    {
     "name": "stdout",
     "output_type": "stream",
     "text": [
      "What is this?22.8\n",
      "2141\n",
      "data/handlabeling/980023be85/24_19.png\n"
     ]
    },
    {
     "data": {
      "image/png": "[encoded data removed]",
      "text/plain": [
       "<Figure size 432x288 with 1 Axes>"
      ]
     },
     "metadata": {
      "needs_background": "light"
     },
     "output_type": "display_data"
    },
    {
     "name": "stdout",
     "output_type": "stream",
     "text": [
      "What is this?21\n",
      "2142\n",
      "data/handlabeling/980023be85/24_2.png\n"
     ]
    },
    {
     "data": {
      "image/png": "[encoded data removed]",
      "text/plain": [
       "<Figure size 432x288 with 1 Axes>"
      ]
     },
     "metadata": {
      "needs_background": "light"
     },
     "output_type": "display_data"
    },
    {
     "name": "stdout",
     "output_type": "stream",
     "text": [
      "What is this?74.7\n",
      "2143\n",
      "data/handlabeling/980023be85/24_20.png\n"
     ]
    },
    {
     "data": {
      "image/png": "[encoded data removed]",
      "text/plain": [
       "<Figure size 432x288 with 1 Axes>"
      ]
     },
     "metadata": {
      "needs_background": "light"
     },
     "output_type": "display_data"
    },
    {
     "name": "stdout",
     "output_type": "stream",
     "text": [
      "What is this?19.2\n",
      "2144\n",
      "data/handlabeling/980023be85/24_21.png\n"
     ]
    },
    {
     "data": {
      "image/png": "[encoded data removed]",
      "text/plain": [
       "<Figure size 432x288 with 1 Axes>"
      ]
     },
     "metadata": {
      "needs_background": "light"
     },
     "output_type": "display_data"
    },
    {
     "name": "stdout",
     "output_type": "stream",
     "text": [
      "What is this?17.7\n",
      "2145\n",
      "data/handlabeling/980023be85/24_22.png\n"
     ]
    },
    {
     "data": {
      "image/png": "[encoded data removed]",
      "text/plain": [
       "<Figure size 432x288 with 1 Axes>"
      ]
     },
     "metadata": {
      "needs_background": "light"
     },
     "output_type": "display_data"
    },
    {
     "name": "stdout",
     "output_type": "stream",
     "text": [
      "What is this?16.5\n",
      "2146\n",
      "data/handlabeling/980023be85/24_23.png\n"
     ]
    },
    {
     "data": {
      "image/png": "[encoded data removed]",
      "text/plain": [
       "<Figure size 432x288 with 1 Axes>"
      ]
     },
     "metadata": {
      "needs_background": "light"
     },
     "output_type": "display_data"
    },
    {
     "name": "stdout",
     "output_type": "stream",
     "text": [
      "What is this?15.9\n",
      "2147\n",
      "data/handlabeling/980023be85/24_24.png\n"
     ]
    },
    {
     "data": {
      "image/png": "[encoded data removed]",
      "text/plain": [
       "<Figure size 432x288 with 1 Axes>"
      ]
     },
     "metadata": {
      "needs_background": "light"
     },
     "output_type": "display_data"
    },
    {
     "name": "stdout",
     "output_type": "stream",
     "text": [
      "What is this?14.7\n",
      "2148\n",
      "data/handlabeling/980023be85/24_25.png\n"
     ]
    },
    {
     "data": {
      "image/png": "[encoded data removed]",
      "text/plain": [
       "<Figure size 432x288 with 1 Axes>"
      ]
     },
     "metadata": {
      "needs_background": "light"
     },
     "output_type": "display_data"
    },
    {
     "name": "stdout",
     "output_type": "stream",
     "text": [
      "What is this?14.1\n",
      "2149\n",
      "skipping\n",
      "data/handlabeling/980023be85/24_27.png\n"
     ]
    },
    {
     "data": {
      "image/png": "[encoded data removed]",
      "text/plain": [
       "<Figure size 432x288 with 1 Axes>"
      ]
     },
     "metadata": {
      "needs_background": "light"
     },
     "output_type": "display_data"
    },
    {
     "name": "stdout",
     "output_type": "stream",
     "text": [
      "What is this?12.5\n",
      "2150\n",
      "skipping\n",
      "data/handlabeling/980023be85/24_29.png\n"
     ]
    },
    {
     "data": {
      "image/png": "[encoded data removed]",
      "text/plain": [
       "<Figure size 432x288 with 1 Axes>"
      ]
     },
     "metadata": {
      "needs_background": "light"
     },
     "output_type": "display_data"
    },
    {
     "name": "stdout",
     "output_type": "stream",
     "text": [
      "What is this?11.7\n",
      "2151\n",
      "data/handlabeling/980023be85/24_3.png\n"
     ]
    },
    {
     "data": {
      "image/png": "[encoded data removed]",
      "text/plain": [
       "<Figure size 432x288 with 1 Axes>"
      ]
     },
     "metadata": {
      "needs_background": "light"
     },
     "output_type": "display_data"
    },
    {
     "name": "stdout",
     "output_type": "stream",
     "text": [
      "What is this?66\n",
      "2152\n",
      "skipping\n",
      "skipping\n",
      "data/handlabeling/980023be85/24_32.png\n"
     ]
    },
    {
     "data": {
      "image/png": "[encoded data removed]",
      "text/plain": [
       "<Figure size 432x288 with 1 Axes>"
      ]
     },
     "metadata": {
      "needs_background": "light"
     },
     "output_type": "display_data"
    },
    {
     "name": "stdout",
     "output_type": "stream",
     "text": [
      "What is this?10.2\n",
      "2153\n",
      "skipping\n",
      "skipping\n",
      "data/handlabeling/980023be85/24_35.png\n"
     ]
    },
    {
     "data": {
      "image/png": "[encoded data removed]",
      "text/plain": [
       "<Figure size 432x288 with 1 Axes>"
      ]
     },
     "metadata": {
      "needs_background": "light"
     },
     "output_type": "display_data"
    },
    {
     "name": "stdout",
     "output_type": "stream",
     "text": [
      "What is this?8.7\n",
      "2154\n",
      "skipping\n",
      "skipping\n",
      "data/handlabeling/980023be85/24_38.png\n"
     ]
    },
    {
     "data": {
      "image/png": "[encoded data removed]",
      "text/plain": [
       "<Figure size 432x288 with 1 Axes>"
      ]
     },
     "metadata": {
      "needs_background": "light"
     },
     "output_type": "display_data"
    },
    {
     "name": "stdout",
     "output_type": "stream",
     "text": [
      "What is this?7.5\n",
      "2155\n",
      "data/handlabeling/980023be85/24_39.png\n"
     ]
    },
    {
     "data": {
      "image/png": "[encoded data removed]",
      "text/plain": [
       "<Figure size 432x288 with 1 Axes>"
      ]
     },
     "metadata": {
      "needs_background": "light"
     },
     "output_type": "display_data"
    },
    {
     "name": "stdout",
     "output_type": "stream",
     "text": [
      "What is this?6.9\n",
      "2156\n",
      "data/handlabeling/980023be85/24_4.png\n"
     ]
    },
    {
     "data": {
      "image/png": "[encoded data removed]",
      "text/plain": [
       "<Figure size 432x288 with 1 Axes>"
      ]
     },
     "metadata": {
      "needs_background": "light"
     },
     "output_type": "display_data"
    },
    {
     "name": "stdout",
     "output_type": "stream",
     "text": [
      "What is this?61.5\n",
      "2157\n",
      "data/handlabeling/980023be85/24_40.png\n"
     ]
    },
    {
     "data": {
      "image/png": "[encoded data removed]",
      "text/plain": [
       "<Figure size 432x288 with 1 Axes>"
      ]
     },
     "metadata": {
      "needs_background": "light"
     },
     "output_type": "display_data"
    },
    {
     "name": "stdout",
     "output_type": "stream",
     "text": [
      "What is this?6.58\n",
      "2158\n",
      "skipping\n",
      "skipping\n",
      "skipping\n",
      "skipping\n",
      "data/handlabeling/980023be85/24_45.png\n"
     ]
    },
    {
     "data": {
      "image/png": "[encoded data removed]",
      "text/plain": [
       "<Figure size 432x288 with 1 Axes>"
      ]
     },
     "metadata": {
      "needs_background": "light"
     },
     "output_type": "display_data"
    },
    {
     "name": "stdout",
     "output_type": "stream",
     "text": [
      "What is this?5.7\n",
      "2159\n",
      "skipping\n",
      "skipping\n",
      "skipping\n",
      "skipping\n",
      "data/handlabeling/980023be85/24_5.png\n"
     ]
    },
    {
     "data": {
      "image/png": "[encoded data removed]",
      "text/plain": [
       "<Figure size 432x288 with 1 Axes>"
      ]
     },
     "metadata": {
      "needs_background": "light"
     },
     "output_type": "display_data"
    },
    {
     "name": "stdout",
     "output_type": "stream",
     "text": [
      "What is this?52.8\n",
      "2160\n",
      "skipping\n",
      "skipping\n",
      "skipping\n",
      "skipping\n",
      "skipping\n",
      "skipping\n",
      "skipping\n",
      "skipping\n",
      "skipping\n",
      "data/handlabeling/980023be85/24_59.png\n"
     ]
    },
    {
     "data": {
      "image/png": "[encoded data removed]",
      "text/plain": [
       "<Figure size 432x288 with 1 Axes>"
      ]
     },
     "metadata": {
      "needs_background": "light"
     },
     "output_type": "display_data"
    },
    {
     "name": "stdout",
     "output_type": "stream",
     "text": [
      "What is this?3.9\n",
      "2161\n",
      "data/handlabeling/980023be85/24_6.png\n"
     ]
    },
    {
     "data": {
      "image/png": "[encoded data removed]",
      "text/plain": [
       "<Figure size 432x288 with 1 Axes>"
      ]
     },
     "metadata": {
      "needs_background": "light"
     },
     "output_type": "display_data"
    },
    {
     "name": "stdout",
     "output_type": "stream",
     "text": [
      "What is this?46.8\n",
      "2162\n",
      "skipping\n",
      "skipping\n",
      "skipping\n",
      "skipping\n",
      "skipping\n",
      "data/handlabeling/980023be85/24_65.png\n"
     ]
    },
    {
     "data": {
      "image/png": "[encoded data removed]",
      "text/plain": [
       "<Figure size 432x288 with 1 Axes>"
      ]
     },
     "metadata": {
      "needs_background": "light"
     },
     "output_type": "display_data"
    },
    {
     "name": "stdout",
     "output_type": "stream",
     "text": [
      "What is this?3.57\n",
      "2163\n",
      "skipping\n",
      "skipping\n",
      "skipping\n",
      "data/handlabeling/980023be85/24_69.png\n"
     ]
    },
    {
     "data": {
      "image/png": "[encoded data removed]",
      "text/plain": [
       "<Figure size 432x288 with 1 Axes>"
      ]
     },
     "metadata": {
      "needs_background": "light"
     },
     "output_type": "display_data"
    },
    {
     "name": "stdout",
     "output_type": "stream",
     "text": [
      "What is this?2.88\n",
      "2164\n",
      "data/handlabeling/980023be85/24_7.png\n"
     ]
    },
    {
     "data": {
      "image/png": "[encoded data removed]",
      "text/plain": [
       "<Figure size 432x288 with 1 Axes>"
      ]
     },
     "metadata": {
      "needs_background": "light"
     },
     "output_type": "display_data"
    },
    {
     "name": "stdout",
     "output_type": "stream",
     "text": [
      "What is this?43.8\n",
      "2165\n",
      "skipping\n",
      "skipping\n",
      "data/handlabeling/980023be85/24_72.png\n"
     ]
    },
    {
     "data": {
      "image/png": "[encoded data removed]",
      "text/plain": [
       "<Figure size 432x288 with 1 Axes>"
      ]
     },
     "metadata": {
      "needs_background": "light"
     },
     "output_type": "display_data"
    },
    {
     "name": "stdout",
     "output_type": "stream",
     "text": [
      "What is this?2.48\n",
      "2166\n",
      "skipping\n",
      "skipping\n",
      "skipping\n",
      "skipping\n",
      "skipping\n",
      "skipping\n",
      "data/handlabeling/980023be85/24_79.png\n"
     ]
    },
    {
     "data": {
      "image/png": "[encoded data removed]",
      "text/plain": [
       "<Figure size 432x288 with 1 Axes>"
      ]
     },
     "metadata": {
      "needs_background": "light"
     },
     "output_type": "display_data"
    },
    {
     "name": "stdout",
     "output_type": "stream",
     "text": [
      "What is this?2.16\n",
      "2167\n",
      "skipping\n",
      "skipping\n",
      "skipping\n",
      "skipping\n",
      "skipping\n",
      "skipping\n",
      "skipping\n",
      "skipping\n",
      "skipping\n",
      "skipping\n",
      "skipping\n",
      "data/handlabeling/980023be85/24_9.png\n"
     ]
    },
    {
     "data": {
      "image/png": "[encoded data removed]",
      "text/plain": [
       "<Figure size 432x288 with 1 Axes>"
      ]
     },
     "metadata": {
      "needs_background": "light"
     },
     "output_type": "display_data"
    },
    {
     "name": "stdout",
     "output_type": "stream",
     "text": [
      "What is this?39.9\n",
      "2168\n",
      "skipping\n",
      "skipping\n",
      "skipping\n",
      "skipping\n",
      "skipping\n",
      "skipping\n",
      "skipping\n",
      "skipping\n",
      "skipping\n",
      "skipping\n",
      "data/handlabeling/980023be85/26_11.png\n"
     ]
    },
    {
     "data": {
      "image/png": "[encoded data removed]",
      "text/plain": [
       "<Figure size 432x288 with 1 Axes>"
      ]
     },
     "metadata": {
      "needs_background": "light"
     },
     "output_type": "display_data"
    },
    {
     "name": "stdout",
     "output_type": "stream",
     "text": [
      "What is this?0.21\n",
      "2169\n",
      "skipping\n",
      "skipping\n",
      "skipping\n",
      "skipping\n",
      "skipping\n",
      "skipping\n",
      "skipping\n",
      "skipping\n",
      "skipping\n",
      "skipping\n",
      "skipping\n",
      "data/handlabeling/980023be85/26_24.png\n"
     ]
    },
    {
     "data": {
      "image/png": "[encoded data removed]",
      "text/plain": [
       "<Figure size 432x288 with 1 Axes>"
      ]
     },
     "metadata": {
      "needs_background": "light"
     },
     "output_type": "display_data"
    },
    {
     "name": "stdout",
     "output_type": "stream",
     "text": [
      "What is this?0.09\n",
      "2170\n",
      "skipping\n",
      "skipping\n",
      "skipping\n",
      "skipping\n",
      "skipping\n",
      "skipping\n",
      "skipping\n",
      "skipping\n",
      "data/handlabeling/980023be85/6_117.png\n"
     ]
    },
    {
     "data": {
      "image/png": "[encoded data removed]",
      "text/plain": [
       "<Figure size 432x288 with 1 Axes>"
      ]
     },
     "metadata": {
      "needs_background": "light"
     },
     "output_type": "display_data"
    },
    {
     "name": "stdout",
     "output_type": "stream",
     "text": [
      "What is this?3.21\n",
      "2171\n",
      "skipping\n",
      "skipping\n",
      "skipping\n",
      "skipping\n",
      "skipping\n",
      "skipping\n",
      "skipping\n",
      "skipping\n",
      "skipping\n",
      "skipping\n",
      "skipping\n",
      "skipping\n",
      "data/handlabeling/980023be85/8_117.png\n"
     ]
    },
    {
     "data": {
      "image/png": "[encoded data removed]",
      "text/plain": [
       "<Figure size 432x288 with 1 Axes>"
      ]
     },
     "metadata": {
      "needs_background": "light"
     },
     "output_type": "display_data"
    },
    {
     "name": "stdout",
     "output_type": "stream",
     "text": [
      "What is this?0.96\n",
      "2172\n",
      "skipping\n",
      "data/handlabeling/980023be85/8_119.png\n"
     ]
    },
    {
     "data": {
      "image/png": "[encoded data removed]",
      "text/plain": [
       "<Figure size 432x288 with 1 Axes>"
      ]
     },
     "metadata": {
      "needs_background": "light"
     },
     "output_type": "display_data"
    },
    {
     "name": "stdout",
     "output_type": "stream",
     "text": [
      "What is this?0.9\n",
      "2173\n",
      "skipping\n",
      "skipping\n",
      "skipping\n",
      "skipping\n",
      "skipping\n",
      "skipping\n",
      "skipping\n",
      "skipping\n",
      "skipping\n",
      "skipping\n",
      "skipping\n",
      "skipping\n",
      "skipping\n",
      "skipping\n",
      "skipping\n",
      "skipping\n",
      "skipping\n",
      "skipping\n",
      "skipping\n",
      "skipping\n",
      "skipping\n",
      "skipping\n",
      "skipping\n",
      "skipping\n",
      "skipping\n",
      "skipping\n",
      "skipping\n",
      "skipping\n",
      "skipping\n",
      "skipping\n",
      "skipping\n",
      "skipping\n",
      "skipping\n",
      "skipping\n",
      "skipping\n",
      "skipping\n",
      "skipping\n",
      "skipping\n",
      "skipping\n",
      "skipping\n",
      "skipping\n",
      "skipping\n",
      "skipping\n",
      "skipping\n",
      "skipping\n",
      "skipping\n",
      "skipping\n",
      "skipping\n",
      "skipping\n",
      "skipping\n",
      "skipping\n",
      "skipping\n",
      "skipping\n",
      "skipping\n",
      "skipping\n",
      "skipping\n",
      "skipping\n",
      "skipping\n",
      "skipping\n",
      "skipping\n",
      "skipping\n",
      "skipping\n",
      "skipping\n",
      "skipping\n",
      "skipping\n",
      "skipping\n",
      "skipping\n",
      "skipping\n",
      "skipping\n",
      "skipping\n",
      "skipping\n",
      "skipping\n",
      "skipping\n",
      "skipping\n",
      "skipping\n",
      "skipping\n",
      "skipping\n",
      "skipping\n",
      "skipping\n",
      "skipping\n",
      "skipping\n",
      "skipping\n",
      "skipping\n",
      "skipping\n",
      "skipping\n",
      "skipping\n",
      "skipping\n",
      "skipping\n",
      "skipping\n",
      "skipping\n",
      "skipping\n",
      "skipping\n",
      "skipping\n",
      "skipping\n",
      "skipping\n",
      "skipping\n",
      "skipping\n",
      "skipping\n",
      "skipping\n",
      "skipping\n",
      "skipping\n",
      "skipping\n",
      "skipping\n",
      "skipping\n",
      "skipping\n",
      "skipping\n",
      "skipping\n",
      "skipping\n",
      "skipping\n",
      "skipping\n",
      "skipping\n",
      "skipping\n",
      "skipping\n",
      "skipping\n",
      "skipping\n",
      "skipping\n",
      "skipping\n",
      "skipping\n",
      "skipping\n",
      "skipping\n",
      "skipping\n",
      "skipping\n",
      "skipping\n",
      "skipping\n",
      "skipping\n",
      "skipping\n",
      "skipping\n",
      "skipping\n",
      "skipping\n",
      "skipping\n",
      "skipping\n",
      "skipping\n",
      "skipping\n",
      "skipping\n",
      "skipping\n",
      "skipping\n",
      "skipping\n",
      "skipping\n",
      "skipping\n",
      "skipping\n",
      "skipping\n",
      "skipping\n",
      "skipping\n",
      "skipping\n",
      "skipping\n",
      "skipping\n",
      "skipping\n",
      "skipping\n",
      "skipping\n",
      "skipping\n",
      "skipping\n",
      "skipping\n",
      "skipping\n",
      "skipping\n",
      "skipping\n",
      "skipping\n",
      "skipping\n",
      "skipping\n",
      "skipping\n",
      "skipping\n",
      "skipping\n",
      "skipping\n",
      "skipping\n",
      "skipping\n",
      "skipping\n",
      "skipping\n",
      "skipping\n",
      "skipping\n",
      "skipping\n",
      "skipping\n",
      "skipping\n",
      "skipping\n",
      "skipping\n",
      "skipping\n",
      "skipping\n",
      "skipping\n",
      "skipping\n",
      "skipping\n",
      "skipping\n",
      "skipping\n",
      "skipping\n",
      "skipping\n",
      "skipping\n",
      "skipping\n",
      "skipping\n",
      "skipping\n",
      "skipping\n",
      "skipping\n",
      "skipping\n",
      "skipping\n",
      "skipping\n",
      "skipping\n",
      "skipping\n",
      "skipping\n",
      "skipping\n",
      "skipping\n",
      "skipping\n",
      "skipping\n",
      "skipping\n",
      "skipping\n",
      "skipping\n",
      "skipping\n",
      "skipping\n",
      "skipping\n",
      "skipping\n",
      "skipping\n",
      "skipping\n",
      "skipping\n",
      "skipping\n",
      "skipping\n",
      "skipping\n",
      "skipping\n",
      "skipping\n",
      "skipping\n",
      "skipping\n",
      "skipping\n",
      "skipping\n",
      "skipping\n",
      "skipping\n",
      "skipping\n",
      "skipping\n",
      "skipping\n",
      "skipping\n",
      "skipping\n",
      "skipping\n",
      "skipping\n",
      "skipping\n",
      "skipping\n",
      "skipping\n",
      "skipping\n",
      "skipping\n",
      "skipping\n",
      "skipping\n",
      "skipping\n",
      "skipping\n",
      "skipping\n",
      "skipping\n",
      "skipping\n",
      "skipping\n",
      "skipping\n",
      "skipping\n",
      "skipping\n",
      "skipping\n",
      "skipping\n",
      "skipping\n",
      "skipping\n",
      "skipping\n",
      "skipping\n",
      "skipping\n",
      "skipping\n",
      "skipping\n",
      "skipping\n",
      "skipping\n",
      "skipping\n",
      "skipping\n",
      "skipping\n",
      "skipping\n",
      "skipping\n",
      "skipping\n",
      "skipping\n",
      "skipping\n",
      "skipping\n",
      "skipping\n",
      "skipping\n",
      "skipping\n",
      "skipping\n",
      "skipping\n",
      "skipping\n",
      "skipping\n",
      "skipping\n",
      "skipping\n",
      "skipping\n",
      "skipping\n",
      "skipping\n",
      "skipping\n",
      "skipping\n",
      "skipping\n",
      "skipping\n",
      "skipping\n",
      "skipping\n",
      "skipping\n",
      "skipping\n",
      "skipping\n",
      "skipping\n",
      "skipping\n",
      "skipping\n",
      "skipping\n",
      "skipping\n",
      "skipping\n",
      "skipping\n",
      "skipping\n",
      "skipping\n",
      "skipping\n",
      "skipping\n",
      "skipping\n",
      "skipping\n",
      "skipping\n",
      "skipping\n",
      "skipping\n",
      "skipping\n",
      "skipping\n",
      "skipping\n",
      "skipping\n",
      "skipping\n",
      "skipping\n",
      "skipping\n",
      "skipping\n",
      "skipping\n",
      "skipping\n",
      "skipping\n",
      "skipping\n",
      "skipping\n",
      "skipping\n",
      "skipping\n",
      "skipping\n",
      "skipping\n",
      "skipping\n",
      "skipping\n",
      "skipping\n",
      "skipping\n",
      "skipping\n",
      "skipping\n",
      "skipping\n",
      "skipping\n",
      "skipping\n",
      "skipping\n",
      "skipping\n",
      "skipping\n",
      "skipping\n",
      "skipping\n",
      "skipping\n",
      "skipping\n",
      "skipping\n",
      "skipping\n",
      "skipping\n",
      "skipping\n",
      "skipping\n",
      "skipping\n",
      "skipping\n",
      "skipping\n",
      "skipping\n",
      "skipping\n",
      "skipping\n",
      "skipping\n",
      "skipping\n",
      "skipping\n",
      "skipping\n",
      "skipping\n",
      "skipping\n",
      "skipping\n",
      "skipping\n",
      "skipping\n",
      "skipping\n",
      "skipping\n",
      "skipping\n",
      "skipping\n",
      "skipping\n",
      "skipping\n",
      "skipping\n",
      "skipping\n",
      "skipping\n",
      "skipping\n",
      "skipping\n",
      "skipping\n",
      "skipping\n",
      "skipping\n",
      "skipping\n",
      "skipping\n",
      "skipping\n",
      "skipping\n",
      "skipping\n",
      "skipping\n",
      "skipping\n",
      "skipping\n",
      "skipping\n",
      "skipping\n",
      "skipping\n",
      "skipping\n",
      "skipping\n",
      "skipping\n",
      "skipping\n",
      "skipping\n",
      "skipping\n",
      "skipping\n",
      "skipping\n",
      "skipping\n",
      "skipping\n",
      "skipping\n",
      "skipping\n",
      "skipping\n",
      "skipping\n",
      "skipping\n",
      "skipping\n",
      "skipping\n",
      "skipping\n",
      "skipping\n",
      "skipping\n",
      "skipping\n",
      "skipping\n",
      "skipping\n",
      "skipping\n",
      "skipping\n",
      "skipping\n",
      "skipping\n",
      "skipping\n",
      "skipping\n",
      "skipping\n",
      "skipping\n",
      "skipping\n",
      "skipping\n",
      "skipping\n",
      "skipping\n",
      "skipping\n",
      "skipping\n",
      "skipping\n",
      "skipping\n",
      "skipping\n",
      "skipping\n",
      "skipping\n",
      "skipping\n",
      "skipping\n",
      "skipping\n",
      "skipping\n",
      "skipping\n",
      "skipping\n",
      "skipping\n",
      "skipping\n",
      "skipping\n",
      "skipping\n",
      "skipping\n",
      "skipping\n",
      "skipping\n",
      "skipping\n",
      "skipping\n",
      "skipping\n",
      "skipping\n",
      "skipping\n",
      "skipping\n",
      "skipping\n",
      "skipping\n",
      "skipping\n",
      "skipping\n",
      "skipping\n",
      "skipping\n",
      "skipping\n",
      "skipping\n",
      "skipping\n",
      "skipping\n",
      "skipping\n",
      "skipping\n",
      "skipping\n",
      "skipping\n",
      "skipping\n",
      "skipping\n",
      "skipping\n",
      "skipping\n",
      "skipping\n",
      "skipping\n",
      "skipping\n",
      "skipping\n",
      "skipping\n",
      "skipping\n",
      "skipping\n",
      "skipping\n",
      "skipping\n",
      "skipping\n",
      "skipping\n",
      "skipping\n",
      "skipping\n",
      "skipping\n",
      "skipping\n",
      "skipping\n",
      "skipping\n",
      "skipping\n",
      "skipping\n",
      "skipping\n",
      "skipping\n",
      "skipping\n",
      "skipping\n",
      "skipping\n",
      "skipping\n",
      "skipping\n",
      "skipping\n",
      "skipping\n",
      "skipping\n",
      "skipping\n",
      "skipping\n",
      "skipping\n",
      "skipping\n",
      "skipping\n",
      "skipping\n",
      "skipping\n",
      "skipping\n",
      "skipping\n",
      "skipping\n",
      "skipping\n",
      "skipping\n",
      "skipping\n",
      "skipping\n",
      "skipping\n",
      "skipping\n",
      "skipping\n",
      "skipping\n",
      "skipping\n",
      "skipping\n",
      "skipping\n",
      "skipping\n",
      "skipping\n",
      "skipping\n",
      "skipping\n",
      "skipping\n",
      "skipping\n",
      "skipping\n",
      "skipping\n",
      "skipping\n",
      "skipping\n",
      "skipping\n",
      "skipping\n",
      "skipping\n",
      "skipping\n",
      "skipping\n",
      "skipping\n",
      "skipping\n",
      "skipping\n",
      "skipping\n",
      "skipping\n",
      "skipping\n",
      "skipping\n",
      "skipping\n",
      "skipping\n",
      "skipping\n",
      "skipping\n",
      "skipping\n",
      "skipping\n",
      "skipping\n",
      "skipping\n",
      "skipping\n",
      "skipping\n",
      "skipping\n",
      "skipping\n",
      "skipping\n",
      "skipping\n",
      "skipping\n",
      "skipping\n",
      "skipping\n",
      "skipping\n",
      "skipping\n",
      "skipping\n",
      "skipping\n",
      "skipping\n",
      "skipping\n",
      "skipping\n",
      "skipping\n",
      "skipping\n",
      "skipping\n",
      "skipping\n",
      "skipping\n",
      "skipping\n",
      "skipping\n",
      "skipping\n",
      "skipping\n",
      "skipping\n",
      "skipping\n",
      "skipping\n",
      "skipping\n",
      "skipping\n",
      "skipping\n",
      "skipping\n",
      "skipping\n",
      "skipping\n",
      "skipping\n",
      "skipping\n",
      "skipping\n",
      "skipping\n",
      "skipping\n",
      "skipping\n",
      "skipping\n",
      "skipping\n",
      "skipping\n",
      "skipping\n",
      "skipping\n",
      "skipping\n",
      "skipping\n",
      "skipping\n",
      "skipping\n",
      "skipping\n",
      "skipping\n",
      "skipping\n",
      "skipping\n",
      "skipping\n",
      "skipping\n",
      "skipping\n",
      "skipping\n",
      "skipping\n",
      "skipping\n",
      "skipping\n",
      "skipping\n",
      "skipping\n",
      "skipping\n",
      "skipping\n",
      "skipping\n",
      "skipping\n",
      "skipping\n",
      "skipping\n",
      "skipping\n",
      "skipping\n",
      "skipping\n",
      "skipping\n",
      "skipping\n",
      "skipping\n",
      "skipping\n",
      "skipping\n",
      "skipping\n",
      "skipping\n",
      "skipping\n",
      "skipping\n",
      "skipping\n",
      "skipping\n",
      "skipping\n",
      "skipping\n",
      "skipping\n",
      "skipping\n",
      "skipping\n",
      "skipping\n",
      "skipping\n",
      "skipping\n",
      "skipping\n",
      "skipping\n",
      "skipping\n",
      "skipping\n",
      "skipping\n",
      "skipping\n",
      "skipping\n",
      "skipping\n",
      "skipping\n",
      "skipping\n",
      "skipping\n",
      "skipping\n",
      "skipping\n",
      "skipping\n",
      "skipping\n",
      "skipping\n",
      "skipping\n",
      "skipping\n",
      "skipping\n",
      "skipping\n",
      "skipping\n",
      "skipping\n",
      "skipping\n",
      "skipping\n",
      "skipping\n",
      "skipping\n",
      "skipping\n",
      "skipping\n",
      "skipping\n",
      "skipping\n",
      "skipping\n",
      "skipping\n",
      "skipping\n",
      "skipping\n",
      "skipping\n",
      "skipping\n",
      "skipping\n",
      "skipping\n",
      "skipping\n",
      "skipping\n",
      "skipping\n",
      "skipping\n",
      "skipping\n",
      "skipping\n",
      "skipping\n",
      "skipping\n",
      "skipping\n",
      "skipping\n",
      "skipping\n",
      "skipping\n",
      "skipping\n",
      "skipping\n",
      "skipping\n",
      "skipping\n",
      "skipping\n",
      "skipping\n",
      "skipping\n",
      "skipping\n",
      "skipping\n",
      "skipping\n",
      "skipping\n",
      "skipping\n",
      "skipping\n",
      "skipping\n",
      "skipping\n",
      "skipping\n",
      "skipping\n",
      "skipping\n",
      "skipping\n",
      "skipping\n",
      "skipping\n",
      "skipping\n",
      "skipping\n",
      "skipping\n",
      "skipping\n",
      "skipping\n",
      "skipping\n",
      "skipping\n",
      "skipping\n",
      "skipping\n",
      "skipping\n",
      "skipping\n",
      "skipping\n",
      "skipping\n",
      "skipping\n",
      "skipping\n",
      "skipping\n",
      "skipping\n",
      "skipping\n",
      "skipping\n",
      "skipping\n",
      "skipping\n",
      "skipping\n",
      "skipping\n",
      "skipping\n",
      "skipping\n",
      "skipping\n",
      "skipping\n",
      "skipping\n",
      "skipping\n",
      "skipping\n",
      "skipping\n",
      "skipping\n",
      "skipping\n",
      "skipping\n",
      "skipping\n",
      "skipping\n",
      "skipping\n",
      "skipping\n",
      "skipping\n",
      "skipping\n",
      "skipping\n",
      "skipping\n",
      "skipping\n",
      "skipping\n",
      "skipping\n",
      "skipping\n",
      "skipping\n",
      "skipping\n",
      "skipping\n",
      "skipping\n",
      "skipping\n",
      "skipping\n",
      "skipping\n",
      "skipping\n",
      "skipping\n",
      "skipping\n",
      "skipping\n",
      "skipping\n",
      "skipping\n",
      "skipping\n",
      "skipping\n",
      "skipping\n",
      "skipping\n",
      "skipping\n",
      "skipping\n",
      "skipping\n",
      "skipping\n",
      "skipping\n",
      "skipping\n",
      "skipping\n",
      "skipping\n",
      "skipping\n",
      "skipping\n",
      "skipping\n",
      "skipping\n",
      "skipping\n",
      "skipping\n",
      "skipping\n",
      "skipping\n",
      "skipping\n",
      "skipping\n",
      "skipping\n",
      "skipping\n",
      "skipping\n",
      "skipping\n",
      "skipping\n",
      "skipping\n",
      "skipping\n",
      "skipping\n",
      "skipping\n",
      "skipping\n",
      "skipping\n",
      "skipping\n",
      "skipping\n",
      "skipping\n",
      "skipping\n",
      "skipping\n",
      "skipping\n",
      "skipping\n",
      "skipping\n",
      "skipping\n",
      "skipping\n",
      "skipping\n",
      "skipping\n",
      "skipping\n",
      "skipping\n",
      "skipping\n",
      "skipping\n",
      "skipping\n",
      "skipping\n",
      "skipping\n",
      "skipping\n",
      "skipping\n",
      "skipping\n",
      "skipping\n",
      "skipping\n",
      "skipping\n",
      "skipping\n",
      "skipping\n",
      "skipping\n",
      "skipping\n",
      "skipping\n",
      "skipping\n",
      "skipping\n",
      "skipping\n",
      "skipping\n",
      "skipping\n",
      "skipping\n",
      "skipping\n",
      "skipping\n",
      "skipping\n",
      "skipping\n",
      "skipping\n",
      "skipping\n",
      "skipping\n",
      "skipping\n",
      "skipping\n",
      "skipping\n",
      "skipping\n",
      "skipping\n",
      "skipping\n",
      "skipping\n",
      "skipping\n",
      "skipping\n",
      "skipping\n",
      "skipping\n",
      "skipping\n",
      "skipping\n",
      "skipping\n",
      "skipping\n",
      "skipping\n",
      "skipping\n",
      "skipping\n",
      "skipping\n",
      "skipping\n",
      "skipping\n",
      "skipping\n",
      "skipping\n",
      "skipping\n",
      "skipping\n",
      "skipping\n",
      "skipping\n",
      "skipping\n",
      "skipping\n",
      "skipping\n",
      "skipping\n",
      "skipping\n",
      "skipping\n",
      "skipping\n",
      "skipping\n",
      "skipping\n",
      "skipping\n",
      "skipping\n",
      "skipping\n",
      "skipping\n",
      "skipping\n",
      "skipping\n",
      "skipping\n",
      "skipping\n",
      "skipping\n",
      "skipping\n",
      "skipping\n",
      "skipping\n",
      "skipping\n",
      "skipping\n",
      "skipping\n",
      "skipping\n",
      "skipping\n",
      "skipping\n",
      "skipping\n",
      "skipping\n",
      "skipping\n",
      "skipping\n",
      "skipping\n",
      "skipping\n",
      "skipping\n",
      "skipping\n",
      "skipping\n",
      "skipping\n",
      "skipping\n",
      "skipping\n",
      "skipping\n",
      "skipping\n",
      "skipping\n",
      "skipping\n",
      "skipping\n",
      "skipping\n",
      "skipping\n",
      "skipping\n",
      "skipping\n",
      "skipping\n",
      "skipping\n",
      "skipping\n",
      "skipping\n",
      "skipping\n",
      "skipping\n",
      "skipping\n",
      "skipping\n",
      "skipping\n",
      "skipping\n",
      "skipping\n",
      "skipping\n",
      "skipping\n",
      "skipping\n",
      "skipping\n",
      "skipping\n",
      "skipping\n",
      "skipping\n",
      "skipping\n",
      "skipping\n",
      "skipping\n",
      "skipping\n",
      "skipping\n",
      "skipping\n",
      "skipping\n",
      "skipping\n",
      "skipping\n",
      "skipping\n",
      "skipping\n",
      "skipping\n",
      "skipping\n",
      "skipping\n",
      "skipping\n",
      "skipping\n",
      "skipping\n",
      "skipping\n",
      "skipping\n",
      "skipping\n",
      "skipping\n",
      "skipping\n",
      "skipping\n",
      "skipping\n",
      "skipping\n",
      "skipping\n",
      "skipping\n",
      "skipping\n",
      "skipping\n",
      "skipping\n",
      "skipping\n",
      "skipping\n",
      "skipping\n",
      "skipping\n",
      "skipping\n",
      "skipping\n",
      "skipping\n",
      "skipping\n",
      "skipping\n",
      "skipping\n",
      "skipping\n",
      "skipping\n",
      "skipping\n",
      "skipping\n",
      "skipping\n",
      "skipping\n",
      "skipping\n",
      "skipping\n",
      "skipping\n",
      "skipping\n",
      "skipping\n",
      "skipping\n",
      "skipping\n",
      "skipping\n",
      "skipping\n",
      "skipping\n",
      "skipping\n",
      "skipping\n",
      "skipping\n",
      "skipping\n",
      "skipping\n",
      "skipping\n",
      "skipping\n",
      "skipping\n",
      "skipping\n",
      "skipping\n",
      "skipping\n",
      "skipping\n",
      "skipping\n",
      "skipping\n",
      "skipping\n",
      "skipping\n",
      "skipping\n",
      "skipping\n",
      "skipping\n",
      "skipping\n",
      "skipping\n",
      "skipping\n",
      "skipping\n",
      "skipping\n",
      "skipping\n",
      "skipping\n",
      "skipping\n",
      "skipping\n",
      "skipping\n",
      "skipping\n",
      "skipping\n",
      "skipping\n",
      "skipping\n",
      "skipping\n",
      "skipping\n",
      "skipping\n",
      "skipping\n",
      "skipping\n",
      "skipping\n",
      "skipping\n",
      "skipping\n",
      "skipping\n",
      "skipping\n",
      "skipping\n",
      "skipping\n",
      "skipping\n",
      "skipping\n",
      "skipping\n",
      "skipping\n",
      "skipping\n",
      "skipping\n",
      "skipping\n",
      "skipping\n",
      "skipping\n",
      "skipping\n",
      "skipping\n",
      "skipping\n",
      "skipping\n",
      "skipping\n",
      "skipping\n",
      "skipping\n",
      "skipping\n",
      "skipping\n",
      "skipping\n",
      "skipping\n",
      "skipping\n",
      "skipping\n",
      "skipping\n",
      "skipping\n",
      "skipping\n",
      "skipping\n",
      "skipping\n",
      "skipping\n",
      "skipping\n",
      "skipping\n",
      "skipping\n",
      "skipping\n",
      "skipping\n",
      "skipping\n",
      "skipping\n",
      "skipping\n",
      "skipping\n",
      "skipping\n",
      "skipping\n",
      "skipping\n",
      "skipping\n",
      "skipping\n",
      "skipping\n",
      "skipping\n",
      "skipping\n",
      "skipping\n",
      "skipping\n",
      "skipping\n",
      "skipping\n",
      "skipping\n",
      "skipping\n",
      "skipping\n",
      "skipping\n",
      "skipping\n",
      "skipping\n",
      "skipping\n",
      "skipping\n",
      "skipping\n",
      "skipping\n",
      "skipping\n",
      "skipping\n",
      "skipping\n",
      "skipping\n",
      "skipping\n",
      "skipping\n",
      "skipping\n",
      "skipping\n",
      "skipping\n",
      "skipping\n",
      "skipping\n",
      "skipping\n",
      "skipping\n",
      "skipping\n",
      "skipping\n",
      "skipping\n",
      "skipping\n",
      "skipping\n",
      "skipping\n",
      "skipping\n",
      "skipping\n",
      "skipping\n",
      "skipping\n",
      "skipping\n",
      "skipping\n",
      "skipping\n",
      "skipping\n",
      "skipping\n",
      "skipping\n",
      "skipping\n",
      "skipping\n",
      "skipping\n",
      "skipping\n",
      "skipping\n",
      "skipping\n",
      "skipping\n",
      "skipping\n",
      "skipping\n",
      "skipping\n",
      "skipping\n",
      "skipping\n",
      "skipping\n",
      "skipping\n",
      "skipping\n",
      "skipping\n",
      "skipping\n",
      "skipping\n",
      "skipping\n",
      "skipping\n",
      "skipping\n",
      "skipping\n",
      "skipping\n",
      "skipping\n",
      "skipping\n",
      "skipping\n",
      "skipping\n",
      "skipping\n",
      "skipping\n",
      "skipping\n",
      "skipping\n",
      "skipping\n",
      "skipping\n",
      "skipping\n",
      "skipping\n",
      "skipping\n",
      "skipping\n",
      "skipping\n",
      "skipping\n",
      "skipping\n",
      "skipping\n",
      "skipping\n",
      "skipping\n",
      "skipping\n",
      "skipping\n",
      "skipping\n",
      "skipping\n",
      "skipping\n",
      "skipping\n",
      "skipping\n",
      "skipping\n",
      "skipping\n",
      "skipping\n",
      "skipping\n",
      "skipping\n",
      "skipping\n",
      "skipping\n",
      "skipping\n",
      "skipping\n",
      "skipping\n",
      "skipping\n",
      "skipping\n",
      "skipping\n",
      "skipping\n",
      "skipping\n",
      "skipping\n",
      "skipping\n",
      "skipping\n",
      "skipping\n",
      "skipping\n",
      "skipping\n",
      "skipping\n",
      "skipping\n",
      "skipping\n",
      "skipping\n",
      "skipping\n",
      "skipping\n",
      "skipping\n",
      "skipping\n",
      "skipping\n",
      "skipping\n",
      "skipping\n",
      "skipping\n",
      "skipping\n",
      "skipping\n",
      "skipping\n"
     ]
    },
    {
     "name": "stdout",
     "output_type": "stream",
     "text": [
      "skipping\n",
      "skipping\n",
      "skipping\n",
      "skipping\n",
      "skipping\n",
      "skipping\n",
      "skipping\n",
      "skipping\n",
      "skipping\n",
      "skipping\n",
      "skipping\n",
      "skipping\n",
      "skipping\n",
      "skipping\n",
      "skipping\n",
      "skipping\n",
      "skipping\n",
      "skipping\n",
      "skipping\n",
      "skipping\n",
      "skipping\n",
      "skipping\n",
      "skipping\n",
      "skipping\n",
      "skipping\n",
      "skipping\n",
      "skipping\n",
      "skipping\n",
      "skipping\n",
      "skipping\n",
      "skipping\n",
      "skipping\n",
      "skipping\n",
      "skipping\n",
      "skipping\n",
      "skipping\n",
      "skipping\n",
      "skipping\n",
      "skipping\n",
      "skipping\n",
      "skipping\n",
      "skipping\n",
      "skipping\n",
      "skipping\n",
      "skipping\n",
      "skipping\n"
     ]
    }
   ],
   "source": [
    "frags=[p for p in sorted(Path('data/handlabeling').glob(\"**/*.png\")) if not str(p) in labels]\n",
    "frags=[p for p in frags if any(['11' in str(p),'24' in str(p)])]\n",
    "print(f'Labelling {len(frags)} images')\n",
    "for path in frags:\n",
    "    img = cv2.imread(str(path))\n",
    "    img_hash=hashlib.sha224(img).hexdigest()\n",
    "    if img_hash in labels:\n",
    "        print(\"skipping\")\n",
    "        continue\n",
    "    print(path)\n",
    "    plt.figure()\n",
    "    plt.imshow(img)\n",
    "    plt.show()\n",
    "    raw=input('What is this?')\n",
    "    labels[img_hash]=(path,raw)\n",
    "    to_file(labels,LABELS_PATH)"
   ]
  },
  {
   "cell_type": "markdown",
   "id": "9a97f6f1",
   "metadata": {},
   "source": [
    "## import hashlib"
   ]
  },
  {
   "cell_type": "code",
   "execution_count": 5,
   "id": "1f74197a",
   "metadata": {},
   "outputs": [],
   "source": [
    "hashes=[hashlib.sha224(cv2.imread(str(p))).hexdigest() for p in sorted(Path('data/handlabeling').glob(\"**/*.png\")) if not str(p) in labels]\n"
   ]
  },
  {
   "cell_type": "code",
   "execution_count": 6,
   "id": "f3daf2d1",
   "metadata": {},
   "outputs": [
    {
     "data": {
      "text/plain": [
       "3676"
      ]
     },
     "execution_count": 6,
     "metadata": {},
     "output_type": "execute_result"
    }
   ],
   "source": [
    "len(set(hashes))"
   ]
  },
  {
   "cell_type": "code",
   "execution_count": null,
   "id": "6e6652a4",
   "metadata": {},
   "outputs": [],
   "source": []
  }
 ],
 "metadata": {
  "kernelspec": {
   "display_name": "Python 3",
   "language": "python",
   "name": "python3"
  },
  "language_info": {
   "codemirror_mode": {
    "name": "ipython",
    "version": 3
   },
   "file_extension": ".py",
   "mimetype": "text/x-python",
   "name": "python",
   "nbconvert_exporter": "python",
   "pygments_lexer": "ipython3",
   "version": "3.7.8"
  }
 },
 "nbformat": 4,
 "nbformat_minor": 5
}
