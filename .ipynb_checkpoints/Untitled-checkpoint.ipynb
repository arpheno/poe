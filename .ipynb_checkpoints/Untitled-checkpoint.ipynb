{
 "cells": [
  {
   "cell_type": "code",
   "execution_count": 15,
   "metadata": {},
   "outputs": [
    {
     "name": "stdout",
     "output_type": "stream",
     "text": [
      "The autoreload extension is already loaded. To reload it, use:\n",
      "  %reload_ext autoreload\n"
     ]
    }
   ],
   "source": [
    "import pandas as pd\n",
    "from item_builder import build_items\n",
    "from itertools import groupby\n",
    "import seaborn as sns\n",
    "import matplotlib.pyplot as plt\n",
    "import numpy as np\n",
    "import datetime\n",
    "import glob\n",
    "\n",
    "from fractions import Fraction\n",
    "import math\n",
    "from ninja import currencyreport,refine_report\n",
    "from currency_conversion import conversion\n",
    "from constants import hard_currency,price_in\n",
    "%matplotlib inline\n",
    "%load_ext autoreload\n",
    "%autoreload 2\n",
    "\n"
   ]
  },
  {
   "cell_type": "code",
   "execution_count": null,
   "metadata": {},
   "outputs": [
    {
     "name": "stdout",
     "output_type": "stream",
     "text": [
      "https://poe.ninja/api/data/currencyoverview Fragment 200\n",
      "https://poe.ninja/api/data/currencyoverview Currency 200\n",
      "https://poe.ninja/api/data/itemoverview Scarab 200\n",
      "https://poe.ninja/api/data/itemoverview Oil 200\n",
      "https://poe.ninja/api/data/itemoverview Fossil 200\n",
      "https://poe.ninja/api/data/itemoverview Resonator 200\n",
      "https://poe.ninja/api/data/itemoverview Prophecy 200\n",
      "https://poe.ninja/api/data/itemoverview Incubator 200\n",
      "https://poe.ninja/api/data/itemoverview UniqueMap 200\n",
      "https://poe.ninja/api/data/itemoverview UniqueJewel 200\n",
      "https://poe.ninja/api/data/itemoverview UniqueFlask 200\n",
      "https://poe.ninja/api/data/itemoverview UniqueArmour 200\n",
      "https://poe.ninja/api/data/itemoverview UniqueWeapon 200\n",
      "https://poe.ninja/api/data/itemoverview UniqueAccessory 200\n",
      "https://poe.ninja/api/data/itemoverview Essence 200\n",
      "https://poe.ninja/api/data/itemoverview DeliriumOrb 200\n",
      "https://poe.ninja/api/data/itemoverview DivinationCard 200\n",
      "https://poe.ninja/api/data/itemoverview Map 200\n"
     ]
    }
   ],
   "source": [
    "items=build_items()\n",
    "cr=currencyreport()\n",
    "now=datetime.datetime.now().strftime('%Y-%m-%d-%H-%M-%s')\n",
    "cr.to_csv(f'currency_reports/{now}.csv')\n",
    "cr=refine_report(cr)\n",
    "cr=cr.set_index('get_currency')\n",
    "cr=cr[cr['receive']==False]\n"
   ]
  },
  {
   "cell_type": "code",
   "execution_count": null,
   "metadata": {},
   "outputs": [],
   "source": [
    "df=pd.DataFrame([dict(chaos_value=item.value,type=item.type,type_line=item.type_line,price=item.price,shoplink_template=item.shoplink_template,stack_size=item.stack_size) for item in items])\n",
    "df.loc[df.type_line.isin(hard_currency),'type']='Hard Currency'\n",
    "df.loc[df.type_line=='Chaos Orb','chaos_value']=1\n",
    "inventory=df[~df['type'].isin([None])&(df.chaos_value>0.75)]\n",
    "worthless=df[(df.chaos_value==0)&df.type.str.contains('Uniq')]\n",
    "\n",
    "print(worthless['type_line'])"
   ]
  },
  {
   "cell_type": "code",
   "execution_count": null,
   "metadata": {},
   "outputs": [],
   "source": [
    "notcurrency=inventory.groupby('type').sum().sort_values(ascending=False,by='chaos_value')\n",
    "currency=inventory[inventory.type=='Currency'].groupby('type_line').sum()['chaos_value'].reset_index()\n",
    "currency.loc[currency.chaos_value<5,'type_line']='other'\n",
    "currency=currency.groupby('type_line').sum().sort_values(ascending=False,by='chaos_value')\n",
    "total_on_offer=inventory[~inventory.type.isin(['Currency','Hard Currency'])].sum()['chaos_value']"
   ]
  },
  {
   "cell_type": "code",
   "execution_count": null,
   "metadata": {},
   "outputs": [],
   "source": [
    "print(f\"Liquidating a total of {total_on_offer}\")\n",
    "print(f\"Currency makes up {currency.sum()['chaos_value']}\")\n",
    "\n",
    "fig, ((ax1, ax2)) = plt.subplots(1, 2,figsize=(15,5))\n",
    "_=notcurrency['chaos_value'].plot(kind='bar',ax=ax1)\n",
    "# _=notcurrency.plot.pie(y='chaos_value',labels=notcurrency.type,autopct='%.2f',legend=False,ax=ax2)\n",
    "_=currency.plot(kind='bar',figsize=(15,5))"
   ]
  },
  {
   "cell_type": "code",
   "execution_count": null,
   "metadata": {},
   "outputs": [],
   "source": [
    "exchange=cr['value'][price_in].fillna(1)\n",
    "exchange.sort_values()"
   ]
  },
  {
   "cell_type": "code",
   "execution_count": null,
   "metadata": {},
   "outputs": [],
   "source": [
    "register = inventory.apply(lambda x:pd.concat([x, x.chaos_value/exchange],axis=0),axis=1).set_index(['chaos_value','type','type_line','price','shoplink_template','stack_size'])\n",
    "register=register.stack().reset_index()\n",
    "register.columns = ['chaos_value','type','type_line','chaos_price','shoplink_template','stack_size','fx','value_fx']\n",
    "register=register[(register.chaos_value/register.stack_size)>0.75]"
   ]
  },
  {
   "cell_type": "code",
   "execution_count": null,
   "metadata": {},
   "outputs": [],
   "source": [
    "weak_currency = ['Orb of Alteration','Orb of Alchemy']\n",
    "register['up_priced_value_fx']=register.apply(lambda self: math.ceil(self.value_fx*1.1) if self.fx in weak_currency else math.ceil(self.value_fx),axis=1)\n",
    "register['final_price']=register.apply(lambda self: Fraction(self.up_priced_value_fx/self.stack_size).limit_denominator(self.stack_size),axis=1)\n",
    "register['offered_value_chaos']=register.apply(lambda self: float(self.final_price)*exchange[self.fx]*self.stack_size,axis=1)\n",
    "register['fx_id']=register.fx.map(conversion)\n",
    "register['difference_fx']=register.offered_value_chaos- register.chaos_value"
   ]
  },
  {
   "cell_type": "code",
   "execution_count": null,
   "metadata": {},
   "outputs": [],
   "source": [
    "register=register[(register.difference_fx/register.chaos_value)<0.1]\n",
    "columns_to_drop_for_visibility=['shoplink_template','up_priced_value_fx','value_fx']\n",
    "register.drop(columns_to_drop_for_visibility,axis=1).sort_values('difference_fx').sample(10)\n"
   ]
  },
  {
   "cell_type": "code",
   "execution_count": null,
   "metadata": {},
   "outputs": [],
   "source": []
  },
  {
   "cell_type": "code",
   "execution_count": null,
   "metadata": {},
   "outputs": [],
   "source": [
    "_register = register[register['type']!='Hard Currency']\n",
    "_register = _register[_register['type_line']!='Stacked Deck']\n",
    "_register = _register[_register['type_line']!='Ring of Blades']\n",
    "content= list(_register.apply(lambda row: row.shoplink_template.format(**row),axis=1))"
   ]
  },
  {
   "cell_type": "code",
   "execution_count": null,
   "metadata": {},
   "outputs": [],
   "source": [
    "assert len(str(content))< 150_000\n",
    "len(str(content))"
   ]
  },
  {
   "cell_type": "code",
   "execution_count": null,
   "metadata": {},
   "outputs": [],
   "source": [
    "print(\"Liquidizing\")\n",
    "df['datetime']=datetime.datetime.now()\n",
    "df.to_csv(f'reports/{now}.csv')"
   ]
  },
  {
   "cell_type": "code",
   "execution_count": null,
   "metadata": {},
   "outputs": [],
   "source": [
    "dfs=pd.concat([pd.read_csv(file_type_line) for file_type_line in file_type_lines])\n",
    "#dfs[\n",
    "hc=dfs.type_line.isin(['Orb of Alteration','Orb of Alchemy','Chaos Orb','Vaal Orb','Divine Orb','Exalted Orb','Mirror Shard','Stacked Deck','Mirror of Kalandra'])\n",
    "dfs.loc[hc,'type']='Hard Currency'\n",
    "dfs[dfs.type=='Hard Currency'].sort_values('datetime').tail()\n"
   ]
  },
  {
   "cell_type": "code",
   "execution_count": null,
   "metadata": {},
   "outputs": [],
   "source": [
    "dfs['value']=dfs['value'].fillna(dfs['chaos_value'])\n",
    "_dfs=dfs.groupby(['datetime','type']).sum()['value']\n",
    "_dfs.unstack().plot(kind='area',stacked=True)"
   ]
  },
  {
   "cell_type": "code",
   "execution_count": null,
   "metadata": {},
   "outputs": [],
   "source": [
    "import plotly.express as px\n",
    "fig = px.area(_dfs.reset_index(), x=\"datetime\", y=\"value\", color=\"type\")\n",
    "fig.show()\n"
   ]
  },
  {
   "cell_type": "code",
   "execution_count": null,
   "metadata": {},
   "outputs": [],
   "source": [
    "from forum_updater import update_forum\n",
    "l=len(content)\n",
    "print(len(str(content)))\n",
    "assert len(str(content))<49_999"
   ]
  },
  {
   "cell_type": "code",
   "execution_count": null,
   "metadata": {},
   "outputs": [],
   "source": [
    "_content=[content]#,content[int(l/3):int(2*l/3)],content[int(2*l/3):]]\n",
    "update_forum(\"\\n\".join(_content[0]),'2822110')\n",
    "# update_forum('','2843599')"
   ]
  },
  {
   "cell_type": "code",
   "execution_count": null,
   "metadata": {},
   "outputs": [],
   "source": [
    "chaos_shoplink_template=inventory[inventory.type_line=='Chaos Orb'].set_index('type_line')['shoplink_template']['Chaos Orb']\n",
    "chaos_shoplink_template"
   ]
  },
  {
   "cell_type": "code",
   "execution_count": null,
   "metadata": {},
   "outputs": [],
   "source": [
    "from constants import currency_shards\n",
    "\n",
    "df=pd.DataFrame(currency_shards).T\n",
    "df=df.reset_index().set_index([1])\n",
    "df=df.join(cr['value']).set_index('index').apply(np.prod,axis=1).reset_index()\n",
    "df.columns=['fx','value_fx']\n",
    "df['shoplink_template']=chaos_shoplink_template\n",
    "df['value_fx']=1/df['value_fx']\n",
    "df['chaos_value']=1\n",
    "df['type_line']='Chaos Orb'\n",
    "df.head()\n",
    "\n",
    "    "
   ]
  },
  {
   "cell_type": "code",
   "execution_count": null,
   "metadata": {},
   "outputs": [],
   "source": [
    "from constants import currency_shards\n",
    "\n",
    "df2=pd.DataFrame(currency_shards).T.reset_index().set_index([1])\n",
    "df2=df2.join(cr['value']).set_index('index').apply(np.prod,axis=1).reset_index()\n",
    "df2.columns=['type_line','Chaos Orb']\n",
    "df2 = df2.apply(lambda x:pd.concat([x, x['Chaos Orb']/exchange],axis=0),axis=1).set_index(['type_line'])\n",
    "df2.head()\n"
   ]
  },
  {
   "cell_type": "code",
   "execution_count": null,
   "metadata": {},
   "outputs": [],
   "source": []
  },
  {
   "cell_type": "code",
   "execution_count": null,
   "metadata": {},
   "outputs": [],
   "source": [
    "df3=df2.T.unstack(1).reset_index()\n",
    "df3.columns=['fx','type_line','price_fx']\n",
    "\n",
    "buy_in = hard_currency\n",
    "df3=df3.set_index('type_line').join(df[df.type_line.isin(buy_in)].set_index('type_line')[['stack_size','shoplink_template']]).reset_index()\n",
    "df3['price_fractional']=(df3['price_fx']/1.1).apply(lambda x: (Fraction(x)).limit_denominator(2))\n",
    "df3=df3[df3.apply(lambda x: x['price_fractional'].numerator<x.stack_size,axis=1)]\n",
    "df3['diff_fx']=df3['price_fractional']-df3['price_fx']\n",
    "df4=df3[(df3.diff_fx<0)&(df3['price_fractional']>0)]\n",
    "df4['fx_id']=df4['fx'].str.split().str.join('-')\n",
    "df4['final_price']=df4['price_fractional']\n",
    "\n",
    "df4.head(50)"
   ]
  },
  {
   "cell_type": "code",
   "execution_count": null,
   "metadata": {},
   "outputs": [],
   "source": [
    "buyinig_content= list(df4.apply(lambda row: row.shoplink_template.format(**row),axis=1))"
   ]
  },
  {
   "cell_type": "code",
   "execution_count": null,
   "metadata": {},
   "outputs": [],
   "source": [
    "update_forum(\"\\n\".join(buying_content),'2843594')\n"
   ]
  },
  {
   "cell_type": "code",
   "execution_count": null,
   "metadata": {},
   "outputs": [],
   "source": []
  },
  {
   "cell_type": "code",
   "execution_count": null,
   "metadata": {},
   "outputs": [],
   "source": []
  }
 ],
 "metadata": {
  "kernelspec": {
   "display_name": "Python 3",
   "language": "python",
   "name": "python3"
  },
  "language_info": {
   "codemirror_mode": {
    "name": "ipython",
    "version": 3
   },
   "file_extension": ".py",
   "mimetype": "text/x-python",
   "name": "python",
   "nbconvert_exporter": "python",
   "pygments_lexer": "ipython3",
   "version": "3.7.4"
  }
 },
 "nbformat": 4,
 "nbformat_minor": 4
}
