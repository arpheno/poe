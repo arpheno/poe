{
 "cells": [
  {
   "cell_type": "code",
   "execution_count": 1,
   "metadata": {},
   "outputs": [
    {
     "name": "stdout",
     "output_type": "stream",
     "text": [
      "cannot import name 'ssid' from 'secrets' (/Users/swozny/.pyenv/versions/3.7.8/lib/python3.7/secrets.py)\n",
      "Please set ssid in secrets.py\n"
     ]
    }
   ],
   "source": [
    "import pandas as pd\n",
    "from item_builder import build_items\n",
    "from itertools import groupby\n",
    "import seaborn as sns\n",
    "import matplotlib.pyplot as plt\n",
    "import numpy as np\n",
    "import datetime\n",
    "import glob\n",
    "from constants import currency_shards\n",
    "\n",
    "import plotly.express as px\n",
    "\n",
    "from fractions import Fraction\n",
    "import math\n",
    "from ninja import currencyreport,refine_report\n",
    "from currency_conversion import conversion\n",
    "from constants import hard_currency,price_in\n",
    "%matplotlib inline\n",
    "%load_ext autoreload\n",
    "%autoreload 2\n"
   ]
  },
  {
   "cell_type": "code",
   "execution_count": 2,
   "metadata": {},
   "outputs": [
    {
     "name": "stdout",
     "output_type": "stream",
     "text": [
      "https://poe.ninja/api/data/currencyoverview Fragment 200\n",
      "https://poe.ninja/api/data/currencyoverview Currency 200\n",
      "https://poe.ninja/api/data/itemoverview Scarab 200\n",
      "https://poe.ninja/api/data/itemoverview Oil 200\n",
      "https://poe.ninja/api/data/itemoverview Fossil 200\n",
      "https://poe.ninja/api/data/itemoverview Resonator 200\n",
      "https://poe.ninja/api/data/itemoverview Prophecy 200\n",
      "https://poe.ninja/api/data/itemoverview Incubator 200\n",
      "https://poe.ninja/api/data/itemoverview UniqueMap 200\n",
      "https://poe.ninja/api/data/itemoverview UniqueJewel 200\n",
      "https://poe.ninja/api/data/itemoverview UniqueFlask 200\n",
      "https://poe.ninja/api/data/itemoverview UniqueArmour 200\n",
      "https://poe.ninja/api/data/itemoverview UniqueWeapon 200\n",
      "https://poe.ninja/api/data/itemoverview UniqueAccessory 200\n",
      "https://poe.ninja/api/data/itemoverview Essence 200\n",
      "https://poe.ninja/api/data/itemoverview DeliriumOrb 200\n",
      "https://poe.ninja/api/data/itemoverview DivinationCard 200\n",
      "https://poe.ninja/api/data/itemoverview Map 200\n",
      "https://poe.ninja/api/data/itemoverview SkillGem 200\n",
      "https://poe.ninja/api/data/itemoverview BaseType 200\n",
      "Could not find an item type for Armourer's Scrap\n",
      "Could not find an item type for Scroll of Wisdom\n",
      "Could not find an item type for Harbinger's Shard\n",
      "Could not find an item type for Horizon Shard\n",
      "Could not find an item type for Ancient Shard\n",
      "Could not find an item type for Binding Shard\n",
      "Could not find an item type for Chromium Valdo's Rest Watchstone\n",
      "Could not find an item type for Chaos Shard\n",
      "Could not find an item type for Regal Shard\n",
      "Could not find an item type for Portal Scroll\n",
      "Could not find an item type for Engineer's Shard\n",
      "Could not find an item type for Scroll Fragment\n",
      "Could not find an item type for Alteration Shard\n",
      "Could not find an item type for Alchemy Shard\n",
      "Could not find an item type for Transmutation Shard\n",
      "Could not find an item type for Ritual Splinter\n",
      "Could not find an item type for Blighted Dry Sea Map\n",
      "Could not find an item type for Murgeth Bogsong's Heart\n",
      "Could not find an item type for Blackguard Avenger's Liver\n",
      "Could not find an item type for Lady Stormflay's Brain\n",
      "Could not find an item type for Master of the Blade's Lung\n",
      "Could not find an item type for Murgeth Bogsong's Brain\n",
      "Could not find an item type for Contract: Records Office\n",
      "Could not find an item type for Tahsin, Warmaker's Lung\n",
      "Could not find an item type for Burtok, Conjurer of Bones's Lung\n",
      "Could not find an item type for Guardian of the Phoenix's Heart\n",
      "Could not find an item type for Bin'aia, Crimson Rain's Brain\n",
      "Could not find an item type for Bin'aia, Crimson Rain's Brain\n",
      "Could not find an item type for Bin'aia, Crimson Rain's Brain\n",
      "Could not find an item type for Stalker of the Endless Dunes's Eye\n",
      "Could not find an item type for Stalker of the Endless Dunes's Eye\n",
      "Could not find an item type for Kalria, The Fallen's Brain\n",
      "Could not find an item type for Kalria, The Fallen's Brain\n",
      "Could not find an item type for Kalria, The Fallen's Brain\n",
      "Could not find an item type for Xixic, High Necromancer's Eye\n",
      "Could not find an item type for Xixic, High Necromancer's Eye\n",
      "Could not find an item type for Rama, The Kinslayer's Eye\n",
      "Could not find an item type for Rama, The Kinslayer's Eye\n",
      "Could not find an item type for Rama, The Kinslayer's Heart\n",
      "Could not find an item type for Rama, The Kinslayer's Heart\n",
      "Could not find an item type for Rama, The Kinslayer's Heart\n",
      "Could not find an item type for The Gorgon's Lung\n",
      "Could not find an item type for The Gorgon's Lung\n",
      "Could not find an item type for Erebix, Light's Bane's Eye\n",
      "Could not find an item type for Invari, The Bloodshaper's Lung\n",
      "Could not find an item type for Berrots, The Breaker's Heart\n",
      "Could not find an item type for Invari, The Bloodshaper's Lung\n",
      "Could not find an item type for Berrots, The Breaker's Brain\n",
      "Could not find an item type for Berrots, The Breaker's Brain\n",
      "Could not find an item type for Berrots, The Breaker's Brain\n",
      "Could not find an item type for Calderus's Brain\n",
      "Could not find an item type for Calderus's Brain\n",
      "Could not find an item type for Calderus's Brain\n",
      "Could not find an item type for The Gorgon's Lung\n",
      "Could not find an item type for Bin'aia, Crimson Rain's Liver\n",
      "Could not find an item type for Bin'aia, Crimson Rain's Liver\n",
      "Could not find an item type for Bin'aia, Crimson Rain's Liver\n",
      "Could not find an item type for Rama, The Kinslayer's Lung\n",
      "Could not find an item type for Rama, The Kinslayer's Lung\n",
      "Could not find an item type for Rama, The Kinslayer's Lung\n",
      "Could not find an item type for Visceris's Brain\n",
      "Could not find an item type for Visceris's Brain\n",
      "Could not find an item type for Visceris's Brain\n",
      "Could not find an item type for Xixic, High Necromancer's Brain\n",
      "Could not find an item type for Xixic, High Necromancer's Lung\n",
      "Could not find an item type for Berrots, The Breaker's Eye\n",
      "Could not find an item type for Berrots, The Breaker's Eye\n",
      "Could not find an item type for Berrots, The Breaker's Eye\n",
      "Could not find an item type for The Gorgon's Brain\n",
      "Could not find an item type for The Gorgon's Brain\n",
      "Could not find an item type for The Gorgon's Brain\n",
      "Could not find an item type for Herald of Thunder's Lung\n",
      "Could not find an item type for Erebix, Light's Bane's Lung\n",
      "Could not find an item type for Medium Cluster Jewel\n",
      "Could not find an item type for Mitogenic Platinum Valdo's Rest Watchstone\n",
      "Could not find an item type for Wide Ruby Flask of the Prism\n",
      "Could not find an item type for Mitogenic Platinum Valdo's Rest Watchstone of the Miser\n",
      "Could not find an item type for Synthesised Nightmare Bascinet\n",
      "Could not find an item type for Mitogenic Platinum Valdo's Rest Watchstone of Connections\n",
      "Could not find an item type for Maven's Invitation: The Twisted\n",
      "Could not find an item type for Titanium Valdo's Rest Watchstone\n",
      "Could not find an item type for Platinum Haewark Hamlet Watchstone\n",
      "Could not find an item type for Maven's Invitation: The Hidden\n",
      "Could not find an item type for Maven's Invitation: The Hidden\n",
      "Could not find an item type for Maven's Invitation: The Hidden\n",
      "Could not find an item type for Platinum Glennach Cairns Watchstone\n",
      "Could not find an item type for Medium Cluster Jewel\n",
      "Could not find an item type for Apprentice's Quicksilver Flask of the Gazelle\n",
      "Could not find an item type for Notable Large Cluster Jewel of the Squall\n",
      "Could not find an item type for Quicksilver Flask\n",
      "Could not find an item type for Sulphur Flask\n",
      "Could not find an item type for Shimmering Cobalt Jewel\n",
      "Could not find an item type for Whisper-woven Cloak\n",
      "Could not find an item type for Enduring Eternal Mana Flask of Interference\n",
      "Could not find an item type for Catalysed Divine Life Flask of Earthing\n",
      "Could not find an item type for Whisper-woven Cloak\n",
      "Could not find an item type for Large Cluster Jewel\n",
      "Could not find an item type for Agile Opal Ring of the Gorilla\n",
      "Could not find an item type for Maven's Invitation: Haewark Hamlet\n",
      "Could not find an item type for Medium Cluster Jewel\n",
      "Could not find an item type for Jade Flask\n",
      "Could not find an item type for Dissipating Viridian Jewel of Efficiency\n",
      "Could not find an item type for Spellslinger Support\n",
      "Could not find an item type for Jade Flask\n",
      "Could not find an item type for Quicksilver Flask\n",
      "Could not find an item type for Large Cluster Jewel\n",
      "Could not find an item type for Contract: Records Office\n",
      "Could not find an item type for Small Cluster Jewel\n",
      "Could not find an item type for Potent Medium Cluster Jewel\n",
      "Could not find an item type for Plentiful Jade Flask of the Abalone\n",
      "Could not find an item type for Rogue's Marker\n",
      "Could not find an item type for Chromium Valdo's Rest Watchstone\n",
      "Could not find an item type for Platinum Haewark Hamlet Watchstone\n",
      "Could not find an item type for Platinum Haewark Hamlet Watchstone\n",
      "Could not find an item type for Platinum Haewark Hamlet Watchstone\n",
      "Could not find an item type for Platinum Haewark Hamlet Watchstone\n",
      "Could not find an item type for Platinum Haewark Hamlet Watchstone\n",
      "Could not find an item type for Platinum Glennach Cairns Watchstone\n",
      "Could not find an item type for Platinum Lira Arthain Watchstone\n",
      "Could not find an item type for Aukuna's Platinum Haewark Hamlet Watchstone\n",
      "Could not find an item type for Platinum Haewark Hamlet Watchstone\n",
      "Could not find an item type for Platinum Lira Arthain Watchstone\n",
      "Could not find an item type for Platinum Haewark Hamlet Watchstone\n",
      "Could not find an item type for Platinum Glennach Cairns Watchstone\n",
      "Could not find an item type for Platinum Lira Arthain Watchstone\n",
      "Could not find an item type for Platinum Lira Arthain Watchstone\n",
      "Could not find an item type for Platinum Haewark Hamlet Watchstone\n",
      "Could not find an item type for Platinum Lira Arthain Watchstone\n",
      "Could not find an item type for Platinum Haewark Hamlet Watchstone\n",
      "Could not find an item type for Platinum Glennach Cairns Watchstone\n",
      "Could not find an item type for Platinum Lira Arthain Watchstone\n",
      "Could not find an item type for Antiquarian's Platinum Lira Arthain Watchstone of the Voices\n",
      "Could not find an item type for Platinum Glennach Cairns Watchstone\n",
      "Could not find an item type for Platinum Lira Arthain Watchstone\n",
      "Could not find an item type for Platinum Lira Arthain Watchstone\n",
      "Could not find an item type for Platinum Lira Arthain Watchstone\n",
      "Could not find an item type for Platinum Lira Arthain Watchstone\n",
      "Could not find an item type for Platinum Lira Arthain Watchstone\n",
      "Could not find an item type for Platinum Haewark Hamlet Watchstone\n",
      "Could not find an item type for Platinum Haewark Hamlet Watchstone\n",
      "Could not find an item type for Platinum Glennach Cairns Watchstone\n",
      "Could not find an item type for Platinum Lira Arthain Watchstone of the Masses\n",
      "Could not find an item type for Platinum Glennach Cairns Watchstone\n",
      "Could not find an item type for Platinum Haewark Hamlet Watchstone\n",
      "Could not find an item type for Platinum Lira Arthain Watchstone\n",
      "Could not find an item type for Platinum Glennach Cairns Watchstone\n",
      "Could not find an item type for Platinum Glennach Cairns Watchstone\n",
      "Could not find an item type for Platinum Glennach Cairns Watchstone\n",
      "Could not find an item type for Split Platinum Haewark Hamlet Watchstone\n",
      "Could not find an item type for Platinum Glennach Cairns Watchstone\n",
      "Could not find an item type for Tormented Platinum Lira Arthain Watchstone\n",
      "Could not find an item type for Platinum Glennach Cairns Watchstone\n",
      "Could not find an item type for Platinum Lira Arthain Watchstone\n",
      "Could not find an item type for Platinum Haewark Hamlet Watchstone\n",
      "Could not find an item type for Platinum Glennach Cairns Watchstone\n",
      "Could not find an item type for Platinum Lira Arthain Watchstone\n",
      "Could not find an item type for Platinum Lira Arthain Watchstone\n"
     ]
    },
    {
     "name": "stdout",
     "output_type": "stream",
     "text": [
      "Could not find an item type for Chromium Valdo's Rest Watchstone of Influence\n",
      "Could not find an item type for Titanium Lira Arthain Watchstone\n",
      "Could not find an item type for Titanium Glennach Cairns Watchstone\n",
      "Could not find an item type for Chromium Valdo's Rest Watchstone\n",
      "Could not find an item type for Chromium Glennach Cairns Watchstone\n",
      "Could not find an item type for Chromium Valdo's Rest Watchstone\n",
      "Could not find an item type for Chromium Haewark Hamlet Watchstone\n",
      "Could not find an item type for Hardening Chromium Glennach Cairns Watchstone of Wealth\n",
      "Could not find an item type for Delver's Titanium Glennach Cairns Watchstone\n",
      "Could not find an item type for Titanium Lira Arthain Watchstone\n",
      "Could not find an item type for Chromium Glennach Cairns Watchstone\n",
      "Could not find an item type for Chromium Haewark Hamlet Watchstone\n",
      "Could not find an item type for Titanium Glennach Cairns Watchstone\n",
      "Could not find an item type for Chromium Glennach Cairns Watchstone\n",
      "Could not find an item type for Titanium Haewark Hamlet Watchstone\n",
      "Could not find an item type for Chromium Glennach Cairns Watchstone\n",
      "Could not find an item type for Chromium Lira Arthain Watchstone\n",
      "Could not find an item type for Seeker's Titanium Haewark Hamlet Watchstone\n",
      "Could not find an item type for Titanium Haewark Hamlet Watchstone of the Weaponsmith\n",
      "Could not find an item type for Chromium Valdo's Rest Watchstone\n",
      "Could not find an item type for Superior Tower Map\n",
      "Could not find an item type for Superior Tower Map\n",
      "Could not find an item type for Chromium Glennach Cairns Watchstone\n",
      "Could not find an item type for Chromium Haewark Hamlet Watchstone\n",
      "Could not find an item type for Zoologist's Titanium Glennach Cairns Watchstone\n",
      "Could not find an item type for Titanium Haewark Hamlet Watchstone\n",
      "Could not find an item type for Superior Tower Map\n",
      "Could not find an item type for Chromium Haewark Hamlet Watchstone\n",
      "Could not find an item type for Titanium Glennach Cairns Watchstone\n",
      "Could not find an item type for Chromium Haewark Hamlet Watchstone\n",
      "Could not find an item type for Titanium Valdo's Rest Watchstone\n",
      "Could not find an item type for Chromium Haewark Hamlet Watchstone\n",
      "Could not find an item type for Maven's Invitation: The Twisted\n",
      "Could not find an item type for Rogue's Marker\n",
      "Could not find an item type for Large Cluster Jewel\n",
      "Could not find an item type for Ample Quicksilver Flask of the Cheetah\n",
      "Could not find an item type for Seething Divine Life Flask of Grounding\n",
      "Could not find an item type for Maven's Invitation: Glennach Cairns\n",
      "Could not find an item type for Tattered Cloak\n",
      "Could not find an item type for Sulphur Blowtorch\n",
      "Could not find an item type for Whisper-woven Cloak\n",
      "Could not find an item type for Clinician's Quicksilver Flask of Stiffness\n",
      "Could not find an item type for Sulphur Flask\n",
      "Could not find an item type for Maven's Invitation: Haewark Hamlet\n",
      "Could not find an item type for Maven's Invitation: Haewark Hamlet\n",
      "Could not find an item type for Maven's Invitation: Valdo's Rest\n",
      "Could not find an item type for Superior Slink Gloves\n",
      "Could not find an item type for Notable Medium Cluster Jewel of Overflowing\n",
      "Could not find an item type for Explosive Platinum Valdo's Rest Watchstone\n",
      "Could not find an item type for Platinum Valdo's Rest Watchstone\n",
      "Could not find an item type for Split Platinum Valdo's Rest Watchstone of the Armoursmith\n",
      "Could not find an item type for Split Platinum Valdo's Rest Watchstone of the Armoursmith\n",
      "Could not find an item type for Platinum Valdo's Rest Watchstone\n",
      "Could not find an item type for Invader's Platinum Valdo's Rest Watchstone of the Weaponsmith\n",
      "Could not find an item type for Platinum Valdo's Rest Watchstone\n",
      "Could not find an item type for Rogue's Platinum Valdo's Rest Watchstone of Glassblowing\n",
      "Could not find an item type for Napuatzi's Platinum Valdo's Rest Watchstone of the Remarkable\n",
      "Could not find an item type for Maven's Invitation: The Hidden\n",
      "Could not find an item type for Split Platinum Valdo's Rest Watchstone of the Miser\n",
      "Could not find an item type for Split Platinum Valdo's Rest Watchstone of the Voices\n",
      "Could not find an item type for Platinum Valdo's Rest Watchstone\n",
      "Could not find an item type for Superior Sinner Tricorne\n",
      "Could not find an item type for Anarchic Platinum Valdo's Rest Watchstone of Connections\n",
      "Could not find an item type for Unsplintered Platinum Valdo's Rest Watchstone of the Miser\n",
      "Could not find an item type for Smuggler's Platinum Valdo's Rest Watchstone\n",
      "Could not find an item type for Maven's Invitation: The Hidden\n",
      "Could not find an item type for Granite Flask\n",
      "Could not find an item type for Medium Cluster Jewel\n",
      "Could not find an item type for Chronicle of Atzoatl\n",
      "Could not find an item type for Small Cluster Jewel\n",
      "Could not find an item type for Iolite Ring of the Lion\n",
      "Could not find an item type for Small Cluster Jewel\n",
      "Could not find an item type for Small Cluster Jewel\n",
      "Could not find an item type for Intuitive Link Support\n",
      "Could not find an item type for Medium Cluster Jewel\n",
      "Could not find an item type for Maven's Invitation: Lira Arthain\n",
      "Could not find an item type for Exotic Coinage\n",
      "Could not find an item type for Maven's Invitation: Glennach Cairns\n",
      "Could not find an item type for Scholar's Quicksilver Flask of Tree Moss\n",
      "Could not find an item type for Dangerous Foliate Brooch\n",
      "Could not find an item type for Enamel Brooch\n",
      "Could not find an item type for General's Cry Support\n",
      "Could not find an item type for Foliate Brooch\n",
      "Could not find an item type for Maven's Invitation: Lira Arthain\n",
      "Could not find an item type for Enamel Brooch\n",
      "Could not find an item type for Granite Flask\n",
      "Could not find an item type for Large Cluster Jewel\n",
      "Could not find an item type for Maven's Invitation: The Hidden\n",
      "Could not find an item type for Chronicle of Atzoatl\n",
      "Could not find an item type for Maven's Invitation: The Hidden\n",
      "Could not find an item type for Maven's Invitation: Glennach Cairns\n",
      "Could not find an item type for Maven's Invitation: Valdo's Rest\n",
      "Could not find an item type for Medium Cluster Jewel\n",
      "Could not find an item type for Platinum Lira Arthain Watchstone\n",
      "Could not find an item type for Breach Ring\n",
      "Could not find an item type for Maven's Invitation: Haewark Hamlet\n",
      "Could not find an item type for Platinum Lira Arthain Watchstone\n",
      "Could not find an item type for Titanium Glennach Cairns Watchstone\n",
      "Could not find an item type for Maven's Invitation: The Hidden\n",
      "Could not find an item type for Maven's Invitation: Lira Arthain\n",
      "Could not find an item type for Maven's Invitation: Lira Arthain\n",
      "Could not find an item type for Quicksilver Flask\n",
      "Could not find an item type for Maven's Invitation: The Hidden\n",
      "Could not find an item type for Basalt Flask of the Skink\n",
      "Couldn't find match for Physical to Lightning Support 16 0  Using Physical to Lightning Support, 5 0 instead\n",
      "Couldn't find match for Cast when Damage Taken Support 19 0 Corrupted Using Cast when Damage Taken Support, 1 0 instead\n",
      "Couldn't find match for Smite 17 0  Using Smite, 4 20 instead\n",
      "Couldn't find match for Ancestral Protector 17 0  Using Ancestral Protector, 7 0 instead\n",
      "Couldn't find match for Melee Physical Damage Support 16 0  Using Melee Physical Damage Support, 7 0 instead\n",
      "Couldn't find match for Elemental Damage with Attacks Support 16 0  Using Elemental Damage with Attacks Support, 7 0 instead\n",
      "Couldn't find match for Ancestral Call Support 17 0  Using Ancestral Call Support, 5 0 instead\n",
      "Couldn't find match for Smite 17 11  Using Smite, 4 20 instead\n",
      "Couldn't find match for Elemental Focus Support 16 0  Using Elemental Focus Support, 7 0 instead\n",
      "Couldn't find match for Faster Attacks Support 16 0  Using Faster Attacks Support, 1 0 instead\n",
      "Couldn't find match for Inspiration Support 16 0  Using Inspiration Support, 1 0 instead\n",
      "Couldn't find match for Inspiration Support 16 0  Using Inspiration Support, 1 0 instead\n",
      "Couldn't find match for Smoke Mine 11 0  Using Smoke Mine, 2 0 instead\n",
      "Couldn't find match for Lancing Steel 19 6  Using Lancing Steel, 3 0 instead\n",
      "Couldn't find match for Herald of Purity 19 0  Using Herald of Purity, 5 0 instead\n",
      "Couldn't find match for Vaal Lightning Trap 1 0 Corrupted Using Vaal Lightning Trap, 20 0 instead\n",
      "Couldn't find match for Raise Zombie 19 0  Using Raise Zombie, 5 0 instead\n",
      "Couldn't find match for Fire Penetration Support 17 0  Using Fire Penetration Support, 6 0 instead\n",
      "Couldn't find match for Rain of Arrows 1 23 Corrupted Using Rain of Arrows, 5 0 instead\n"
     ]
    },
    {
     "name": "stdout",
     "output_type": "stream",
     "text": [
      "Couldn't find match for Earthquake 1 23 Corrupted Using Earthquake, 2 0 instead\n",
      "Couldn't find match for Chance to Bleed Support 1 23 Corrupted Using Chance to Bleed Support, 3 0 instead\n",
      "Couldn't find match for Discipline 18 0  Using Discipline, 1 0 instead\n",
      "Couldn't find match for Onslaught Support 12 0  Using Onslaught Support, 3 0 instead\n",
      "Couldn't find match for Ancestral Protector 16 0  Using Ancestral Protector, 7 0 instead\n",
      "Couldn't find match for Faster Casting Support 16 0  Using Faster Casting Support, 3 0 instead\n",
      "Couldn't find match for Assassin's Mark 18 0  Using Assassin's Mark, 1 0 instead\n",
      "Couldn't find match for Vaal Flameblast 1 0 Corrupted Using Vaal Flameblast, 20 0 instead\n",
      "Couldn't find match for Conductivity 16 0  Using Conductivity, 6 0 instead\n",
      "Couldn't find match for Flammability 19 0  Using Flammability, 7 0 instead\n",
      "Couldn't find match for Assassin's Mark 19 0  Using Assassin's Mark, 1 0 instead\n",
      "Couldn't find match for Vaal Summon Skeletons 1 0 Corrupted Using Vaal Summon Skeletons, 20 0 instead\n",
      "Couldn't find match for Assassin's Mark 14 0  Using Assassin's Mark, 1 0 instead\n",
      "Couldn't find match for Increased Area of Effect Support 18 0 Corrupted Using Increased Area of Effect Support, 2 0 instead\n",
      "Couldn't find match for Wave of Conviction 18 0 Corrupted Using Wave of Conviction, 7 0 instead\n",
      "Couldn't find match for Purifying Flame 19 0  Using Purifying Flame, 5 0 instead\n"
     ]
    }
   ],
   "source": [
    "items=build_items()\n"
   ]
  },
  {
   "cell_type": "code",
   "execution_count": 3,
   "metadata": {},
   "outputs": [
    {
     "name": "stdout",
     "output_type": "stream",
     "text": [
      "https://poe.ninja/api/data/currencyoverview Fragment 200\n",
      "https://poe.ninja/api/data/currencyoverview Currency 200\n"
     ]
    }
   ],
   "source": [
    "\n",
    "def save_currency_report(cr):\n",
    "    now= datetime.datetime.now().strftime('%Y-%m-%d-%H-%M-%s')\n",
    "    cr.to_csv(f'currency_reports/{now}.csv')\n",
    "def sunburst(inventory):\n",
    "    new=inventory.groupby(['type','type_line']).sum().reset_index()\n",
    "    fig =px.sunburst(\n",
    "        new,\n",
    "        path=['type', 'type_line'], values='chaos_value',\n",
    "        template='plotly_dark'\n",
    "    )\n",
    "    fig.show()\n",
    "cr = currencyreport()\n",
    "save_currency_report(cr)\n",
    "cr=refine_report(cr)\n",
    "cr=cr.set_index('get_currency')\n",
    "cr=cr[cr['receive']==False]\n"
   ]
  },
  {
   "cell_type": "code",
   "execution_count": 4,
   "metadata": {},
   "outputs": [
    {
     "data": {
      "text/plain": [
       "[]"
      ]
     },
     "execution_count": 4,
     "metadata": {},
     "output_type": "execute_result"
    }
   ],
   "source": [
    "[item for item in items if item.name=='The Warden' ]"
   ]
  },
  {
   "cell_type": "code",
   "execution_count": 5,
   "metadata": {},
   "outputs": [],
   "source": [
    "df=pd.DataFrame([dict(chaos_value=item.value,type=item.type,type_line=item.type_line,price=item.price,shoplink_template=item.shoplink_template,stack_size=item.stack_size) for item in items])\n",
    "df.loc[df.type_line.isin(hard_currency),'type']='Hard Currency'\n",
    "df.loc[df.type_line=='Chaos Orb','chaos_value']=df.loc[df.type_line=='Chaos Orb','stack_size']\n",
    "inventory=df[~df['type'].isin([None])&(df.chaos_value>0)]\n",
    "worthless=df[(df.chaos_value==0)&df.type.str.contains('Uniq')]\n"
   ]
  },
  {
   "cell_type": "code",
   "execution_count": null,
   "metadata": {},
   "outputs": [],
   "source": [
    "sunburst(inventory)"
   ]
  },
  {
   "cell_type": "code",
   "execution_count": null,
   "metadata": {},
   "outputs": [],
   "source": [
    "notcurrency=inventory.groupby('type').sum().sort_values(ascending=False,by='chaos_value')\n",
    "currency=inventory[inventory.type.isin(['Currency','Hard Currency'])].groupby('type_line').sum()['chaos_value'].reset_index()\n",
    "currency.loc[currency.chaos_value<5,'type_line']='other'\n",
    "currency=currency.groupby('type_line').sum().sort_values(ascending=False,by='chaos_value')\n"
   ]
  },
  {
   "cell_type": "code",
   "execution_count": null,
   "metadata": {},
   "outputs": [],
   "source": [
    "total_on_offer=inventory#[~inventory.type.isin(['Currency','Hard Currency'])]"
   ]
  },
  {
   "cell_type": "code",
   "execution_count": null,
   "metadata": {},
   "outputs": [],
   "source": [
    "total_on_offer.groupby('type').sum().sort_values(ascending=False,by='chaos_value')\n"
   ]
  },
  {
   "cell_type": "code",
   "execution_count": null,
   "metadata": {},
   "outputs": [],
   "source": [
    "print(f\"Liquidating a total of {total_on_offer.sum()['chaos_value']}\")\n",
    "print(f\"Currency total {currency.sum()['chaos_value']}\")"
   ]
  },
  {
   "cell_type": "code",
   "execution_count": null,
   "metadata": {},
   "outputs": [],
   "source": [
    "fig = px.bar(notcurrency['chaos_value'],template='plotly_dark',title='Total Breakdown')\n",
    "fig.show()"
   ]
  },
  {
   "cell_type": "code",
   "execution_count": null,
   "metadata": {},
   "outputs": [],
   "source": [
    "cr['value']['Chaos Orb']=1\n",
    "exchange=cr['value']"
   ]
  },
  {
   "cell_type": "code",
   "execution_count": null,
   "metadata": {},
   "outputs": [],
   "source": [
    "register = inventory.apply(lambda x:pd.concat([x, x.chaos_value/exchange],axis=0),axis=1).set_index(['chaos_value','type','type_line','price','shoplink_template','stack_size'])\n",
    "register=register.stack().reset_index()\n",
    "register.columns = ['chaos_value','type','type_line','chaos_price','shoplink_template','stack_size','fx','value_fx']\n",
    "register=register[(register.chaos_value/register.stack_size)>0.75]"
   ]
  },
  {
   "cell_type": "code",
   "execution_count": null,
   "metadata": {},
   "outputs": [],
   "source": [
    "register=register[register.fx=='Chaos Orb']"
   ]
  },
  {
   "cell_type": "code",
   "execution_count": null,
   "metadata": {},
   "outputs": [],
   "source": [
    "register"
   ]
  },
  {
   "cell_type": "code",
   "execution_count": null,
   "metadata": {},
   "outputs": [],
   "source": [
    "def keywords(words,mult):\n",
    "    return lambda item: mult if any(word in item.type_line for word in words) else 1\n",
    "onefive=[\"Fragment of\",\"Breachstone\",'inged']\n",
    "def up_price(item):\n",
    "    base =1.3\n",
    "    if item.type_line=='Offering to the Goddess':\n",
    "        base=base\n",
    "    if item.type in ('SkillGem','Base','Prophecy'):\n",
    "        base=1\n",
    "    base*=keywords(onefive,1.35)(item)\n",
    "    if item.type=='Map':\n",
    "        base*= 1.2\n",
    "    if item.type=='Incubator':\n",
    "        base*= 1.5\n",
    "    if item.type ==\"Catalyst\" and item.stack_size <10:\n",
    "        base*=5\n",
    "    else:\n",
    "        base*=1\n",
    "    if item.stack_size>50:\n",
    "        base*=1.1\n",
    "\n",
    "    return math.ceil(base*item.value_fx)"
   ]
  },
  {
   "cell_type": "code",
   "execution_count": null,
   "metadata": {},
   "outputs": [],
   "source": [
    "weak_currency = ['Orb of Alteration','Orb of Alchemy']\n",
    "register['up_priced_value_fx']=register.apply(up_price,axis=1)\n",
    "register['final_price']=register.apply(lambda self: Fraction(self.up_priced_value_fx/self.stack_size).limit_denominator(self.stack_size),axis=1)\n",
    "register['offered_value_chaos']=register.apply(lambda self: float(self.final_price)*exchange[self.fx]*self.stack_size,axis=1)\n",
    "register['fx_id']=register.fx.map(conversion)\n",
    "register['difference_fx']=register.offered_value_chaos- register.chaos_value"
   ]
  },
  {
   "cell_type": "code",
   "execution_count": null,
   "metadata": {},
   "outputs": [],
   "source": [
    "# register=register[(register.difference_fx/register.chaos_value)<0.1]\n",
    "register=register[register['type']!='Hard Currency']\n",
    "register = register[register.chaos_value>1]\n"
   ]
  },
  {
   "cell_type": "code",
   "execution_count": null,
   "metadata": {},
   "outputs": [],
   "source": [
    "columns_to_drop_for_visibility=['shoplink_template','up_priced_value_fx','value_fx']\n",
    "preview = register.drop(columns_to_drop_for_visibility,axis=1)\n",
    "preview.sort_values('difference_fx').tail(10)\n"
   ]
  },
  {
   "cell_type": "code",
   "execution_count": null,
   "metadata": {},
   "outputs": [],
   "source": [
    "preview[preview.type_line==\"Polished Breach Scarab\"]"
   ]
  },
  {
   "cell_type": "code",
   "execution_count": null,
   "metadata": {},
   "outputs": [],
   "source": [
    "_register = register[register['type']!='Hard Currency']\n",
    "_register=_register[_register.final_price>1]\n",
    "_register=_register[~_register.type_line.isin(currency_shards)]\n",
    "content= list(_register.apply(lambda row: row.shoplink_template.format(**row),axis=1))\n"
   ]
  },
  {
   "cell_type": "code",
   "execution_count": null,
   "metadata": {},
   "outputs": [],
   "source": [
    "assert len(str(content))< 150_000\n",
    "len(str(content))"
   ]
  },
  {
   "cell_type": "code",
   "execution_count": null,
   "metadata": {},
   "outputs": [],
   "source": [
    "print(\"Liquidizing\")\n",
    "df['datetime']=datetime.datetime.now()\n",
    "df.to_csv(f'reports/{datetime.datetime.now()}.csv')"
   ]
  },
  {
   "cell_type": "code",
   "execution_count": null,
   "metadata": {},
   "outputs": [],
   "source": [
    "\n",
    "dfs=pd.concat([pd.read_csv(file_type_line) for file_type_line in glob.glob('reports/*.csv')])\n",
    "#dfs[\n",
    "hc=dfs.type_line.isin(['Orb of Alteration','Orb of Alchemy','Chaos Orb','Vaal Orb','Divine Orb','Exalted Orb','Mirror Shard','Stacked Deck','Mirror of Kalandra'])\n",
    "dfs.loc[hc,'type']='Hard Currency'\n",
    "dfs[dfs.type=='Hard Currency'].sort_values('datetime').tail(10)\n"
   ]
  },
  {
   "cell_type": "code",
   "execution_count": null,
   "metadata": {},
   "outputs": [],
   "source": [
    "import datetime\n",
    "_dfs=dfs.groupby(['type','datetime']).sum().reset_index().sort_values('type')\n",
    "fig = px.area(_dfs.reset_index(), x=\"datetime\", y=\"chaos_value\",template='plotly_dark', color=\"type\",category_orders={'Hard Currency':1,'Currency':0})\n",
    "fig.show()"
   ]
  },
  {
   "cell_type": "code",
   "execution_count": null,
   "metadata": {
    "scrolled": true
   },
   "outputs": [],
   "source": [
    "_dfs=dfs.groupby(['type','datetime']).sum().reset_index().sort_values('type')\n",
    "_dfs=_dfs[pd.to_datetime(_dfs['datetime'])>datetime.datetime.now()-datetime.timedelta(hours=24)]\n",
    "fig = px.area(_dfs.reset_index(), x=\"datetime\", y=\"chaos_value\",template='plotly_dark', color=\"type\",category_orders={'Hard Currency':1,'Currency':0})\n",
    "fig.show()"
   ]
  },
  {
   "cell_type": "code",
   "execution_count": null,
   "metadata": {},
   "outputs": [],
   "source": [
    "\n",
    "tmp = dfs.groupby(['datetime']).sum().reset_index()\n",
    "tmp['datetime']=pd.to_datetime(tmp['datetime'])\n",
    "tmp=tmp.set_index('datetime')\n",
    "slope = pd.Series(np.gradient(tmp['chaos_value'].values), tmp.index, name='slope')\n",
    "\n",
    "slope.plot()"
   ]
  },
  {
   "cell_type": "code",
   "execution_count": null,
   "metadata": {},
   "outputs": [],
   "source": [
    "dfs=pd.concat([pd.read_csv(file_type_line) for file_type_line in glob.glob('temp/*.csv')])\n",
    "dfs[dfs.type=='Hard Currency'].sort_values(['type_line'])\n"
   ]
  },
  {
   "cell_type": "code",
   "execution_count": null,
   "metadata": {},
   "outputs": [],
   "source": [
    "from forum_updater import update_forum\n",
    "import time\n",
    "print(len(str(content)))\n",
    "\n",
    "assert len(str(content))<49_999"
   ]
  },
  {
   "cell_type": "code",
   "execution_count": null,
   "metadata": {},
   "outputs": [],
   "source": [
    "from datetime import datetime\n",
    "\n",
    "# datetime object containing current date and time\n",
    "now = datetime.now()\n",
    " \n",
    "print(\"now =\", now)\n",
    "\n",
    "# dd/mm/YY H:M:S\n",
    "dt_string = now.strftime(\"%d/%m/%Y %H:%M:%S\")\n",
    "print(\"date and time =\", dt_string)"
   ]
  },
  {
   "cell_type": "code",
   "execution_count": null,
   "metadata": {},
   "outputs": [],
   "source": [
    "_content=[content]#,content[int(l/3):int(2*l/3)],content[int(2*l/3):]]\n",
    "\n",
    "update_forum(\"\\n\".join(_content[0])[:49999],'3194663')\n",
    "# update_forum('asd','3096135')https://www.pathofexile.com/forum/view-thread/3194663"
   ]
  },
  {
   "cell_type": "code",
   "execution_count": null,
   "metadata": {},
   "outputs": [],
   "source": []
  },
  {
   "cell_type": "code",
   "execution_count": null,
   "metadata": {},
   "outputs": [],
   "source": []
  }
 ],
 "metadata": {
  "kernelspec": {
   "display_name": "Python 3",
   "language": "python",
   "name": "python3"
  },
  "language_info": {
   "codemirror_mode": {
    "name": "ipython",
    "version": 3
   },
   "file_extension": ".py",
   "mimetype": "text/x-python",
   "name": "python",
   "nbconvert_exporter": "python",
   "pygments_lexer": "ipython3",
   "version": "3.7.8"
  }
 },
 "nbformat": 4,
 "nbformat_minor": 4
}
