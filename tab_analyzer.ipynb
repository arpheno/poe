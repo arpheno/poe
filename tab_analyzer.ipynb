{
 "cells": [
  {
   "cell_type": "code",
   "execution_count": 1,
   "id": "dac6fe02",
   "metadata": {},
   "outputs": [
    {
     "ename": "ModuleNotFoundError",
     "evalue": "No module named 'torch'",
     "output_type": "error",
     "traceback": [
      "\u001b[0;31m---------------------------------------------------------------------------\u001b[0m",
      "\u001b[0;31mModuleNotFoundError\u001b[0m                       Traceback (most recent call last)",
      "Input \u001b[0;32mIn [1]\u001b[0m, in \u001b[0;36m<module>\u001b[0;34m\u001b[0m\n\u001b[1;32m      3\u001b[0m \u001b[38;5;28;01mimport\u001b[39;00m \u001b[38;5;21;01mpandas\u001b[39;00m \u001b[38;5;28;01mas\u001b[39;00m \u001b[38;5;21;01mpd\u001b[39;00m\n\u001b[1;32m      4\u001b[0m \u001b[38;5;28;01mimport\u001b[39;00m \u001b[38;5;21;01mmatplotlib\u001b[39;00m\u001b[38;5;21;01m.\u001b[39;00m\u001b[38;5;21;01mpyplot\u001b[39;00m \u001b[38;5;28;01mas\u001b[39;00m \u001b[38;5;21;01mplt\u001b[39;00m\n\u001b[0;32m----> 5\u001b[0m \u001b[38;5;28;01mfrom\u001b[39;00m \u001b[38;5;21;01mpoe\u001b[39;00m\u001b[38;5;21;01m.\u001b[39;00m\u001b[38;5;21;01mbulk\u001b[39;00m\u001b[38;5;21;01m.\u001b[39;00m\u001b[38;5;21;01mpredictions\u001b[39;00m \u001b[38;5;28;01mimport\u001b[39;00m \u001b[38;5;241m*\u001b[39m\n\u001b[1;32m      6\u001b[0m \u001b[38;5;28;01mfrom\u001b[39;00m \u001b[38;5;21;01mitertools\u001b[39;00m \u001b[38;5;28;01mimport\u001b[39;00m groupby\n\u001b[1;32m      7\u001b[0m \u001b[38;5;28;01mfrom\u001b[39;00m \u001b[38;5;21;01mpathlib\u001b[39;00m \u001b[38;5;28;01mimport\u001b[39;00m Path \n",
      "File \u001b[0;32m~/work/poe/poe/bulk/predictions.py:4\u001b[0m, in \u001b[0;36m<module>\u001b[0;34m\u001b[0m\n\u001b[1;32m      1\u001b[0m \u001b[38;5;28;01mfrom\u001b[39;00m \u001b[38;5;21;01margparse\u001b[39;00m \u001b[38;5;28;01mimport\u001b[39;00m Namespace\n\u001b[1;32m      3\u001b[0m \u001b[38;5;28;01mimport\u001b[39;00m \u001b[38;5;21;01mcv2\u001b[39;00m\n\u001b[0;32m----> 4\u001b[0m \u001b[38;5;28;01mimport\u001b[39;00m \u001b[38;5;21;01mtorch\u001b[39;00m\n\u001b[1;32m      5\u001b[0m \u001b[38;5;28;01mfrom\u001b[39;00m \u001b[38;5;21;01measyocr\u001b[39;00m\u001b[38;5;21;01m.\u001b[39;00m\u001b[38;5;21;01mutils\u001b[39;00m \u001b[38;5;28;01mimport\u001b[39;00m CTCLabelConverter\n\u001b[1;32m      7\u001b[0m \u001b[38;5;28;01mfrom\u001b[39;00m \u001b[38;5;21;01mpoe\u001b[39;00m\u001b[38;5;21;01m.\u001b[39;00m\u001b[38;5;21;01mbulk\u001b[39;00m\u001b[38;5;21;01m.\u001b[39;00m\u001b[38;5;21;01mmodel\u001b[39;00m\u001b[38;5;21;01m.\u001b[39;00m\u001b[38;5;21;01mmodel_builder\u001b[39;00m \u001b[38;5;28;01mimport\u001b[39;00m model_builder\n",
      "\u001b[0;31mModuleNotFoundError\u001b[0m: No module named 'torch'"
     ]
    }
   ],
   "source": [
    "import cv2,os\n",
    "import numpy as np\n",
    "import pandas as pd\n",
    "import matplotlib.pyplot as plt\n",
    "from poe.bulk.predictions import *\n",
    "from itertools import groupby\n",
    "from pathlib import Path \n",
    "from poe.bulk.image_cutter import *\n",
    "import hashlib\n",
    "from collections import defaultdict\n",
    "import easyocr\n",
    "from Levenshtein.StringMatcher import StringMatcher\n",
    "from poe.ninja import retrieve_prices\n",
    "from poe.valuation import own_valuations\n",
    "\n",
    "display = pd.options.display\n",
    "\n",
    "display.max_columns = 1000\n",
    "display.max_rows = 10000\n",
    "reader = easyocr.Reader(['en']) # this needs to run only once to load the model into memory\n",
    "plt.style.use('dark_background')\n",
    "%matplotlib inline"
   ]
  },
  {
   "cell_type": "code",
   "execution_count": null,
   "id": "dd2a8225",
   "metadata": {},
   "outputs": [],
   "source": [
    "reader = easyocr.Reader(['en']) # this needs to run only once to load the model into memory\n",
    "prices= retrieve_prices()\n",
    "valuations=own_valuations(prices)"
   ]
  },
  {
   "cell_type": "code",
   "execution_count": null,
   "id": "b9490813",
   "metadata": {},
   "outputs": [],
   "source": [
    "def parse_numbers(img):\n",
    "    assert img.shape[0]*img.shape[1]>0\n",
    "    cols_of_interest=[1,6,8,11,13,14,19,21,24,26]\n",
    "\n",
    "    try:\n",
    "        frags=cut_image_to_frags(img)\n",
    "    except Exception as e: \n",
    "        print(f'could not be processed:{e}')\n",
    "        plt.figure(figsize=(20,20))\n",
    "        plt.imshow(img)\n",
    "        raise\n",
    "\n",
    "    results=defaultdict(dict)\n",
    "    for col in cols_of_interest:\n",
    "        for row,frag in enumerate(frags[col]):\n",
    "            _frag=normalize_frag(frag,target=(32,80))\n",
    "#             plt.figure()\n",
    "#             plt.imshow(_frag)\n",
    "#             plt.show()\n",
    "            result = predict_wrapper(_frag)\n",
    "#             input(f'{result} next?')\n",
    "            results[col][row]=result.replace('..','9.')\n",
    "    return results\n",
    "def parse_text(img,reader):\n",
    "    assert img.shape[0]*img.shape[1]>0\n",
    "    cols_of_interest=[4,17]\n",
    "    try:\n",
    "        frags=cut_image_to_frags(img)\n",
    "    except Exception as e: \n",
    "        print(f'{path,img_hash} could not be processed:{e}')\n",
    "        plt.figure(figsize=(20,20))\n",
    "        plt.imshow(img)\n",
    "        raise\n",
    "    results=defaultdict(dict)\n",
    "    for col in cols_of_interest:\n",
    "        \n",
    "        for row,frag in enumerate(frags[col]):\n",
    "            result=reader.readtext(frag)\n",
    "            if result:\n",
    "                results[col][row]=result[0][1]\n",
    "    return results"
   ]
  },
  {
   "cell_type": "code",
   "execution_count": null,
   "id": "c5adef35",
   "metadata": {},
   "outputs": [],
   "source": [
    "path='poe/bulk/data/tabs/unknown (35).png'\n",
    "\n",
    "img=cv2.imread(path)\n",
    "results=parse_numbers(img)\n",
    "numbers=pd.DataFrame(results)\n",
    "numbers.head()"
   ]
  },
  {
   "cell_type": "code",
   "execution_count": null,
   "id": "b3d4448e",
   "metadata": {},
   "outputs": [],
   "source": [
    "img=cv2.imread(path)\n",
    "strings=pd.DataFrame(parse_text(img, reader))\n",
    "strings.head()"
   ]
  },
  {
   "cell_type": "code",
   "execution_count": null,
   "id": "b8f02bb1",
   "metadata": {},
   "outputs": [],
   "source": [
    "\n",
    "def map_read_to_ninja(read_from_picture, prices):\n",
    "    \n",
    "    raw=str(read_from_picture).lower()\n",
    "    augmented=[f'the {raw}',f'{raw} scarab',raw]\n",
    "    asd = max([(StringMatcher(seq1=candidate, seq2=str(y).lower()).ratio(), y, read_from_picture) for y in prices for candidate in augmented])[1]\n",
    "    return asd\n",
    "from functools import partial\n",
    "strings_processed=strings.applymap(partial(map_read_to_ninja,prices=prices))\n",
    "strings_processed.head()"
   ]
  },
  {
   "cell_type": "code",
   "execution_count": null,
   "id": "8b7fa9f0",
   "metadata": {},
   "outputs": [],
   "source": [
    "df=numbers.join(strings_processed)\n",
    "df=df[sorted(df.columns)].rename({1:'quantity',4:'name',6:'price',8:'asking_price',11:'total_chaos',13:'total_exalt',14:'quantity',17:'name',19:'price',21:'asking_price',24:'total_chaos',26:'total_exalt'},axis=1)\n",
    "left=df.iloc[:,int(len(df.columns)/2):]\n",
    "right=df.iloc[:,:int(len(df.columns)/2)]\n",
    "df=pd.concat([left,right],ignore_index=True,axis=0)\n",
    "df=df[df.price!='']\n",
    "df['total_chaos']=df.total_chaos.astype(float)\n",
    "df=df.set_index('name').astype('float')\n",
    "df['total_chaos']=df.quantity*df.asking_price\n",
    "print(df['total_chaos'].sum())\n",
    "df.head()"
   ]
  },
  {
   "cell_type": "code",
   "execution_count": null,
   "id": "4d87acfc",
   "metadata": {},
   "outputs": [],
   "source": [
    "df=df.join(pd.Series(valuations,name='valuation')).drop(['total_exalt','total_chaos'],axis=1)\n",
    "df['valuation']=df['valuation'].fillna(df.price)\n",
    "df=df.rename({'price':'ninja'},axis=1)\n",
    "df.head()"
   ]
  },
  {
   "cell_type": "code",
   "execution_count": null,
   "id": "b285290b",
   "metadata": {},
   "outputs": [],
   "source": [
    "df['own']=df.quantity*df.valuation\n",
    "df['their']=df.quantity*df.asking_price\n",
    "df['ratio']=df.their/df.own\n",
    "df.sort_values('own',ascending=False).query('ratio<0.7')"
   ]
  },
  {
   "cell_type": "code",
   "execution_count": null,
   "id": "02908072",
   "metadata": {},
   "outputs": [],
   "source": []
  },
  {
   "cell_type": "code",
   "execution_count": null,
   "id": "07c44306",
   "metadata": {},
   "outputs": [],
   "source": [
    "print((df.quantity*df.valuation).sum())\n",
    "(df.quantity*df.valuation).sort_values(ascending=False)"
   ]
  },
  {
   "cell_type": "code",
   "execution_count": null,
   "id": "11cdf03d",
   "metadata": {},
   "outputs": [],
   "source": [
    "(df.quantity*df.valuation-df.quantity*df.asking_price).sum()"
   ]
  },
  {
   "cell_type": "code",
   "execution_count": null,
   "id": "725d23a2",
   "metadata": {},
   "outputs": [],
   "source": [
    "(df.quantity*df.ninja).sum()/(df.quantity*df.valuation).sum()"
   ]
  },
  {
   "cell_type": "code",
   "execution_count": null,
   "id": "894c7b90",
   "metadata": {},
   "outputs": [],
   "source": []
  }
 ],
 "metadata": {
  "kernelspec": {
   "display_name": "Python 3 (ipykernel)",
   "language": "python",
   "name": "python3"
  },
  "language_info": {
   "codemirror_mode": {
    "name": "ipython",
    "version": 3
   },
   "file_extension": ".py",
   "mimetype": "text/x-python",
   "name": "python",
   "nbconvert_exporter": "python",
   "pygments_lexer": "ipython3",
   "version": "3.10.0"
  }
 },
 "nbformat": 4,
 "nbformat_minor": 5
}
